{
 "cells": [
  {
   "cell_type": "code",
   "execution_count": 9,
   "source": [
    "import numpy as np"
   ],
   "outputs": [],
   "metadata": {}
  },
  {
   "cell_type": "markdown",
   "source": [
    "## Array creation"
   ],
   "metadata": {}
  },
  {
   "cell_type": "code",
   "execution_count": 8,
   "source": [
    "import numpy as np\r\n",
    "data = np.array([1, 2, 3])\r\n",
    "\r\n",
    "print(data + data)\r\n",
    "print(data * data)"
   ],
   "outputs": [
    {
     "output_type": "stream",
     "name": "stdout",
     "text": [
      "[2 4 6]\n",
      "[1 4 9]\n"
     ]
    }
   ],
   "metadata": {}
  },
  {
   "cell_type": "code",
   "execution_count": 12,
   "source": [
    "print(np.array([1, 2, 3]))\r\n",
    "print(np.array([[1, 2, 3], [1, 2, 3]]))"
   ],
   "outputs": [
    {
     "output_type": "stream",
     "name": "stdout",
     "text": [
      "[1 2 3]\n",
      "[[1 2 3]\n",
      " [1 2 3]]\n"
     ]
    }
   ],
   "metadata": {}
  },
  {
   "cell_type": "code",
   "execution_count": 13,
   "source": [
    "arr = np.array([[1, 2, 3], [1, 2, 3]])\r\n",
    "print(arr.ndim)\r\n",
    "print(arr.shape)"
   ],
   "outputs": [
    {
     "output_type": "stream",
     "name": "stdout",
     "text": [
      "2\n",
      "(2, 3)\n"
     ]
    }
   ],
   "metadata": {}
  },
  {
   "cell_type": "code",
   "execution_count": 15,
   "source": [
    "print(np.zeros(5))\r\n",
    "print(np.ones((2, 3)))\r\n",
    "\r\n",
    "print(np.arange(11))"
   ],
   "outputs": [
    {
     "output_type": "stream",
     "name": "stdout",
     "text": [
      "[0. 0. 0. 0. 0.]\n",
      "[[1. 1. 1.]\n",
      " [1. 1. 1.]]\n",
      "[ 0  1  2  3  4  5  6  7  8  9 10]\n"
     ]
    }
   ],
   "metadata": {}
  },
  {
   "cell_type": "markdown",
   "source": [
    "## Data types"
   ],
   "metadata": {}
  },
  {
   "cell_type": "code",
   "execution_count": 6,
   "source": [
    "arr = np.array([1, 2, 3])\r\n",
    "print(arr.dtype)\r\n",
    "\r\n",
    "float_arr = arr.astype(np.float64)\r\n",
    "print(float_arr.dtype)\r\n",
    "\r\n",
    "bool_arr = np.array([1, 1, 0], dtype=np.bool) \r\n",
    "print(bool_arr)"
   ],
   "outputs": [
    {
     "output_type": "stream",
     "name": "stdout",
     "text": [
      "int64\n",
      "float64\n",
      "[ True  True False]\n"
     ]
    }
   ],
   "metadata": {}
  },
  {
   "cell_type": "markdown",
   "source": [
    "## Indexing and Slicing"
   ],
   "metadata": {}
  },
  {
   "cell_type": "code",
   "execution_count": 16,
   "source": [
    "arr = np.array([1, 2, 3, 4])\r\n",
    "print(arr[0])\r\n",
    "print(arr[0:2])\r\n",
    "arr[0:2] = 0\r\n",
    "print(arr)"
   ],
   "outputs": [
    {
     "output_type": "stream",
     "name": "stdout",
     "text": [
      "1\n",
      "[1 2]\n",
      "[0 0 3 4]\n"
     ]
    }
   ],
   "metadata": {}
  },
  {
   "cell_type": "code",
   "execution_count": 8,
   "source": [
    "arr = np.array([1, 2, 3, 4])\r\n",
    "new_arr = arr[0:2].copy()\r\n",
    "new_arr = 0\r\n",
    "print(arr)"
   ],
   "outputs": [
    {
     "output_type": "stream",
     "name": "stdout",
     "text": [
      "[1 2 3 4]\n"
     ]
    }
   ],
   "metadata": {}
  },
  {
   "cell_type": "code",
   "execution_count": 9,
   "source": [
    "arr = np.array([[1, 2], [3, 4]])\r\n",
    "print(arr[0, 0])"
   ],
   "outputs": [
    {
     "output_type": "stream",
     "name": "stdout",
     "text": [
      "1\n"
     ]
    }
   ],
   "metadata": {}
  },
  {
   "cell_type": "code",
   "execution_count": 10,
   "source": [
    "arr = np.array([[1, 2], [3, 4], [5, 6]])\r\n",
    "print(arr[:, 0])"
   ],
   "outputs": [
    {
     "output_type": "stream",
     "name": "stdout",
     "text": [
      "[1 3 5]\n"
     ]
    }
   ],
   "metadata": {}
  },
  {
   "cell_type": "markdown",
   "source": [
    "## Boolean indexing"
   ],
   "metadata": {}
  },
  {
   "cell_type": "code",
   "execution_count": 11,
   "source": [
    "arr = np.array([1, 2, 3, 4, 5, 6])\r\n",
    "print(arr % 2 == 0)\r\n",
    "print(arr[arr % 2 == 0])"
   ],
   "outputs": [
    {
     "output_type": "stream",
     "name": "stdout",
     "text": [
      "[False  True False  True False  True]\n",
      "[2 4 6]\n"
     ]
    }
   ],
   "metadata": {}
  },
  {
   "cell_type": "markdown",
   "source": [
    "## Transposing Arrays"
   ],
   "metadata": {}
  },
  {
   "cell_type": "code",
   "execution_count": 12,
   "source": [
    "arr = np.arange(4).reshape((2, 2))\r\n",
    "print(arr)\r\n",
    "print(arr.T)"
   ],
   "outputs": [
    {
     "output_type": "stream",
     "name": "stdout",
     "text": [
      "[[0 1]\n",
      " [2 3]]\n",
      "[[0 2]\n",
      " [1 3]]\n"
     ]
    }
   ],
   "metadata": {}
  },
  {
   "cell_type": "markdown",
   "source": [
    "## Element-Wise operations"
   ],
   "metadata": {}
  },
  {
   "cell_type": "code",
   "execution_count": 13,
   "source": [
    "arr = np.array([np.nan, 0, 1])\r\n",
    "print(np.isnan(arr))\r\n",
    "\r\n",
    "print(np.isnan(arr).all())\r\n",
    "print(np.isnan(arr).any())"
   ],
   "outputs": [
    {
     "output_type": "stream",
     "name": "stdout",
     "text": [
      "[ True False False]\n",
      "False\n",
      "True\n"
     ]
    }
   ],
   "metadata": {}
  },
  {
   "cell_type": "markdown",
   "source": [
    "## Meshgrids"
   ],
   "metadata": {}
  },
  {
   "cell_type": "code",
   "execution_count": 19,
   "source": [
    "points = np.arange(-10, 10, 0.1) # equally spaced points\r\n",
    "xs, ys = np.meshgrid(points, points)\r\n",
    "zs = np.sin(xs) + np.cos(ys)"
   ],
   "outputs": [],
   "metadata": {}
  },
  {
   "cell_type": "code",
   "execution_count": 20,
   "source": [
    "points = np.arange(-10, 10, 0.1) # equally spaced points\r\n",
    "xs, ys = np.meshgrid(points, points)\r\n",
    "zs = np.sin(xs) + np.cos(ys)\r\n",
    "%matplotlib inline\r\n",
    "import matplotlib.pyplot as plt\r\n",
    "\r\n",
    "plt.imshow(zs, cmap=plt.cm.gray); plt.colorbar()\r\n",
    "pass"
   ],
   "outputs": [
    {
     "output_type": "display_data",
     "data": {
      "image/png": "[encoded data removed]",
      "text/plain": [
       "<Figure size 432x288 with 2 Axes>"
      ]
     },
     "metadata": {
      "needs_background": "light"
     }
    }
   ],
   "metadata": {}
  },
  {
   "cell_type": "markdown",
   "source": [
    "## Random number generation"
   ],
   "metadata": {}
  },
  {
   "cell_type": "code",
   "execution_count": 26,
   "source": [
    "print(np.random.normal(size=(4, 4)))\r\n",
    "print(np.random.uniform(size=10))"
   ],
   "outputs": [
    {
     "output_type": "stream",
     "name": "stdout",
     "text": [
      "[[ 0.34027451 -2.62470182 -0.71821623  1.24718241]\n",
      " [ 0.41126716  0.85164123 -1.0778792   1.01067504]\n",
      " [-0.40880515 -0.31641881 -1.19945047 -0.71384073]\n",
      " [-0.43803178 -0.86990205 -0.74782885  2.06396859]]\n",
      "[0.54374416 0.91394234 0.44970837 0.67348397 0.23596808 0.19328079\n",
      " 0.26887993 0.53258217 0.59350372 0.56651814]\n"
     ]
    }
   ],
   "metadata": {}
  },
  {
   "cell_type": "markdown",
   "source": [
    "## Reshaping"
   ],
   "metadata": {}
  },
  {
   "cell_type": "code",
   "execution_count": 27,
   "source": [
    "arr = np.arange(8)\r\n",
    "print(arr.reshape((4, 2)))"
   ],
   "outputs": [
    {
     "output_type": "stream",
     "name": "stdout",
     "text": [
      "[[0 1]\n",
      " [2 3]\n",
      " [4 5]\n",
      " [6 7]]\n"
     ]
    }
   ],
   "metadata": {}
  },
  {
   "cell_type": "markdown",
   "source": [
    "## Sorting"
   ],
   "metadata": {}
  },
  {
   "cell_type": "code",
   "execution_count": 25,
   "source": [
    "arr = np.random.normal(size=8)\r\n",
    "np.sort(arr)"
   ],
   "outputs": [
    {
     "output_type": "execute_result",
     "data": {
      "text/plain": [
       "array([-2.02364572, -1.69023577, -0.83989834, -0.35097037, -0.16020022,\n",
       "       -0.04643472,  0.08151053,  0.43051778])"
      ]
     },
     "metadata": {},
     "execution_count": 25
    }
   ],
   "metadata": {}
  }
 ],
 "metadata": {
  "kernelspec": {
   "name": "python3",
   "display_name": "Python 3.8.12 64-bit ('strive': conda)"
  },
  "language_info": {
   "codemirror_mode": {
    "name": "ipython",
    "version": 3
   },
   "file_extension": ".py",
   "mimetype": "text/x-python",
   "name": "python",
   "nbconvert_exporter": "python",
   "pygments_lexer": "ipython3",
   "version": "3.8.12"
  },
  "interpreter": {
   "hash": "763b6704233f6f99bd0682f049aa4760664e7c21df0db9c860628aa9bd9383e2"
  }
 },
 "nbformat": 4,
 "nbformat_minor": 2
}