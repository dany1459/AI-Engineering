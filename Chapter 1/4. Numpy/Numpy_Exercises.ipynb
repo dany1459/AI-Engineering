{
 "cells": [
  {
   "cell_type": "markdown",
   "source": [
    "## Remember that the solutions need to be saved int variable provided."
   ],
   "metadata": {}
  },
  {
   "cell_type": "code",
   "execution_count": 2,
   "source": [
    "# Import the needed libraries\r\n",
    "import numpy as np"
   ],
   "outputs": [],
   "metadata": {}
  },
  {
   "cell_type": "markdown",
   "source": [
    "**13. Create a 10x10 array with random values and find the minimum and maximum values**"
   ],
   "metadata": {
    "deletable": false,
    "editable": false,
    "nbgrader": {
     "cell_type": "markdown",
     "checksum": "1a39df2a0ee2ece9e42fc92195613df8",
     "grade": false,
     "grade_id": "cell-ae105ff48d81e52c",
     "locked": true,
     "schema_version": 3,
     "solution": false,
     "task": false
    }
   }
  },
  {
   "cell_type": "code",
   "execution_count": 115,
   "source": [
    "import numpy as np\r\n",
    "sol1 = np.random.randint(100, size=(10, 10))\r\n",
    "print(sol1)\r\n",
    "print(np.amax(sol1))\r\n",
    "print(np.amin(sol1))\r\n",
    "# raise NotImplementedError()"
   ],
   "outputs": [
    {
     "output_type": "stream",
     "name": "stdout",
     "text": [
      "[[21 18 43 42 40 41 31 52 54 10]\n",
      " [86  1 32 15  4 82 91 72  9 66]\n",
      " [62  8 43 20 77 23 98 45 96 46]\n",
      " [12 59 43  1 76 42 48 68 51 59]\n",
      " [41 93 86 47 61 45 29  6 24 34]\n",
      " [ 8 52 29 97 97 39 58 71  8 50]\n",
      " [29 98 10 62 95 98 30  7 28 32]\n",
      " [96 33 17 10 38 55 87 37 59 94]\n",
      " [16 38 64 72 69 27 86 41 32 81]\n",
      " [40  1 32 15 92 22 76  6 25 16]]\n",
      "98\n",
      "1\n"
     ]
    }
   ],
   "metadata": {
    "deletable": false,
    "nbgrader": {
     "cell_type": "code",
     "checksum": "e939193eeb6a59d4260517d4af3eaadb",
     "grade": false,
     "grade_id": "cell-d37d68df72162149",
     "locked": false,
     "schema_version": 3,
     "solution": true,
     "task": false
    }
   }
  },
  {
   "cell_type": "code",
   "execution_count": 116,
   "source": [
    "np.sort(sol1)"
   ],
   "outputs": [
    {
     "output_type": "execute_result",
     "data": {
      "text/plain": [
       "array([[10, 18, 21, 31, 40, 41, 42, 43, 52, 54],\n",
       "       [ 1,  4,  9, 15, 32, 66, 72, 82, 86, 91],\n",
       "       [ 8, 20, 23, 43, 45, 46, 62, 77, 96, 98],\n",
       "       [ 1, 12, 42, 43, 48, 51, 59, 59, 68, 76],\n",
       "       [ 6, 24, 29, 34, 41, 45, 47, 61, 86, 93],\n",
       "       [ 8,  8, 29, 39, 50, 52, 58, 71, 97, 97],\n",
       "       [ 7, 10, 28, 29, 30, 32, 62, 95, 98, 98],\n",
       "       [10, 17, 33, 37, 38, 55, 59, 87, 94, 96],\n",
       "       [16, 27, 32, 38, 41, 64, 69, 72, 81, 86],\n",
       "       [ 1,  6, 15, 16, 22, 25, 32, 40, 76, 92]])"
      ]
     },
     "metadata": {},
     "execution_count": 116
    }
   ],
   "metadata": {
    "deletable": false,
    "editable": false,
    "nbgrader": {
     "cell_type": "code",
     "checksum": "783f9069dd18b6ec27701770f225a148",
     "grade": true,
     "grade_id": "cell-f1d4fa08074f4dcd",
     "locked": true,
     "points": 1,
     "schema_version": 3,
     "solution": false,
     "task": false
    }
   }
  },
  {
   "cell_type": "markdown",
   "source": [
    "**15. Create a 2d 10x10 array with 1 on the border and 0 inside**"
   ],
   "metadata": {}
  },
  {
   "cell_type": "code",
   "execution_count": 101,
   "source": [
    "import numpy as np\r\n",
    "sol2 = np.ones((10,10))\r\n",
    "sol2[1:-1, 1:-1] = 0\r\n",
    "print(sol2)"
   ],
   "outputs": [
    {
     "output_type": "stream",
     "name": "stdout",
     "text": [
      "[[1. 1. 1. 1. 1. 1. 1. 1. 1. 1.]\n",
      " [1. 0. 0. 0. 0. 0. 0. 0. 0. 1.]\n",
      " [1. 0. 0. 0. 0. 0. 0. 0. 0. 1.]\n",
      " [1. 0. 0. 0. 0. 0. 0. 0. 0. 1.]\n",
      " [1. 0. 0. 0. 0. 0. 0. 0. 0. 1.]\n",
      " [1. 0. 0. 0. 0. 0. 0. 0. 0. 1.]\n",
      " [1. 0. 0. 0. 0. 0. 0. 0. 0. 1.]\n",
      " [1. 0. 0. 0. 0. 0. 0. 0. 0. 1.]\n",
      " [1. 0. 0. 0. 0. 0. 0. 0. 0. 1.]\n",
      " [1. 1. 1. 1. 1. 1. 1. 1. 1. 1.]]\n"
     ]
    }
   ],
   "metadata": {
    "deletable": false,
    "nbgrader": {
     "cell_type": "code",
     "checksum": "4f00b53c9ecc26403bf5bd660c3f033c",
     "grade": false,
     "grade_id": "cell-6584e6c544771f0c",
     "locked": false,
     "schema_version": 3,
     "solution": true,
     "task": false
    }
   }
  },
  {
   "cell_type": "code",
   "execution_count": null,
   "source": [],
   "outputs": [],
   "metadata": {
    "deletable": false,
    "editable": false,
    "nbgrader": {
     "cell_type": "code",
     "checksum": "06bd7af6a0273b28869865b4dd35fef5",
     "grade": true,
     "grade_id": "cell-9429aab0f4477a86",
     "locked": true,
     "points": 1,
     "schema_version": 3,
     "solution": false,
     "task": false
    }
   }
  },
  {
   "cell_type": "markdown",
   "source": [
    "**34. How to get all the dates corresponding to the month of July 2016**"
   ],
   "metadata": {}
  },
  {
   "cell_type": "code",
   "execution_count": 107,
   "source": [
    "import numpy as np\r\n",
    "print(np.arange('2016-07', '2016-08', dtype='datetime64[D]'))\r\n",
    "\r\n",
    "# print(sol3[0].dtype)"
   ],
   "outputs": [
    {
     "output_type": "stream",
     "name": "stdout",
     "text": [
      "['2016-07-01' '2016-07-02' '2016-07-03' '2016-07-04' '2016-07-05'\n",
      " '2016-07-06' '2016-07-07' '2016-07-08' '2016-07-09' '2016-07-10'\n",
      " '2016-07-11' '2016-07-12' '2016-07-13' '2016-07-14' '2016-07-15'\n",
      " '2016-07-16' '2016-07-17' '2016-07-18' '2016-07-19' '2016-07-20'\n",
      " '2016-07-21' '2016-07-22' '2016-07-23' '2016-07-24' '2016-07-25'\n",
      " '2016-07-26' '2016-07-27' '2016-07-28' '2016-07-29' '2016-07-30'\n",
      " '2016-07-31']\n"
     ]
    }
   ],
   "metadata": {
    "deletable": false,
    "nbgrader": {
     "cell_type": "code",
     "checksum": "0c0c212e8014f00f5ede5ec4ea42e584",
     "grade": false,
     "grade_id": "cell-9784b014be5fdf5a",
     "locked": false,
     "schema_version": 3,
     "solution": true,
     "task": false
    }
   }
  },
  {
   "cell_type": "code",
   "execution_count": null,
   "source": [
    "assert sol3.shape == (31,)\r\n",
    "assert type(sol3[0]) is np.datetime64"
   ],
   "outputs": [],
   "metadata": {
    "deletable": false,
    "editable": false,
    "nbgrader": {
     "cell_type": "code",
     "checksum": "b208a834c29619be08b9f9a7887b7087",
     "grade": true,
     "grade_id": "cell-8beeae591e9b50ed",
     "locked": true,
     "points": 2,
     "schema_version": 3,
     "solution": false,
     "task": false
    }
   }
  },
  {
   "cell_type": "markdown",
   "source": [
    "**42. Consider two random arrays based on the normal and uniform distributions 10x10 sol41 and sol42, check if they are equal**"
   ],
   "metadata": {}
  },
  {
   "cell_type": "code",
   "execution_count": 119,
   "source": [
    "sol41 = np.random.normal(size=(10, 10))\r\n",
    "sol42 = np.random.uniform(size=(10, 10))\r\n",
    "comparisson = sol41 == sol42\r\n",
    "print(comparisson.all())"
   ],
   "outputs": [
    {
     "output_type": "stream",
     "name": "stdout",
     "text": [
      "False\n"
     ]
    }
   ],
   "metadata": {
    "deletable": false,
    "nbgrader": {
     "cell_type": "code",
     "checksum": "52c996342988d9baa17167d47cf5701c",
     "grade": false,
     "grade_id": "cell-5000744434ae05a2",
     "locked": false,
     "schema_version": 3,
     "solution": true,
     "task": false
    }
   }
  },
  {
   "cell_type": "code",
   "execution_count": 74,
   "source": [
    "bol = True\r\n",
    "\r\n",
    "for l in comparisson:\r\n",
    "    for c in l:\r\n",
    "        if c:\r\n",
    "            bol = False\r\n",
    "\r\n",
    "\r\n",
    "assert bol"
   ],
   "outputs": [],
   "metadata": {
    "deletable": false,
    "editable": false,
    "nbgrader": {
     "cell_type": "code",
     "checksum": "6b10c43e0c33791bc40a0b3e2e9cc071",
     "grade": true,
     "grade_id": "cell-807bf6c3ff3f3b0d",
     "locked": true,
     "points": 2,
     "schema_version": 3,
     "solution": false,
     "task": false
    }
   }
  },
  {
   "cell_type": "markdown",
   "source": [
    "**72. How to swap two rows of an array?** "
   ],
   "metadata": {}
  },
  {
   "cell_type": "code",
   "execution_count": 93,
   "source": [
    "#3 points\r\n",
    "sol5 = np.array([[1,2,3],[4,5,6]])\r\n",
    "sol5[[0, 1]] = sol5[[1, 0]]\r\n",
    "print(sol5)\r\n",
    "\r\n",
    "# raise NotImplementedError()"
   ],
   "outputs": [
    {
     "output_type": "stream",
     "name": "stdout",
     "text": [
      "[[4 5 6]\n",
      " [1 2 3]]\n"
     ]
    }
   ],
   "metadata": {
    "deletable": false,
    "nbgrader": {
     "cell_type": "code",
     "checksum": "ccca804156ed12777f188de3084a7145",
     "grade": false,
     "grade_id": "cell-079026f268b5211c",
     "locked": false,
     "schema_version": 3,
     "solution": true,
     "task": false
    }
   }
  },
  {
   "cell_type": "code",
   "execution_count": null,
   "source": [
    "assert sol5[0][0] == 4\r\n",
    "assert sol5[0][1] == 5\r\n",
    "assert sol5[0][2] == 6\r\n",
    "\r\n",
    "assert sol5[1][0] == 1\r\n",
    "assert sol5[1][1] == 2\r\n",
    "assert sol5[1][2] == 3\r\n"
   ],
   "outputs": [],
   "metadata": {
    "deletable": false,
    "editable": false,
    "nbgrader": {
     "cell_type": "code",
     "checksum": "1ad68d0086b2abc9dd89dc54d9868d2c",
     "grade": true,
     "grade_id": "cell-e4f878f0864f33bd",
     "locked": true,
     "points": 3,
     "schema_version": 3,
     "solution": false,
     "task": false
    }
   }
  },
  {
   "cell_type": "markdown",
   "source": [
    "**75. How to compute averages using a sliding window over an array?**"
   ],
   "metadata": {}
  },
  {
   "cell_type": "code",
   "execution_count": 120,
   "source": [
    "arr = np.array([1,2,3,4,5,6,7,8,9,10])\r\n",
    "lists = []\r\n",
    "total = 0\r\n",
    "for i in range(len(arr)):\r\n",
    "    total += arr[i:i+1]\r\n",
    "    average = total / len(arr)\r\n",
    "    lists.append(average)\r\n",
    "    \r\n",
    "reshape_array = np.array(lists).reshape(1, 10)\r\n",
    "print(reshape_array)\r\n"
   ],
   "outputs": [
    {
     "output_type": "stream",
     "name": "stdout",
     "text": [
      "[[0.1 0.3 0.6 1.  1.5 2.1 2.8 3.6 4.5 5.5]]\n"
     ]
    }
   ],
   "metadata": {
    "deletable": false,
    "nbgrader": {
     "cell_type": "code",
     "checksum": "ff4ef295ceace892027e6fce4f7eb266",
     "grade": false,
     "grade_id": "cell-ccafbda4e4cb7996",
     "locked": false,
     "schema_version": 3,
     "solution": true,
     "task": false
    }
   }
  },
  {
   "cell_type": "code",
   "execution_count": null,
   "source": [
    "assert sol6[-1] == 5.5\r\n",
    "assert sol6[0] == 0.1\r\n",
    "assert sol6[4] == 1.5"
   ],
   "outputs": [],
   "metadata": {
    "deletable": false,
    "editable": false,
    "nbgrader": {
     "cell_type": "code",
     "checksum": "fabc3056e9ed22951d83c4012d5ec189",
     "grade": true,
     "grade_id": "cell-1983fc0078a860ff",
     "locked": true,
     "points": 3,
     "schema_version": 3,
     "solution": false,
     "task": false
    }
   }
  },
  {
   "cell_type": "code",
   "execution_count": null,
   "source": [],
   "outputs": [],
   "metadata": {}
  }
 ],
 "metadata": {
  "kernelspec": {
   "name": "python3",
   "display_name": "Python 3.8.12 64-bit ('strive': conda)"
  },
  "language_info": {
   "codemirror_mode": {
    "name": "ipython",
    "version": 3
   },
   "file_extension": ".py",
   "mimetype": "text/x-python",
   "name": "python",
   "nbconvert_exporter": "python",
   "pygments_lexer": "ipython3",
   "version": "3.8.12"
  },
  "interpreter": {
   "hash": "763b6704233f6f99bd0682f049aa4760664e7c21df0db9c860628aa9bd9383e2"
  }
 },
 "nbformat": 4,
 "nbformat_minor": 5
}