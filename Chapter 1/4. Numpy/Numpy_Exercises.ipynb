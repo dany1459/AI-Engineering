{
 "cells": [
  {
   "cell_type": "markdown",
   "source": [
    "## Remember that the solutions need to be saved int variable provided."
   ],
   "metadata": {}
  },
  {
   "cell_type": "code",
   "execution_count": 2,
   "source": [
    "# Import the needed libraries\r\n",
    "import numpy as np"
   ],
   "outputs": [],
   "metadata": {}
  },
  {
   "cell_type": "markdown",
   "source": [
    "**13. Create a 10x10 array with random values and find the minimum and maximum values**"
   ],
   "metadata": {
    "deletable": false,
    "editable": false,
    "nbgrader": {
     "cell_type": "markdown",
     "checksum": "1a39df2a0ee2ece9e42fc92195613df8",
     "grade": false,
     "grade_id": "cell-ae105ff48d81e52c",
     "locked": true,
     "schema_version": 3,
     "solution": false,
     "task": false
    }
   }
  },
  {
   "cell_type": "code",
   "execution_count": 51,
   "source": [
    "import numpy as np\r\n",
    "sol1 = np.random.rand(10, 10)\r\n",
    "print(sol1)\r\n",
    "\r\n",
    "# raise NotImplementedError()"
   ],
   "outputs": [
    {
     "output_type": "stream",
     "name": "stdout",
     "text": [
      "[[0.15594628 0.78374232 0.30731307 0.4252078  0.88728615 0.23002178\n",
      "  0.06773717 0.33741996 0.18242796 0.86313631]\n",
      " [0.22817063 0.9139036  0.40333199 0.84083618 0.84384652 0.07161984\n",
      "  0.883704   0.04077174 0.60643912 0.38764435]\n",
      " [0.67905664 0.40646299 0.62898477 0.74101535 0.05099125 0.76065628\n",
      "  0.249577   0.09016381 0.52296341 0.58900848]\n",
      " [0.14329721 0.3733392  0.46313306 0.79333765 0.27757653 0.83940906\n",
      "  0.13502166 0.30083111 0.61864705 0.12693387]\n",
      " [0.83962898 0.25989417 0.89653993 0.5366024  0.72912918 0.17481421\n",
      "  0.63533696 0.2057344  0.21539231 0.63799855]\n",
      " [0.47520592 0.09532809 0.211024   0.94069682 0.5855294  0.54093762\n",
      "  0.16630894 0.17896099 0.1385452  0.34809641]\n",
      " [0.18185981 0.04138454 0.29438545 0.53028805 0.79873491 0.71010489\n",
      "  0.95868711 0.42483103 0.26890692 0.77610401]\n",
      " [0.0203413  0.48482541 0.98011295 0.15596964 0.9054     0.24241913\n",
      "  0.20584571 0.83043717 0.63639675 0.07550039]\n",
      " [0.46526379 0.57206605 0.43724993 0.37458477 0.82179407 0.19720453\n",
      "  0.41417857 0.67523715 0.73631288 0.7529105 ]\n",
      " [0.74860785 0.67883142 0.2602597  0.32469632 0.53803118 0.73574558\n",
      "  0.24383927 0.61831019 0.44978737 0.25744975]]\n"
     ]
    }
   ],
   "metadata": {
    "deletable": false,
    "nbgrader": {
     "cell_type": "code",
     "checksum": "e939193eeb6a59d4260517d4af3eaadb",
     "grade": false,
     "grade_id": "cell-d37d68df72162149",
     "locked": false,
     "schema_version": 3,
     "solution": true,
     "task": false
    }
   }
  },
  {
   "cell_type": "code",
   "execution_count": 53,
   "source": [
    "np.sort(sol1)"
   ],
   "outputs": [
    {
     "output_type": "execute_result",
     "data": {
      "text/plain": [
       "array([[0.06773717, 0.15594628, 0.18242796, 0.23002178, 0.30731307,\n",
       "        0.33741996, 0.4252078 , 0.78374232, 0.86313631, 0.88728615],\n",
       "       [0.04077174, 0.07161984, 0.22817063, 0.38764435, 0.40333199,\n",
       "        0.60643912, 0.84083618, 0.84384652, 0.883704  , 0.9139036 ],\n",
       "       [0.05099125, 0.09016381, 0.249577  , 0.40646299, 0.52296341,\n",
       "        0.58900848, 0.62898477, 0.67905664, 0.74101535, 0.76065628],\n",
       "       [0.12693387, 0.13502166, 0.14329721, 0.27757653, 0.30083111,\n",
       "        0.3733392 , 0.46313306, 0.61864705, 0.79333765, 0.83940906],\n",
       "       [0.17481421, 0.2057344 , 0.21539231, 0.25989417, 0.5366024 ,\n",
       "        0.63533696, 0.63799855, 0.72912918, 0.83962898, 0.89653993],\n",
       "       [0.09532809, 0.1385452 , 0.16630894, 0.17896099, 0.211024  ,\n",
       "        0.34809641, 0.47520592, 0.54093762, 0.5855294 , 0.94069682],\n",
       "       [0.04138454, 0.18185981, 0.26890692, 0.29438545, 0.42483103,\n",
       "        0.53028805, 0.71010489, 0.77610401, 0.79873491, 0.95868711],\n",
       "       [0.0203413 , 0.07550039, 0.15596964, 0.20584571, 0.24241913,\n",
       "        0.48482541, 0.63639675, 0.83043717, 0.9054    , 0.98011295],\n",
       "       [0.19720453, 0.37458477, 0.41417857, 0.43724993, 0.46526379,\n",
       "        0.57206605, 0.67523715, 0.73631288, 0.7529105 , 0.82179407],\n",
       "       [0.24383927, 0.25744975, 0.2602597 , 0.32469632, 0.44978737,\n",
       "        0.53803118, 0.61831019, 0.67883142, 0.73574558, 0.74860785]])"
      ]
     },
     "metadata": {},
     "execution_count": 53
    }
   ],
   "metadata": {
    "deletable": false,
    "editable": false,
    "nbgrader": {
     "cell_type": "code",
     "checksum": "783f9069dd18b6ec27701770f225a148",
     "grade": true,
     "grade_id": "cell-f1d4fa08074f4dcd",
     "locked": true,
     "points": 1,
     "schema_version": 3,
     "solution": false,
     "task": false
    }
   }
  },
  {
   "cell_type": "markdown",
   "source": [
    "**15. Create a 2d 10x10 array with 1 on the border and 0 inside**"
   ],
   "metadata": {}
  },
  {
   "cell_type": "code",
   "execution_count": 27,
   "source": [
    "#1 points\r\n",
    "# sol2 = 0\r\n",
    "\r\n",
    "# raise NotImplementedError()"
   ],
   "outputs": [],
   "metadata": {
    "deletable": false,
    "nbgrader": {
     "cell_type": "code",
     "checksum": "4f00b53c9ecc26403bf5bd660c3f033c",
     "grade": false,
     "grade_id": "cell-6584e6c544771f0c",
     "locked": false,
     "schema_version": 3,
     "solution": true,
     "task": false
    }
   }
  },
  {
   "cell_type": "code",
   "execution_count": 54,
   "source": [
    "import numpy as np\r\n",
    "sol2 = np.ones((10,10))\r\n",
    "sol2[1:-1, 1:-1] = 0\r\n",
    "print(sol2)"
   ],
   "outputs": [
    {
     "output_type": "stream",
     "name": "stdout",
     "text": [
      "[[1. 1. 1. 1. 1. 1. 1. 1. 1. 1.]\n",
      " [1. 0. 0. 0. 0. 0. 0. 0. 0. 1.]\n",
      " [1. 0. 0. 0. 0. 0. 0. 0. 0. 1.]\n",
      " [1. 0. 0. 0. 0. 0. 0. 0. 0. 1.]\n",
      " [1. 0. 0. 0. 0. 0. 0. 0. 0. 1.]\n",
      " [1. 0. 0. 0. 0. 0. 0. 0. 0. 1.]\n",
      " [1. 0. 0. 0. 0. 0. 0. 0. 0. 1.]\n",
      " [1. 0. 0. 0. 0. 0. 0. 0. 0. 1.]\n",
      " [1. 0. 0. 0. 0. 0. 0. 0. 0. 1.]\n",
      " [1. 1. 1. 1. 1. 1. 1. 1. 1. 1.]]\n"
     ]
    }
   ],
   "metadata": {
    "deletable": false,
    "editable": false,
    "nbgrader": {
     "cell_type": "code",
     "checksum": "06bd7af6a0273b28869865b4dd35fef5",
     "grade": true,
     "grade_id": "cell-9429aab0f4477a86",
     "locked": true,
     "points": 1,
     "schema_version": 3,
     "solution": false,
     "task": false
    }
   }
  },
  {
   "cell_type": "markdown",
   "source": [
    "**34. How to get all the dates corresponding to the month of July 2016**"
   ],
   "metadata": {}
  },
  {
   "cell_type": "code",
   "execution_count": 66,
   "source": [
    "import numpy as np\r\n",
    "print(np.arange('2016-07', '2016-08', dtype='datetime64[D]'))"
   ],
   "outputs": [
    {
     "output_type": "stream",
     "name": "stdout",
     "text": [
      "['2016-07-01' '2016-07-02' '2016-07-03' '2016-07-04' '2016-07-05'\n",
      " '2016-07-06' '2016-07-07' '2016-07-08' '2016-07-09' '2016-07-10'\n",
      " '2016-07-11' '2016-07-12' '2016-07-13' '2016-07-14' '2016-07-15'\n",
      " '2016-07-16' '2016-07-17' '2016-07-18' '2016-07-19' '2016-07-20'\n",
      " '2016-07-21' '2016-07-22' '2016-07-23' '2016-07-24' '2016-07-25'\n",
      " '2016-07-26' '2016-07-27' '2016-07-28' '2016-07-29' '2016-07-30'\n",
      " '2016-07-31']\n"
     ]
    }
   ],
   "metadata": {
    "deletable": false,
    "nbgrader": {
     "cell_type": "code",
     "checksum": "0c0c212e8014f00f5ede5ec4ea42e584",
     "grade": false,
     "grade_id": "cell-9784b014be5fdf5a",
     "locked": false,
     "schema_version": 3,
     "solution": true,
     "task": false
    }
   }
  },
  {
   "cell_type": "code",
   "execution_count": null,
   "source": [
    "assert sol3.shape == (31,)\r\n",
    "assert type(sol3[0]) is np.datetime64"
   ],
   "outputs": [],
   "metadata": {
    "deletable": false,
    "editable": false,
    "nbgrader": {
     "cell_type": "code",
     "checksum": "b208a834c29619be08b9f9a7887b7087",
     "grade": true,
     "grade_id": "cell-8beeae591e9b50ed",
     "locked": true,
     "points": 2,
     "schema_version": 3,
     "solution": false,
     "task": false
    }
   }
  },
  {
   "cell_type": "markdown",
   "source": [
    "**42. Consider two random arrays based on the normal and uniform distributions 10x10 sol41 and sol42, check if they are equal**"
   ],
   "metadata": {}
  },
  {
   "cell_type": "code",
   "execution_count": 77,
   "source": [
    "#2 points\r\n",
    "sol41 = np.random.normal(size=(10, 10))\r\n",
    "sol42 = np.random.uniform(size=(10, 10))\r\n",
    "comparisson = sol41 == sol42\r\n",
    "print(comparisson.all())\r\n",
    "# print(np.random.normal(size=(10, 10)))\r\n",
    "# np.random.uniform(size=(10, 10))"
   ],
   "outputs": [
    {
     "output_type": "stream",
     "name": "stdout",
     "text": [
      "False\n"
     ]
    }
   ],
   "metadata": {
    "deletable": false,
    "nbgrader": {
     "cell_type": "code",
     "checksum": "52c996342988d9baa17167d47cf5701c",
     "grade": false,
     "grade_id": "cell-5000744434ae05a2",
     "locked": false,
     "schema_version": 3,
     "solution": true,
     "task": false
    }
   }
  },
  {
   "cell_type": "code",
   "execution_count": 74,
   "source": [
    "bol = True\r\n",
    "\r\n",
    "for l in comparisson:\r\n",
    "    for c in l:\r\n",
    "        if c:\r\n",
    "            bol = False\r\n",
    "\r\n",
    "\r\n",
    "assert bol"
   ],
   "outputs": [],
   "metadata": {
    "deletable": false,
    "editable": false,
    "nbgrader": {
     "cell_type": "code",
     "checksum": "6b10c43e0c33791bc40a0b3e2e9cc071",
     "grade": true,
     "grade_id": "cell-807bf6c3ff3f3b0d",
     "locked": true,
     "points": 2,
     "schema_version": 3,
     "solution": false,
     "task": false
    }
   }
  },
  {
   "cell_type": "markdown",
   "source": [
    "**72. How to swap two rows of an array?** "
   ],
   "metadata": {}
  },
  {
   "cell_type": "code",
   "execution_count": 93,
   "source": [
    "#3 points\r\n",
    "sol5 = np.array([[1,2,3],[4,5,6]])\r\n",
    "sol5[[0, 1]] = sol5[[1, 0]]\r\n",
    "print(sol5)\r\n",
    "\r\n",
    "# raise NotImplementedError()"
   ],
   "outputs": [
    {
     "output_type": "stream",
     "name": "stdout",
     "text": [
      "[[4 5 6]\n",
      " [1 2 3]]\n"
     ]
    }
   ],
   "metadata": {
    "deletable": false,
    "nbgrader": {
     "cell_type": "code",
     "checksum": "ccca804156ed12777f188de3084a7145",
     "grade": false,
     "grade_id": "cell-079026f268b5211c",
     "locked": false,
     "schema_version": 3,
     "solution": true,
     "task": false
    }
   }
  },
  {
   "cell_type": "code",
   "execution_count": null,
   "source": [
    "assert sol5[0][0] == 4\r\n",
    "assert sol5[0][1] == 5\r\n",
    "assert sol5[0][2] == 6\r\n",
    "\r\n",
    "assert sol5[1][0] == 1\r\n",
    "assert sol5[1][1] == 2\r\n",
    "assert sol5[1][2] == 3\r\n"
   ],
   "outputs": [],
   "metadata": {
    "deletable": false,
    "editable": false,
    "nbgrader": {
     "cell_type": "code",
     "checksum": "1ad68d0086b2abc9dd89dc54d9868d2c",
     "grade": true,
     "grade_id": "cell-e4f878f0864f33bd",
     "locked": true,
     "points": 3,
     "schema_version": 3,
     "solution": false,
     "task": false
    }
   }
  },
  {
   "cell_type": "markdown",
   "source": [
    "**75. How to compute averages using a sliding window over an array?**"
   ],
   "metadata": {}
  },
  {
   "cell_type": "code",
   "execution_count": 97,
   "source": [
    "arr = np.array([1,2,3,4,5,6,7,8,9,10])\r\n",
    "sol6 = 0\r\n"
   ],
   "outputs": [],
   "metadata": {
    "deletable": false,
    "nbgrader": {
     "cell_type": "code",
     "checksum": "ff4ef295ceace892027e6fce4f7eb266",
     "grade": false,
     "grade_id": "cell-ccafbda4e4cb7996",
     "locked": false,
     "schema_version": 3,
     "solution": true,
     "task": false
    }
   }
  },
  {
   "cell_type": "code",
   "execution_count": null,
   "source": [
    "assert sol6[-1] == 5.5\r\n",
    "assert sol6[0] == 0.1\r\n",
    "assert sol6[4] == 1.5"
   ],
   "outputs": [],
   "metadata": {
    "deletable": false,
    "editable": false,
    "nbgrader": {
     "cell_type": "code",
     "checksum": "fabc3056e9ed22951d83c4012d5ec189",
     "grade": true,
     "grade_id": "cell-1983fc0078a860ff",
     "locked": true,
     "points": 3,
     "schema_version": 3,
     "solution": false,
     "task": false
    }
   }
  },
  {
   "cell_type": "code",
   "execution_count": null,
   "source": [],
   "outputs": [],
   "metadata": {}
  }
 ],
 "metadata": {
  "kernelspec": {
   "name": "python3",
   "display_name": "Python 3.8.12 64-bit ('strive': conda)"
  },
  "language_info": {
   "codemirror_mode": {
    "name": "ipython",
    "version": 3
   },
   "file_extension": ".py",
   "mimetype": "text/x-python",
   "name": "python",
   "nbconvert_exporter": "python",
   "pygments_lexer": "ipython3",
   "version": "3.8.12"
  },
  "interpreter": {
   "hash": "763b6704233f6f99bd0682f049aa4760664e7c21df0db9c860628aa9bd9383e2"
  }
 },
 "nbformat": 4,
 "nbformat_minor": 5
}