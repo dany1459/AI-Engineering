{
 "cells": [
  {
   "cell_type": "markdown",
   "source": [
    "# API REQUEST"
   ],
   "metadata": {}
  },
  {
   "cell_type": "code",
   "execution_count": 1,
   "source": [
    "from selenium import webdriver\r\n",
    "import pandas as pd\r\n",
    "from dateutil.parser import parse\r\n",
    "import datetime"
   ],
   "outputs": [],
   "metadata": {}
  },
  {
   "cell_type": "code",
   "execution_count": 8,
   "source": [
    "my_driver = \"chromedriver.exe\"\r\n",
    "\r\n",
    "op = webdriver.ChromeOptions()\r\n",
    "op.add_argument('headless')\r\n",
    "\r\n",
    "url = 'https://www.imdb.com/search/title/?genres=action&groups=top_1000&sort=user_rating,desc&view=simple'\r\n",
    "driver = webdriver.Chrome(my_driver,options=op)\r\n",
    "driver.implicitly_wait(3)\r\n",
    "driver.get(url)\r\n",
    "content =  driver.find_elements_by_class_name('lister-item')\r\n",
    "\r\n",
    "#collect in dictionary\r\n",
    "content_dict = {'title':[],'rating':[],'total_votes':[],'release_date':[],'duration':[],'description':[],'genres':[],'casts':[],'director':[],'filming_dates':[]}\r\n",
    "\r\n",
    "\r\n",
    "#for each item do:\r\n",
    "for tem_i in range(len(content)):\r\n",
    "    #if tem_i == 1:\r\n",
    "    #    break\r\n",
    "\r\n",
    "    print(\"====item: \"+str(tem_i)+\"===\")\r\n",
    "\r\n",
    "    #back to base url\r\n",
    "    url = 'https://www.imdb.com/search/title/?genres=action&groups=top_1000&sort=user_rating,desc&view=simple'\r\n",
    "    driver = webdriver.Chrome(my_driver,options=op)\r\n",
    "    driver.implicitly_wait(1)\r\n",
    "    driver.get(url)\r\n",
    "\r\n",
    "    #title\r\n",
    "    title_year =  content[tem_i].find_element_by_class_name('col-title')\r\n",
    "    title = title_year.find_element_by_tag_name('a')\r\n",
    "    title = title.text\r\n",
    "    content_dict['title'].append( title )\r\n",
    "\r\n",
    "    #rating\r\n",
    "    rating =  content[tem_i].find_element_by_class_name('col-imdb-rating')\r\n",
    "    rating = rating.find_element_by_tag_name('strong')\r\n",
    "    rating = rating.get_attribute(\"title\")\r\n",
    "    content_dict['rating'].append( rating.split()[0] )\r\n",
    "    content_dict['total_votes'].append( rating.split()[3] )\r\n",
    "\r\n",
    "    #Follow the link of movie i\r\n",
    "    image =  content[tem_i].find_element_by_class_name('lister-item-image')\r\n",
    "    image_a = image.find_element_by_tag_name('a')\r\n",
    "    url = image_a.get_attribute(\"href\")\r\n",
    "\r\n",
    "    driver = webdriver.Chrome(my_driver,options=op)\r\n",
    "    driver.implicitly_wait(1)\r\n",
    "    driver.get(url)\r\n",
    "\r\n",
    "    #general_info\r\n",
    "    general_info = driver.find_element_by_xpath('.//div[@class=\"TitleMainBelowTheFoldGroup__TitleMainPrimaryGroup-sc-1vpywau-1 btXiqv ipc-page-grid__item ipc-page-grid__item--span-2\"]')\r\n",
    "\r\n",
    "\r\n",
    "    #release date\r\n",
    "    release_date = general_info.find_element_by_xpath('.//section[@data-testid=\"Details\"]')\r\n",
    "    release_date = release_date.find_element_by_xpath('.//div[@data-testid=\"title-details-section\"]')\r\n",
    "    release_date = release_date.find_element_by_xpath('.//a[@class=\"ipc-metadata-list-item__list-content-item ipc-metadata-list-item__list-content-item--link\"]')\r\n",
    "    content_dict['release_date'].append( release_date.text.split('(')[0] )\r\n",
    "\r\n",
    "    #duration\r\n",
    "    duration = general_info.find_element_by_xpath('.//section[@data-testid=\"TechSpecs\"]')\r\n",
    "    duration = duration.find_element_by_xpath('.//div[@data-testid=\"title-techspecs-section\"]')\r\n",
    "    duration = duration.find_element_by_xpath('.//li[@data-testid=\"title-techspec_runtime\"]')\r\n",
    "    duration = duration.find_element_by_xpath('.//li[@class=\"ipc-inline-list__item\"]')\r\n",
    "    content_dict['duration'].append( duration.text )\r\n",
    "\r\n",
    "    #description\r\n",
    "    description = general_info.find_element_by_xpath('.//section[@data-testid=\"Storyline\"]')\r\n",
    "    description = description.find_element_by_xpath('.//div[@class=\"Storyline__StorylineWrapper-sc-1b58ttw-0 iywpty\"]')\r\n",
    "    description = description.find_element_by_xpath('.//div[@data-testid=\"storyline-plot-summary\"]')\r\n",
    "    description = description.find_element_by_xpath('.//div[@class=\"ipc-html-content ipc-html-content--base\"]')\r\n",
    "    content_dict['description'].append( description.text )\r\n",
    "\r\n",
    "    #genre\r\n",
    "    genre = general_info.find_element_by_xpath('.//section[@data-testid=\"Storyline\"]')\r\n",
    "    genre = genre.find_element_by_xpath('.//div[@class=\"Storyline__StorylineWrapper-sc-1b58ttw-0 iywpty\"]')\r\n",
    "    genre = genre.find_element_by_xpath('.//li[@data-testid=\"storyline-genres\"]')\r\n",
    "    genre = genre.find_elements_by_xpath('.//li[@class=\"ipc-inline-list__item\"]')\r\n",
    "    genres = [i.text for i in genre]\r\n",
    "    content_dict['genres'].append( genres )\r\n",
    "\r\n",
    "    #cast\r\n",
    "    cast = general_info.find_element_by_xpath('.//section[@data-testid=\"title-cast\"]')\r\n",
    "    cast = cast.find_element_by_xpath('.//div[@class=\"ipc-shoveler title-cast__grid\"]')\r\n",
    "    cast = cast.find_element_by_xpath('.//div[@class=\"ipc-sub-grid ipc-sub-grid--page-span-2 ipc-sub-grid--wraps-at-above-l ipc-shoveler__grid\"]')\r\n",
    "    cast = cast.find_elements_by_xpath('.//div[@data-testid=\"title-cast-item\"]')\r\n",
    "    casts = [i.find_element_by_xpath('.//a[@data-testid=\"title-cast-item__actor\"]').text for i in cast]\r\n",
    "    content_dict['casts'].append( casts )\r\n",
    "\r\n",
    "    #director\r\n",
    "    director = general_info.find_element_by_xpath('.//section[@data-testid=\"title-cast\"]')\r\n",
    "    director = director.find_element_by_xpath('.//ul[@class=\"ipc-metadata-list ipc-metadata-list--dividers-all StyledComponents__CastMetaDataList-y9ygcu-10 cbPPkN ipc-metadata-list--base\"]')\r\n",
    "    director = director.find_elements_by_tag_name('li')[0]\r\n",
    "    director = director.find_element_by_xpath('.//a[@class=\"ipc-metadata-list-item__list-content-item ipc-metadata-list-item__list-content-item--link\"]')\r\n",
    "    content_dict['director'].append( director.text )\r\n",
    "\r\n",
    "    #filming dates\r\n",
    "    filming_location = general_info.find_element_by_xpath('.//section[@data-testid=\"Details\"]')\r\n",
    "    filming_location = filming_location.find_element_by_xpath('.//div[@data-testid=\"title-details-section\"]')\r\n",
    "    filming_location = filming_location.find_element_by_xpath('.//li[@data-testid=\"title-details-filminglocations\"]')\r\n",
    "    filming_location = filming_location.find_element_by_xpath('.//a[@class=\"ipc-metadata-list-item__icon-link\"]')\r\n",
    "\r\n",
    "    url = filming_location.get_attribute(\"href\")\r\n",
    "\r\n",
    "    driver = webdriver.Chrome(my_driver,options=op)\r\n",
    "    driver.implicitly_wait(1)\r\n",
    "    driver.get(url)\r\n",
    "\r\n",
    "    filming_location_info = driver.find_element_by_xpath('.//div[@id=\"wrapper\"]')\r\n",
    "    filming_location_info = filming_location_info.find_element_by_xpath('.//div[@id=\"content-2-wide\"]')\r\n",
    "    filming_location_info = filming_location_info.find_element_by_xpath('.//section[@class=\"article listo\"]')\r\n",
    "    filming_location_info = filming_location_info.find_element_by_xpath('.//section[@id=\"filming_dates\"]')\r\n",
    "    filming_dates = filming_location_info.find_element_by_xpath('.//li[@class=\"ipl-zebra-list__item\"]')\r\n",
    "    content_dict['filming_dates'].append( filming_dates.text )\r\n",
    "\r\n",
    "print(\"Done\")\r\n",
    "\r\n"
   ],
   "outputs": [
    {
     "output_type": "stream",
     "name": "stdout",
     "text": [
      "====item: 0===\n",
      "Done\n"
     ]
    }
   ],
   "metadata": {}
  },
  {
   "cell_type": "code",
   "execution_count": 9,
   "source": [
    "df = pd.DataFrame(content_dict)\r\n",
    "print(df)"
   ],
   "outputs": [
    {
     "output_type": "stream",
     "name": "stdout",
     "text": [
      "             title rating total_votes    release_date  duration  \\\n",
      "0  The Dark Knight      9   2,421,273  July 18, 2008   2h 32min   \n",
      "\n",
      "                                         description  \\\n",
      "0  Set within a year after the events of Batman B...   \n",
      "\n",
      "                             genres  \\\n",
      "0  [Action, Crime, Drama, Thriller]   \n",
      "\n",
      "                                               casts           director  \\\n",
      "0  [Christian Bale, Heath Ledger, Aaron Eckhart, ...  Christopher Nolan   \n",
      "\n",
      "                      filming_dates  \n",
      "0  18 April 2007 - 11 November 2007  \n"
     ]
    }
   ],
   "metadata": {}
  },
  {
   "cell_type": "code",
   "execution_count": null,
   "source": [],
   "outputs": [],
   "metadata": {}
  }
 ],
 "metadata": {
  "kernelspec": {
   "name": "python3",
   "display_name": "Python 3.8.11 64-bit ('strive': conda)"
  },
  "language_info": {
   "codemirror_mode": {
    "name": "ipython",
    "version": 3
   },
   "file_extension": ".py",
   "mimetype": "text/x-python",
   "name": "python",
   "nbconvert_exporter": "python",
   "pygments_lexer": "ipython3",
   "version": "3.8.11"
  },
  "interpreter": {
   "hash": "2f9376a53bea67c1ed5cf17fe4a618ec842560647dcd0f876afebe1c5f60995f"
  }
 },
 "nbformat": 4,
 "nbformat_minor": 4
}