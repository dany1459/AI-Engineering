{
 "cells": [
  {
   "cell_type": "markdown",
   "source": [
    "# API REQUEST"
   ],
   "metadata": {}
  },
  {
   "cell_type": "code",
   "execution_count": 5,
   "source": [
    "from selenium import webdriver\r\n",
    "import pandas as pd\r\n",
    "from dateutil.parser import parse\r\n",
    "import datetime\r\n",
    "import numpy as np"
   ],
   "outputs": [],
   "metadata": {}
  },
  {
   "cell_type": "code",
   "execution_count": 2,
   "source": [
    "my_driver = \"chromedriver.exe\"\r\n",
    "\r\n",
    "op = webdriver.ChromeOptions()\r\n",
    "op.add_argument('headless')\r\n",
    "\r\n",
    "url = 'https://www.imdb.com/search/title/?genres=action&groups=top_1000&sort=user_rating,desc&view=simple'\r\n",
    "driver = webdriver.Chrome(my_driver,options=op)\r\n",
    "driver.implicitly_wait(3)\r\n",
    "driver.get(url)\r\n",
    "content =  driver.find_elements_by_class_name('lister-item')\r\n",
    "\r\n",
    "#collect in dictionary\r\n",
    "content_dict = {'title':[],'rating':[],'total_votes':[],'release_date':[],'duration':[],'description':[],'genres':[],'casts':[],'director':[]}\r\n",
    "\r\n",
    "#for each item do:\r\n",
    "for tem_i in range(len(content)):\r\n",
    "\r\n",
    "    print(\"====item: \"+str(tem_i)+\"===\")\r\n",
    "\r\n",
    "    #back to base url\r\n",
    "    url = 'https://www.imdb.com/search/title/?genres=action&groups=top_1000&sort=user_rating,desc&view=simple'\r\n",
    "    driver = webdriver.Chrome(my_driver,options=op)\r\n",
    "    driver.implicitly_wait(1)\r\n",
    "    driver.get(url)\r\n",
    "\r\n",
    "    #title\r\n",
    "    title_year =  content[tem_i].find_element_by_class_name('col-title')\r\n",
    "    title = title_year.find_element_by_tag_name('a')\r\n",
    "    title = title.text\r\n",
    "    content_dict['title'].append( title )\r\n",
    "\r\n",
    "    #rating\r\n",
    "    rating =  content[tem_i].find_element_by_class_name('col-imdb-rating')\r\n",
    "    rating = rating.find_element_by_tag_name('strong')\r\n",
    "    rating = rating.get_attribute(\"title\")\r\n",
    "    content_dict['rating'].append( rating.split()[0] )\r\n",
    "    content_dict['total_votes'].append( rating.split()[3] )\r\n",
    "\r\n",
    "    #Follow the link of movie i\r\n",
    "    image =  content[tem_i].find_element_by_class_name('lister-item-image')\r\n",
    "    image_a = image.find_element_by_tag_name('a')\r\n",
    "    url = image_a.get_attribute(\"href\")\r\n",
    "\r\n",
    "    driver = webdriver.Chrome(my_driver,options=op)\r\n",
    "    driver.implicitly_wait(1)\r\n",
    "    driver.get(url)\r\n",
    "\r\n",
    "    #general_info\r\n",
    "    general_info = driver.find_element_by_xpath('.//div[@class=\"TitleMainBelowTheFoldGroup__TitleMainPrimaryGroup-sc-1vpywau-1 btXiqv ipc-page-grid__item ipc-page-grid__item--span-2\"]')\r\n",
    "\r\n",
    "\r\n",
    "    #release date\r\n",
    "    release_date = general_info.find_element_by_xpath('.//section[@data-testid=\"Details\"]')\r\n",
    "    release_date = release_date.find_element_by_xpath('.//div[@data-testid=\"title-details-section\"]')\r\n",
    "    release_date = release_date.find_element_by_xpath('.//a[@class=\"ipc-metadata-list-item__list-content-item ipc-metadata-list-item__list-content-item--link\"]')\r\n",
    "    content_dict['release_date'].append( release_date.text.split('(')[0] )\r\n",
    "\r\n",
    "    #duration\r\n",
    "    duration = general_info.find_element_by_xpath('.//section[@data-testid=\"TechSpecs\"]')\r\n",
    "    duration = duration.find_element_by_xpath('.//div[@data-testid=\"title-techspecs-section\"]')\r\n",
    "    duration = duration.find_element_by_xpath('.//li[@data-testid=\"title-techspec_runtime\"]')\r\n",
    "    duration = duration.find_element_by_xpath('.//li[@class=\"ipc-inline-list__item\"]')\r\n",
    "    content_dict['duration'].append( duration.text )\r\n",
    "\r\n",
    "    #description\r\n",
    "    description = general_info.find_element_by_xpath('.//section[@data-testid=\"Storyline\"]')\r\n",
    "    description = description.find_element_by_xpath('.//div[@class=\"Storyline__StorylineWrapper-sc-1b58ttw-0 iywpty\"]')\r\n",
    "    description = description.find_element_by_xpath('.//div[@data-testid=\"storyline-plot-summary\"]')\r\n",
    "    description = description.find_element_by_xpath('.//div[@class=\"ipc-html-content ipc-html-content--base\"]')\r\n",
    "    content_dict['description'].append( description.text )\r\n",
    "\r\n",
    "    #genre\r\n",
    "    genre = general_info.find_element_by_xpath('.//section[@data-testid=\"Storyline\"]')\r\n",
    "    genre = genre.find_element_by_xpath('.//div[@class=\"Storyline__StorylineWrapper-sc-1b58ttw-0 iywpty\"]')\r\n",
    "    genre = genre.find_element_by_xpath('.//li[@data-testid=\"storyline-genres\"]')\r\n",
    "    genre = genre.find_elements_by_xpath('.//li[@class=\"ipc-inline-list__item\"]')\r\n",
    "    genres = [i.text for i in genre]\r\n",
    "    content_dict['genres'].append( genres )\r\n",
    "\r\n",
    "    #cast\r\n",
    "    cast = general_info.find_element_by_xpath('.//section[@data-testid=\"title-cast\"]')\r\n",
    "    cast = cast.find_element_by_xpath('.//div[@class=\"ipc-shoveler title-cast__grid\"]')\r\n",
    "    cast = cast.find_element_by_xpath('.//div[@class=\"ipc-sub-grid ipc-sub-grid--page-span-2 ipc-sub-grid--wraps-at-above-l ipc-shoveler__grid\"]')\r\n",
    "    cast = cast.find_elements_by_xpath('.//div[@data-testid=\"title-cast-item\"]')\r\n",
    "    casts = [i.find_element_by_xpath('.//a[@data-testid=\"title-cast-item__actor\"]').text for i in cast]\r\n",
    "    content_dict['casts'].append( casts )\r\n",
    "\r\n",
    "    #director\r\n",
    "    director = general_info.find_element_by_xpath('.//section[@data-testid=\"title-cast\"]')\r\n",
    "    director = director.find_element_by_xpath('.//ul[@class=\"ipc-metadata-list ipc-metadata-list--dividers-all StyledComponents__CastMetaDataList-y9ygcu-10 cbPPkN ipc-metadata-list--base\"]')\r\n",
    "    director = director.find_elements_by_tag_name('li')[0]\r\n",
    "    director = director.find_element_by_xpath('.//a[@class=\"ipc-metadata-list-item__list-content-item ipc-metadata-list-item__list-content-item--link\"]')\r\n",
    "    content_dict['director'].append( director.text )\r\n",
    "\r\n",
    "print(content_dict.keys())\r\n",
    "\r\n",
    "\r\n",
    "\r\n"
   ],
   "outputs": [
    {
     "output_type": "stream",
     "name": "stdout",
     "text": [
      "====item: 0===\n",
      "====item: 1===\n",
      "====item: 2===\n"
     ]
    },
    {
     "output_type": "stream",
     "name": "stderr",
     "text": [
      "Exception ignored in: <function Service.__del__ at 0x000001ED4F13C1F0>\n",
      "Traceback (most recent call last):\n",
      "  File \"C:\\Users\\Igor\\anaconda3\\envs\\Strive\\lib\\site-packages\\selenium\\webdriver\\common\\service.py\", line 176, in __del__\n",
      "    self.stop()\n",
      "  File \"C:\\Users\\Igor\\anaconda3\\envs\\Strive\\lib\\site-packages\\selenium\\webdriver\\common\\service.py\", line 151, in stop\n",
      "    self.send_remote_shutdown_command()\n",
      "  File \"C:\\Users\\Igor\\anaconda3\\envs\\Strive\\lib\\site-packages\\selenium\\webdriver\\common\\service.py\", line 132, in send_remote_shutdown_command\n",
      "    if not self.is_connectable():\n",
      "  File \"C:\\Users\\Igor\\anaconda3\\envs\\Strive\\lib\\site-packages\\selenium\\webdriver\\common\\service.py\", line 115, in is_connectable\n",
      "    return utils.is_connectable(self.port)\n",
      "  File \"C:\\Users\\Igor\\anaconda3\\envs\\Strive\\lib\\site-packages\\selenium\\webdriver\\common\\utils.py\", line 106, in is_connectable\n",
      "    socket_ = socket.create_connection((host, port), 1)\n",
      "  File \"C:\\Users\\Igor\\anaconda3\\envs\\Strive\\lib\\socket.py\", line 832, in create_connection\n",
      "    sock.connect(sa)\n",
      "KeyboardInterrupt: \n"
     ]
    },
    {
     "output_type": "stream",
     "name": "stdout",
     "text": [
      "====item: 3===\n",
      "====item: 4===\n",
      "====item: 5===\n"
     ]
    },
    {
     "output_type": "error",
     "ename": "KeyboardInterrupt",
     "evalue": "",
     "traceback": [
      "\u001b[1;31m---------------------------------------------------------------------------\u001b[0m",
      "\u001b[1;31mKeyboardInterrupt\u001b[0m                         Traceback (most recent call last)",
      "\u001b[1;32m~\\AppData\\Local\\Temp/ipykernel_24536/3143462342.py\u001b[0m in \u001b[0;36m<module>\u001b[1;34m\u001b[0m\n\u001b[0;32m     42\u001b[0m     \u001b[0murl\u001b[0m \u001b[1;33m=\u001b[0m \u001b[0mimage_a\u001b[0m\u001b[1;33m.\u001b[0m\u001b[0mget_attribute\u001b[0m\u001b[1;33m(\u001b[0m\u001b[1;34m\"href\"\u001b[0m\u001b[1;33m)\u001b[0m\u001b[1;33m\u001b[0m\u001b[1;33m\u001b[0m\u001b[0m\n\u001b[0;32m     43\u001b[0m \u001b[1;33m\u001b[0m\u001b[0m\n\u001b[1;32m---> 44\u001b[1;33m     \u001b[0mdriver\u001b[0m \u001b[1;33m=\u001b[0m \u001b[0mwebdriver\u001b[0m\u001b[1;33m.\u001b[0m\u001b[0mChrome\u001b[0m\u001b[1;33m(\u001b[0m\u001b[0mmy_driver\u001b[0m\u001b[1;33m,\u001b[0m\u001b[0moptions\u001b[0m\u001b[1;33m=\u001b[0m\u001b[0mop\u001b[0m\u001b[1;33m)\u001b[0m\u001b[1;33m\u001b[0m\u001b[1;33m\u001b[0m\u001b[0m\n\u001b[0m\u001b[0;32m     45\u001b[0m     \u001b[0mdriver\u001b[0m\u001b[1;33m.\u001b[0m\u001b[0mimplicitly_wait\u001b[0m\u001b[1;33m(\u001b[0m\u001b[1;36m1\u001b[0m\u001b[1;33m)\u001b[0m\u001b[1;33m\u001b[0m\u001b[1;33m\u001b[0m\u001b[0m\n\u001b[0;32m     46\u001b[0m     \u001b[0mdriver\u001b[0m\u001b[1;33m.\u001b[0m\u001b[0mget\u001b[0m\u001b[1;33m(\u001b[0m\u001b[0murl\u001b[0m\u001b[1;33m)\u001b[0m\u001b[1;33m\u001b[0m\u001b[1;33m\u001b[0m\u001b[0m\n",
      "\u001b[1;32m~\\anaconda3\\envs\\Strive\\lib\\site-packages\\selenium\\webdriver\\chrome\\webdriver.py\u001b[0m in \u001b[0;36m__init__\u001b[1;34m(self, executable_path, port, options, service_args, desired_capabilities, service_log_path, chrome_options, keep_alive)\u001b[0m\n\u001b[0;32m     71\u001b[0m             \u001b[0mservice_args\u001b[0m\u001b[1;33m=\u001b[0m\u001b[0mservice_args\u001b[0m\u001b[1;33m,\u001b[0m\u001b[1;33m\u001b[0m\u001b[1;33m\u001b[0m\u001b[0m\n\u001b[0;32m     72\u001b[0m             log_path=service_log_path)\n\u001b[1;32m---> 73\u001b[1;33m         \u001b[0mself\u001b[0m\u001b[1;33m.\u001b[0m\u001b[0mservice\u001b[0m\u001b[1;33m.\u001b[0m\u001b[0mstart\u001b[0m\u001b[1;33m(\u001b[0m\u001b[1;33m)\u001b[0m\u001b[1;33m\u001b[0m\u001b[1;33m\u001b[0m\u001b[0m\n\u001b[0m\u001b[0;32m     74\u001b[0m \u001b[1;33m\u001b[0m\u001b[0m\n\u001b[0;32m     75\u001b[0m         \u001b[1;32mtry\u001b[0m\u001b[1;33m:\u001b[0m\u001b[1;33m\u001b[0m\u001b[1;33m\u001b[0m\u001b[0m\n",
      "\u001b[1;32m~\\anaconda3\\envs\\Strive\\lib\\site-packages\\selenium\\webdriver\\common\\service.py\u001b[0m in \u001b[0;36mstart\u001b[1;34m(self)\u001b[0m\n\u001b[0;32m     97\u001b[0m         \u001b[1;32mwhile\u001b[0m \u001b[1;32mTrue\u001b[0m\u001b[1;33m:\u001b[0m\u001b[1;33m\u001b[0m\u001b[1;33m\u001b[0m\u001b[0m\n\u001b[0;32m     98\u001b[0m             \u001b[0mself\u001b[0m\u001b[1;33m.\u001b[0m\u001b[0massert_process_still_running\u001b[0m\u001b[1;33m(\u001b[0m\u001b[1;33m)\u001b[0m\u001b[1;33m\u001b[0m\u001b[1;33m\u001b[0m\u001b[0m\n\u001b[1;32m---> 99\u001b[1;33m             \u001b[1;32mif\u001b[0m \u001b[0mself\u001b[0m\u001b[1;33m.\u001b[0m\u001b[0mis_connectable\u001b[0m\u001b[1;33m(\u001b[0m\u001b[1;33m)\u001b[0m\u001b[1;33m:\u001b[0m\u001b[1;33m\u001b[0m\u001b[1;33m\u001b[0m\u001b[0m\n\u001b[0m\u001b[0;32m    100\u001b[0m                 \u001b[1;32mbreak\u001b[0m\u001b[1;33m\u001b[0m\u001b[1;33m\u001b[0m\u001b[0m\n\u001b[0;32m    101\u001b[0m             \u001b[0mcount\u001b[0m \u001b[1;33m+=\u001b[0m \u001b[1;36m1\u001b[0m\u001b[1;33m\u001b[0m\u001b[1;33m\u001b[0m\u001b[0m\n",
      "\u001b[1;32m~\\anaconda3\\envs\\Strive\\lib\\site-packages\\selenium\\webdriver\\common\\service.py\u001b[0m in \u001b[0;36mis_connectable\u001b[1;34m(self)\u001b[0m\n\u001b[0;32m    113\u001b[0m \u001b[1;33m\u001b[0m\u001b[0m\n\u001b[0;32m    114\u001b[0m     \u001b[1;32mdef\u001b[0m \u001b[0mis_connectable\u001b[0m\u001b[1;33m(\u001b[0m\u001b[0mself\u001b[0m\u001b[1;33m)\u001b[0m\u001b[1;33m:\u001b[0m\u001b[1;33m\u001b[0m\u001b[1;33m\u001b[0m\u001b[0m\n\u001b[1;32m--> 115\u001b[1;33m         \u001b[1;32mreturn\u001b[0m \u001b[0mutils\u001b[0m\u001b[1;33m.\u001b[0m\u001b[0mis_connectable\u001b[0m\u001b[1;33m(\u001b[0m\u001b[0mself\u001b[0m\u001b[1;33m.\u001b[0m\u001b[0mport\u001b[0m\u001b[1;33m)\u001b[0m\u001b[1;33m\u001b[0m\u001b[1;33m\u001b[0m\u001b[0m\n\u001b[0m\u001b[0;32m    116\u001b[0m \u001b[1;33m\u001b[0m\u001b[0m\n\u001b[0;32m    117\u001b[0m     \u001b[1;32mdef\u001b[0m \u001b[0msend_remote_shutdown_command\u001b[0m\u001b[1;33m(\u001b[0m\u001b[0mself\u001b[0m\u001b[1;33m)\u001b[0m\u001b[1;33m:\u001b[0m\u001b[1;33m\u001b[0m\u001b[1;33m\u001b[0m\u001b[0m\n",
      "\u001b[1;32m~\\anaconda3\\envs\\Strive\\lib\\site-packages\\selenium\\webdriver\\common\\utils.py\u001b[0m in \u001b[0;36mis_connectable\u001b[1;34m(port, host)\u001b[0m\n\u001b[0;32m    104\u001b[0m     \u001b[0msocket_\u001b[0m \u001b[1;33m=\u001b[0m \u001b[1;32mNone\u001b[0m\u001b[1;33m\u001b[0m\u001b[1;33m\u001b[0m\u001b[0m\n\u001b[0;32m    105\u001b[0m     \u001b[1;32mtry\u001b[0m\u001b[1;33m:\u001b[0m\u001b[1;33m\u001b[0m\u001b[1;33m\u001b[0m\u001b[0m\n\u001b[1;32m--> 106\u001b[1;33m         \u001b[0msocket_\u001b[0m \u001b[1;33m=\u001b[0m \u001b[0msocket\u001b[0m\u001b[1;33m.\u001b[0m\u001b[0mcreate_connection\u001b[0m\u001b[1;33m(\u001b[0m\u001b[1;33m(\u001b[0m\u001b[0mhost\u001b[0m\u001b[1;33m,\u001b[0m \u001b[0mport\u001b[0m\u001b[1;33m)\u001b[0m\u001b[1;33m,\u001b[0m \u001b[1;36m1\u001b[0m\u001b[1;33m)\u001b[0m\u001b[1;33m\u001b[0m\u001b[1;33m\u001b[0m\u001b[0m\n\u001b[0m\u001b[0;32m    107\u001b[0m         \u001b[0mresult\u001b[0m \u001b[1;33m=\u001b[0m \u001b[1;32mTrue\u001b[0m\u001b[1;33m\u001b[0m\u001b[1;33m\u001b[0m\u001b[0m\n\u001b[0;32m    108\u001b[0m     \u001b[1;32mexcept\u001b[0m \u001b[0msocket\u001b[0m\u001b[1;33m.\u001b[0m\u001b[0merror\u001b[0m\u001b[1;33m:\u001b[0m\u001b[1;33m\u001b[0m\u001b[1;33m\u001b[0m\u001b[0m\n",
      "\u001b[1;32m~\\anaconda3\\envs\\Strive\\lib\\socket.py\u001b[0m in \u001b[0;36mcreate_connection\u001b[1;34m(address, timeout, source_address)\u001b[0m\n\u001b[0;32m    830\u001b[0m             \u001b[1;32mif\u001b[0m \u001b[0msource_address\u001b[0m\u001b[1;33m:\u001b[0m\u001b[1;33m\u001b[0m\u001b[1;33m\u001b[0m\u001b[0m\n\u001b[0;32m    831\u001b[0m                 \u001b[0msock\u001b[0m\u001b[1;33m.\u001b[0m\u001b[0mbind\u001b[0m\u001b[1;33m(\u001b[0m\u001b[0msource_address\u001b[0m\u001b[1;33m)\u001b[0m\u001b[1;33m\u001b[0m\u001b[1;33m\u001b[0m\u001b[0m\n\u001b[1;32m--> 832\u001b[1;33m             \u001b[0msock\u001b[0m\u001b[1;33m.\u001b[0m\u001b[0mconnect\u001b[0m\u001b[1;33m(\u001b[0m\u001b[0msa\u001b[0m\u001b[1;33m)\u001b[0m\u001b[1;33m\u001b[0m\u001b[1;33m\u001b[0m\u001b[0m\n\u001b[0m\u001b[0;32m    833\u001b[0m             \u001b[1;31m# Break explicitly a reference cycle\u001b[0m\u001b[1;33m\u001b[0m\u001b[1;33m\u001b[0m\u001b[0m\n\u001b[0;32m    834\u001b[0m             \u001b[0merr\u001b[0m \u001b[1;33m=\u001b[0m \u001b[1;32mNone\u001b[0m\u001b[1;33m\u001b[0m\u001b[1;33m\u001b[0m\u001b[0m\n",
      "\u001b[1;31mKeyboardInterrupt\u001b[0m: "
     ]
    }
   ],
   "metadata": {}
  },
  {
   "cell_type": "code",
   "execution_count": null,
   "source": [
    "# print(content_dict)\r\n",
    "\r\n",
    "df = pd.DataFrame(content_dict)\r\n",
    "print(df)"
   ],
   "outputs": [],
   "metadata": {}
  },
  {
   "cell_type": "code",
   "execution_count": null,
   "source": [
    "successful_directors = df.groupby('director').size()\r\n",
    "top_ten = df.sort_values(by=['rating', 'title'], ascending=[False, True]).head(10)\r\n",
    "release_director = df.sort_values(by=['release_date', 'director'], ascending=[False, True])\r\n",
    "rating_filming = df.sort_values(by=['rating', 'director'], ascending=[False, True])\r\n",
    "\r\n",
    "\r\n",
    "mean_rating = df['rating'].mean()\r\n",
    "\r\n",
    "# MOST POPULAR ACTORS\r\n",
    "flat_list = []\r\n",
    "for sublist in df['casts']:\r\n",
    "    for item in sublist:\r\n",
    "        flat_list.append(item)\r\n",
    "print(flat_list)\r\n",
    "\r\n",
    "def most_common(lst):\r\n",
    "    return max(set(lst), key=lst.count)\r\n",
    "\r\n",
    "from collections import Counter\r\n",
    "split_list = str(flat_list).split()\r\n",
    "Counter = Counter(split_list)\r\n",
    "most_common_actors = Counter.most_common(10)\r\n",
    "\r\n",
    "print(most_common_actors)\r\n",
    "\r\n",
    "\r\n",
    "# df.to_csv('D:\\movies_data.csv')\r\n"
   ],
   "outputs": [],
   "metadata": {}
  }
 ],
 "metadata": {
  "kernelspec": {
   "name": "python3",
   "display_name": "Python 3.9.7 64-bit ('Strive': conda)"
  },
  "language_info": {
   "codemirror_mode": {
    "name": "ipython",
    "version": 3
   },
   "file_extension": ".py",
   "mimetype": "text/x-python",
   "name": "python",
   "nbconvert_exporter": "python",
   "pygments_lexer": "ipython3",
   "version": "3.9.7"
  },
  "interpreter": {
   "hash": "d6e128dd2cf9bb12ecf94668e33e1546608d302a4f44df6f6afa2b8f73a532e1"
  }
 },
 "nbformat": 4,
 "nbformat_minor": 4
}