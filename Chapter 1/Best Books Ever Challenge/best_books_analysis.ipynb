{
 "cells": [
  {
   "cell_type": "markdown",
   "metadata": {},
   "source": [
    "# ANALYSIS"
   ]
  },
  {
   "cell_type": "code",
   "execution_count": 6,
   "metadata": {},
   "outputs": [],
   "source": [
    "import pandas as pd\n",
    "import ast\n",
    "import numpy as np"
   ]
  },
  {
   "cell_type": "markdown",
   "metadata": {},
   "source": [
    "# Load the csv file"
   ]
  },
  {
   "cell_type": "code",
   "execution_count": 10,
   "metadata": {},
   "outputs": [
    {
     "data": {
      "text/plain": [
       "(2047, 14)"
      ]
     },
     "execution_count": 10,
     "metadata": {},
     "output_type": "execute_result"
    }
   ],
   "source": [
    "# df = pd.read_csv('best-books.csv',index_col='book_index')\n",
    "df = pd.read_csv('best-books.csv')\n",
    "\n",
    "# frames = [df1, df]\n",
    "# result = pd.concat(frames)\n",
    "# result = df1.append(df)\n",
    "\n",
    "# filenames = [\"best-books.csv\", \"best-books1.csv\"] \n",
    "# df = pd.DataFrame()\n",
    "# for filename in filenames:\n",
    "#     df = df.append(pd.read_csv(filename))\n",
    "df.shape"
   ]
  },
  {
   "cell_type": "markdown",
   "metadata": {},
   "source": [
    "# Change the awards col into num of awards:"
   ]
  },
  {
   "cell_type": "code",
   "execution_count": null,
   "metadata": {},
   "outputs": [],
   "source": [
    "df = df.replace({'awards': {np.nan: 0}})\n",
    "\n",
    "d = []\n",
    "\n",
    "for i in df.index:\n",
    "    if df.loc[i, \"awards\"] == 0:\n",
    "        d.append(0)\n",
    "    else:\n",
    "        d.append( len( ast.literal_eval(df.loc[i, \"awards\"]) ) )\n",
    "\n",
    "df['awards length'] = d\n",
    "# df['awards length'].sum()"
   ]
  },
  {
   "cell_type": "markdown",
   "metadata": {},
   "source": [
    "# min max normalization"
   ]
  },
  {
   "cell_type": "code",
   "execution_count": null,
   "metadata": {},
   "outputs": [],
   "source": [
    "df_min_max = df['avg_rating'].copy()\n",
    "def min_max_normalization(df_min_max):\n",
    "    df_min_max = 1 + (df_min_max - df_min_max.min()) / (df_min_max.max() - df_min_max.min()) * 9\n",
    "    return round(df_min_max, 2)\n",
    "\n",
    "minmax_norm_ratings = min_max_normalization(df_min_max)\n",
    "# print(minmax_norm_ratings)\n",
    "\n",
    "df['minmax_norm_ratings'] = minmax_norm_ratings\n",
    "# print(df)"
   ]
  },
  {
   "cell_type": "markdown",
   "metadata": {},
   "source": [
    "# mean normalization"
   ]
  },
  {
   "cell_type": "code",
   "execution_count": null,
   "metadata": {},
   "outputs": [],
   "source": [
    "def mean_normalization(df_min_max):\n",
    "    df_min_max = 1 + (df_min_max - df_min_max.mean()) / (df_min_max.max() - df_min_max.min()) * 9\n",
    "    return round(df_min_max, 2)\n",
    "\n",
    "mean_norm_ratings = mean_normalization(df_min_max)\n",
    "\n",
    "df['mean_norm_ratings'] = mean_norm_ratings\n",
    "# print(df)"
   ]
  },
  {
   "cell_type": "markdown",
   "metadata": {},
   "source": [
    "# sort by minmax_norm_ratings Given Author"
   ]
  },
  {
   "cell_type": "code",
   "execution_count": null,
   "metadata": {},
   "outputs": [],
   "source": [
    "def check_author(df, author):\n",
    "    df = df.loc[df.author == author]\n",
    "    df.sort_values(by=['minmax_norm_ratings'], ascending=[False])\n",
    "    return df\n",
    "\n",
    "# check_author(df, 'J.K. Rowling')"
   ]
  },
  {
   "cell_type": "markdown",
   "metadata": {},
   "source": [
    "# sort by publishing year and get mean of minmax_norm_ratings"
   ]
  },
  {
   "cell_type": "code",
   "execution_count": null,
   "metadata": {},
   "outputs": [],
   "source": [
    "df.groupby('original_publish_year')['minmax_norm_ratings'].mean()"
   ]
  },
  {
   "cell_type": "markdown",
   "metadata": {},
   "source": [
    "# sort by author and check who has highest average rating"
   ]
  },
  {
   "cell_type": "code",
   "execution_count": null,
   "metadata": {},
   "outputs": [],
   "source": [
    "df.groupby('author')['minmax_norm_ratings'].mean().sort_values( ascending=False)"
   ]
  },
  {
   "cell_type": "markdown",
   "metadata": {},
   "source": [
    "# Sort by author and total no of awards"
   ]
  },
  {
   "cell_type": "code",
   "execution_count": null,
   "metadata": {},
   "outputs": [],
   "source": [
    "df.groupby('author')['awards length'].sum().sort_values( ascending=False)\n",
    "# df.sort_values(by=['awards length', 'author'], ascending=[False, True])"
   ]
  },
  {
   "cell_type": "markdown",
   "metadata": {},
   "source": [
    "# sort by minmax_norm_ratings Given Year of publication"
   ]
  },
  {
   "cell_type": "code",
   "execution_count": null,
   "metadata": {},
   "outputs": [],
   "source": [
    "def check_year(df, year):\n",
    "    df = df.loc[df.original_publish_year == year]\n",
    "    df.sort_values(by=['minmax_norm_ratings'], ascending=[False])\n",
    "    return df\n",
    "\n",
    "# check_year(df, 2005)"
   ]
  },
  {
   "cell_type": "markdown",
   "metadata": {},
   "source": [
    "# check if book series are rated better than non series books + the total no of books of each type"
   ]
  },
  {
   "cell_type": "code",
   "execution_count": null,
   "metadata": {},
   "outputs": [],
   "source": [
    "df.groupby('series')['minmax_norm_ratings'].mean()\n",
    "df.groupby('series').size()"
   ]
  },
  {
   "cell_type": "markdown",
   "metadata": {},
   "source": [
    "# compare no of ratings with average ratings"
   ]
  },
  {
   "cell_type": "code",
   "execution_count": null,
   "metadata": {},
   "outputs": [],
   "source": [
    "df[ (df['num_ratings'] < df['num_ratings'].std()) & (df['avg_rating']>4) ].sort_values(by=['num_ratings'], ascending=[True])"
   ]
  },
  {
   "cell_type": "markdown",
   "metadata": {},
   "source": [
    "# clean data in PLACES column"
   ]
  },
  {
   "cell_type": "code",
   "execution_count": null,
   "metadata": {},
   "outputs": [],
   "source": [
    "df = df.replace({'places': {np.nan: '[]'}})\n",
    "\n",
    "genres_rating = {}\n",
    "genres_counts = {}\n",
    "\n",
    "places_rating = {}\n",
    "places_counts = {}\n",
    "\n",
    "genres,places,avg_rating = df.genres, df.places, df.avg_rating\n",
    "\n",
    "for id in range(len(avg_rating)):\n",
    "    clean_genre = ast.literal_eval(genres[id])\n",
    "    clean_places = ast.literal_eval(places[id])\n",
    "    if len(clean_genre) != 0:\n",
    "        for ng in clean_genre:\n",
    "            for i in ng.split('>'):\n",
    "                genr = i.strip()\n",
    "                if genr in genres_rating:\n",
    "                    genres_rating[genr].append(avg_rating[id])\n",
    "                else:\n",
    "                    genres_rating[genr] = [avg_rating[id]]\n",
    "                if genr in genres_counts:\n",
    "                    genres_counts[genr] += 1\n",
    "                else:\n",
    "                    genres_counts[genr] = 1\n",
    "    #for places\n",
    "    if len(clean_places) != 0:\n",
    "        for cp in clean_places:\n",
    "            plac = cp.strip()\n",
    "            if plac in places_rating:\n",
    "                places_rating[plac].append(avg_rating[id])\n",
    "            else:\n",
    "                places_rating[plac] = [avg_rating[id]]\n",
    "            if plac in places_counts:\n",
    "                places_counts[plac] += 1\n",
    "            else:\n",
    "                places_counts[plac] = 1\n",
    "\n",
    "#genres\n",
    "for g in genres_rating.keys():\n",
    "    genres_rating[g] = np.round(np.mean(genres_rating[g]),decimals=3)\n",
    "\n",
    "dic_genres_rating = dict(zip(genres_rating.keys(), genres_rating.values()))\n",
    "df_genres_rating = pd.DataFrame.from_dict(dic_genres_rating, orient='index',\\\n",
    "    columns=['mean_ratings']).sort_values(by='mean_ratings',ascending=False)\n",
    "\n",
    "dic_genres_counts = dict(zip(genres_counts.keys(), genres_counts.values()))\n",
    "df_genres_counts = pd.DataFrame.from_dict(dic_genres_counts, orient='index',\\\n",
    "    columns=['total_counts']).sort_values(by='total_counts',ascending=False)\n",
    "\n",
    "#places\n",
    "for g in places_rating.keys():\n",
    "    places_rating[g] = np.round(np.mean(places_rating[g]),decimals=3)\n",
    "\n",
    "dic_places_rating = dict(zip(genres_rating.keys(), genres_rating.values()))\n",
    "df_places_rating = pd.DataFrame.from_dict(dic_places_rating, orient='index',\\\n",
    "    columns=['mean_ratings']).sort_values(by='mean_ratings',ascending=False)\n",
    "\n",
    "dic_places_counts = dict(zip(places_counts.keys(), places_counts.values()))\n",
    "df_places_counts = pd.DataFrame.from_dict(dic_places_counts, orient='index',\\\n",
    "    columns=['total_counts']).sort_values(by='total_counts',ascending=False)\n",
    "\n",
    "df_genres_rating.head()\n",
    "df_genres_counts.head()\n",
    "\n",
    "df_places_rating.head()\n",
    "df_places_counts.head()"
   ]
  },
  {
   "cell_type": "code",
   "execution_count": null,
   "metadata": {},
   "outputs": [],
   "source": [
    "import matplotlib.pyplot as plt\n",
    "\n",
    "plt.figure(figsize=(10,6))\n",
    "\n",
    "plt.title('', fontsize=16)\n",
    "plt.xlim([-40,40])\n",
    "plt.xlabel('')\n",
    "plt.ylabel('')\n",
    "plt.legend()\n",
    "plt.savefig('.png')"
   ]
  }
 ],
 "metadata": {
  "interpreter": {
   "hash": "d6e128dd2cf9bb12ecf94668e33e1546608d302a4f44df6f6afa2b8f73a532e1"
  },
  "kernelspec": {
   "display_name": "Python 3.9.7 64-bit ('Strive': conda)",
   "name": "python3"
  },
  "language_info": {
   "codemirror_mode": {
    "name": "ipython",
    "version": 3
   },
   "file_extension": ".py",
   "mimetype": "text/x-python",
   "name": "python",
   "nbconvert_exporter": "python",
   "pygments_lexer": "ipython3",
   "version": "3.9.7"
  }
 },
 "nbformat": 4,
 "nbformat_minor": 4
}
