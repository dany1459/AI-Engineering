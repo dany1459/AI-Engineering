{
 "cells": [
  {
   "cell_type": "markdown",
   "metadata": {},
   "source": [
    "# BEST BOOKS CHALLENGE"
   ]
  },
  {
   "cell_type": "markdown",
   "metadata": {},
   "source": [
    "## Imports"
   ]
  },
  {
   "cell_type": "code",
   "execution_count": 1,
   "metadata": {},
   "outputs": [],
   "source": [
    "import pandas as pd\n",
    "import scrapper as sp"
   ]
  },
  {
   "cell_type": "markdown",
   "metadata": {},
   "source": [
    "## Required parameters"
   ]
  },
  {
   "cell_type": "code",
   "execution_count": 3,
   "metadata": {},
   "outputs": [],
   "source": [
    "# main_url = 'https://www.goodreads.com/list/show/1.Best_Books_Ever'\n",
    "save_freq = 4\n",
    "no_items_needed = 5000\n",
    "wait_time = 5\n",
    "\n",
    "my_driver = \"chromedriver.exe\"\n",
    "csv_name = 'best-books.csv'\n",
    "\n",
    "page_url_csv = 'page_url.txt'\n",
    "page_number_store = 'page_number_store.txt'"
   ]
  },
  {
   "cell_type": "markdown",
   "metadata": {},
   "source": [
    "## Keep running untill required number of items are scrapped"
   ]
  },
  {
   "cell_type": "code",
   "execution_count": 4,
   "metadata": {},
   "outputs": [
    {
     "name": "stdout",
     "output_type": "stream",
     "text": [
      "====================page(18)====================\n",
      "\n",
      "No of trials: 1\n",
      "====================page(18)====================\n",
      "Within page writing: 4, tottal written:1853\n",
      "\n",
      "No of trials: 2\n",
      "====================page(18)====================\n",
      "\n",
      "No of trials: 3\n",
      "====================page(18)====================\n",
      "\n",
      "No of trials: 4\n",
      "====================page(18)====================\n",
      "\n",
      "No of trials: 5\n",
      "====================page(18)====================\n",
      "Within page writing: 4, tottal written:1858\n",
      "Within page writing: 4, tottal written:1862\n",
      "\n",
      "No of trials: 6\n",
      "====================page(18)====================\n",
      "\n",
      "No of trials: 7\n",
      "====================page(18)====================\n",
      "Within page writing: 4, tottal written:1867\n",
      "\n",
      "No of trials: 8\n",
      "====================page(18)====================\n",
      "\n",
      "No of trials: 9\n",
      "====================page(18)====================\n",
      "Within page writing: 4, tottal written:1872\n",
      "Within page writing: 4, tottal written:1876\n",
      "Within page writing: 4, tottal written:1880\n",
      "Within page writing: 4, tottal written:1884\n",
      "Within page writing: 4, tottal written:1888\n",
      "Within page writing: 4, tottal written:1892\n",
      "Within page writing: 4, tottal written:1896\n"
     ]
    }
   ],
   "source": [
    "trial = 0\n",
    "\n",
    "while True:\n",
    "    try:\n",
    "        sp.scraper(my_driver,csv_name,page_url_csv,page_number_store,save_freq,no_items_needed,wait_time)\n",
    "    except:\n",
    "        trial +=1\n",
    "        print(\"\\nNo of trials: \"+str(trial))\n",
    "    \n",
    "    df = pd.read_csv('best-books.csv')\n",
    "    next_row = df.shape[0]\n",
    "\n",
    "    if next_row >= no_items_needed:\n",
    "        break\n",
    "    "
   ]
  },
  {
   "cell_type": "markdown",
   "metadata": {},
   "source": [
    "## Load the csv file below"
   ]
  },
  {
   "cell_type": "code",
   "execution_count": null,
   "metadata": {},
   "outputs": [],
   "source": [
    "df = pd.read_csv(csv_name)\n",
    "print(\"\\nData Shape: \",df.shape)\n",
    "print(df.head())"
   ]
  },
  {
   "cell_type": "code",
   "execution_count": null,
   "metadata": {},
   "outputs": [],
   "source": []
  }
 ],
 "metadata": {
  "interpreter": {
   "hash": "2f9376a53bea67c1ed5cf17fe4a618ec842560647dcd0f876afebe1c5f60995f"
  },
  "kernelspec": {
   "display_name": "Python 3.8.11 64-bit ('strive': conda)",
   "name": "python3"
  },
  "language_info": {
   "codemirror_mode": {
    "name": "ipython",
    "version": 3
   },
   "file_extension": ".py",
   "mimetype": "text/x-python",
   "name": "python",
   "nbconvert_exporter": "python",
   "pygments_lexer": "ipython3",
   "version": "3.8.11"
  }
 },
 "nbformat": 4,
 "nbformat_minor": 4
}
