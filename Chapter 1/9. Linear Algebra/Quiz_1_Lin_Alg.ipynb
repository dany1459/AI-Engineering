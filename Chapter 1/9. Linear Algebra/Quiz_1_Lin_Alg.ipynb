{
 "cells": [
  {
   "cell_type": "markdown",
   "source": [
    "## Linear Algebra Quiz #1\r\n",
    "\r\n",
    "![title](./img/1_0.jpeg)\r\n",
    "\r\n",
    "We strongly suggest working with numpy :)"
   ],
   "metadata": {}
  },
  {
   "cell_type": "code",
   "execution_count": 2,
   "source": [
    "import numpy as np\r\n",
    "import math"
   ],
   "outputs": [],
   "metadata": {}
  },
  {
   "cell_type": "markdown",
   "source": [
    "![title](./img/1_1.png)"
   ],
   "metadata": {}
  },
  {
   "cell_type": "code",
   "execution_count": 55,
   "source": [
    "# type a function that given a 3_dimensional vector it is able to calculate its magnitude\r\n",
    "\r\n",
    "def magnitude_3(a,b,c):\r\n",
    "    vector = np.array([a,b,c])\r\n",
    "    return math.sqrt(sum(pow(element, 2) for element in vector))\r\n",
    "# print(magnitude_3(1,2,3))\r\n",
    "\r\n",
    "# type a function that given a n_dimensional vector it is able to calculate its magnitude\r\n",
    "# if you want to try this from python (not jupyter notebook) https://docs.python.org/3/library/argparse.html would be a good addition\r\n",
    "# if you are doing this from a jupyter notebook only, you can try to prompt the user for an input  \r\n",
    "\r\n",
    "def magnitude_complete(v):\r\n",
    "    vector = np.array(v)\r\n",
    "    return np.linalg.norm(vector)\r\n",
    "magnitude_complete([1,2,3,4,5])"
   ],
   "outputs": [
    {
     "output_type": "execute_result",
     "data": {
      "text/plain": [
       "7.416198487095663"
      ]
     },
     "metadata": {},
     "execution_count": 55
    }
   ],
   "metadata": {}
  },
  {
   "cell_type": "markdown",
   "source": [
    "uncomment the following line when you are ready to test"
   ],
   "metadata": {}
  },
  {
   "cell_type": "code",
   "execution_count": null,
   "source": [
    "assert magnitude_complete(1) == 1.0\r\n",
    "assert magnitude_complete(1,2) >= 2.236\r\n",
    "assert magnitude_complete(1,2,3) >= 3.741\r\n",
    "assert magnitude_complete(1,2,3,4,5) >= 5.477\r\n",
    "assert magnitude_complete(1,2,3,4,5) >= 7.416"
   ],
   "outputs": [],
   "metadata": {}
  },
  {
   "cell_type": "markdown",
   "source": [
    "![title](./img/1_2.png)"
   ],
   "metadata": {}
  },
  {
   "cell_type": "code",
   "execution_count": 57,
   "source": [
    "def magnitude_vectors(a, b):\r\n",
    "    return np.linalg.norm(a+b)\r\n",
    "    \r\n",
    "magnitude_vectors([5,1], [-1,-4])"
   ],
   "outputs": [
    {
     "output_type": "execute_result",
     "data": {
      "text/plain": [
       "6.557438524302"
      ]
     },
     "metadata": {},
     "execution_count": 57
    }
   ],
   "metadata": {}
  },
  {
   "cell_type": "markdown",
   "source": [
    "![title](./img/1_3.png)"
   ],
   "metadata": {}
  },
  {
   "cell_type": "code",
   "execution_count": 62,
   "source": [
    "def direction_vectors(u, v):\r\n",
    "    #checks that size is equal\r\n",
    "    if u == v:\r\n",
    "        pass\r\n",
    "    else:\r\n",
    "        return np.dot(u,v)\r\n",
    "    #returns the angle. Hint: use the arctan\r\n",
    "\r\n",
    "# print(direction_vectors([5,1], [-1,-4]) )\r\n",
    "\r\n",
    "# or if you want to do it all in one batch:\r\n",
    "def magdir_vectors(a, b):\r\n",
    "    #checks that size is equal\r\n",
    "    if a == b:\r\n",
    "        pass\r\n",
    "    else:\r\n",
    "        magn = np.linalg.norm(a+b)\r\n",
    "        dirr = np.dot(a,b)\r\n",
    "        print(f\"The magnitude of {a} + {b} is {magn} and the direction is {dirr}\")\r\n",
    "\r\n",
    "magdir_vectors([5,1], [-1,-4])\r\n",
    "    #returns the magnitude and direction \r\n",
    "    # as alternative, print them in a nicely printed format like:\r\n",
    "    #\"The magnitude of a + b is X and the direction is Y\""
   ],
   "outputs": [
    {
     "output_type": "stream",
     "name": "stdout",
     "text": [
      "The magnitude of [5, 1] + [-1, -4] is 6.557438524302 and the direction is -9\n"
     ]
    }
   ],
   "metadata": {}
  },
  {
   "cell_type": "markdown",
   "source": [
    "![title](./img/1_4.png)\r\n",
    "- What is the magnitude of αx⃗? \r\n",
    "- If α>0, will the direction of the resulting vector change?\r\n",
    "- If α<0, will the direction of the resulting vector change?\r\n",
    "- If −1<α<1, will ∥αx⃗∥  increase, decrease or stay the same?"
   ],
   "metadata": {}
  },
  {
   "cell_type": "code",
   "execution_count": 70,
   "source": [
    "def alpha_magnitude(alpha, b):\r\n",
    "    return np.linalg.norm(alpha * np.array(b))\r\n",
    "\r\n",
    "m = [3, 4]\r\n",
    "print(alpha_magnitude(2, m))\r\n",
    "print(alpha_magnitude(-2, m))\r\n",
    "print(alpha_magnitude(-0.5, m))\r\n",
    "print(alpha_magnitude(0.5, m))"
   ],
   "outputs": [
    {
     "output_type": "stream",
     "name": "stdout",
     "text": [
      "10.0\n",
      "10.0\n",
      "2.5\n",
      "2.5\n"
     ]
    }
   ],
   "metadata": {}
  },
  {
   "cell_type": "markdown",
   "source": [
    "For the above exercise, write down in markdown or in a comment if the direction has changed and what has happened to the vector."
   ],
   "metadata": {}
  },
  {
   "cell_type": "code",
   "execution_count": null,
   "source": [],
   "outputs": [],
   "metadata": {}
  }
 ],
 "metadata": {
  "kernelspec": {
   "name": "python3",
   "display_name": "Python 3.9.7 64-bit ('Strive': conda)"
  },
  "language_info": {
   "codemirror_mode": {
    "name": "ipython",
    "version": 3
   },
   "file_extension": ".py",
   "mimetype": "text/x-python",
   "name": "python",
   "nbconvert_exporter": "python",
   "pygments_lexer": "ipython3",
   "version": "3.9.7"
  },
  "varInspector": {
   "cols": {
    "lenName": 16,
    "lenType": 16,
    "lenVar": 40
   },
   "kernels_config": {
    "python": {
     "delete_cmd_postfix": "",
     "delete_cmd_prefix": "del ",
     "library": "var_list.py",
     "varRefreshCmd": "print(var_dic_list())"
    },
    "r": {
     "delete_cmd_postfix": ") ",
     "delete_cmd_prefix": "rm(",
     "library": "var_list.r",
     "varRefreshCmd": "cat(var_dic_list()) "
    }
   },
   "types_to_exclude": [
    "module",
    "function",
    "builtin_function_or_method",
    "instance",
    "_Feature"
   ],
   "window_display": false
  },
  "interpreter": {
   "hash": "d6e128dd2cf9bb12ecf94668e33e1546608d302a4f44df6f6afa2b8f73a532e1"
  }
 },
 "nbformat": 4,
 "nbformat_minor": 2
}