{
 "cells": [
  {
   "cell_type": "markdown",
   "source": [
    "## Linear Algebra Quiz #3\n",
    "\n",
    "![title](./img/3_0.jpeg)\n",
    "\n",
    "We strongly suggest working with numpy :)"
   ],
   "metadata": {}
  },
  {
   "cell_type": "code",
   "execution_count": 1,
   "source": [
    "import numpy as np\r\n",
    "import math"
   ],
   "outputs": [],
   "metadata": {}
  },
  {
   "cell_type": "markdown",
   "source": [
    "![title](./img/3_2.png)\n",
    "![title](./img/3_3.png)\n",
    "Create a program that can output\n",
    "\n",
    "- What is the value of element c23​ of Matrix C where C=A x B ?\n",
    "- What is the value of element c23​ of Matrix C where C=B x A ?"
   ],
   "metadata": {}
  },
  {
   "cell_type": "code",
   "execution_count": 3,
   "source": [
    "# okay numpy is great but... how would you inverse a matrix by hand?\r\n",
    "a = [[3,1,2], [-5,4,1], [0,3,-8]]\r\n",
    "b = [[0,5,-1], [3,2,-1], [10,0.5,4]]\r\n",
    "inverse = np.linalg.inv(a)\r\n",
    "print(inverse)\r\n",
    "# def inverse_matrix(A):\r\n",
    "\r\n",
    "#     return \"\""
   ],
   "outputs": [
    {
     "output_type": "stream",
     "name": "stdout",
     "text": [
      "[[ 0.2        -0.08        0.04      ]\n",
      " [ 0.22857143  0.13714286  0.07428571]\n",
      " [ 0.08571429  0.05142857 -0.09714286]]\n"
     ]
    }
   ],
   "metadata": {}
  },
  {
   "cell_type": "markdown",
   "source": [
    "![title](./img/3_1.png)\n",
    "Create a program that can output\n",
    "\n",
    "- What is the value of the ijth element if i = 2 and j=3?\n",
    "- What is the value of the ijth element if i = 3 and j=1?"
   ],
   "metadata": {}
  },
  {
   "cell_type": "code",
   "execution_count": 18,
   "source": [
    "# Just answer using code --> easy stuff!\r\n",
    "a = np.array([[3,0.6,4,-3], [-1.3,4,0,8.6], [7,0,-8,0.006]])\r\n",
    "b = np.array([[3,-5.76,45,0],[2,-2,1.3,9], [-9,0,0,0]])\r\n",
    "c = np.array([[0,1009,-66.7849,90], [0,5,4,-0.07], [-7.7,0,0,0]])\r\n",
    "d = a+b-c\r\n",
    "print(d)\r\n",
    "print(d[1,2])\r\n",
    "print(d[2,0])\r\n",
    "# Harder\r\n",
    "# Can you build a matrix solver that can do output the result given n matrices and a sequence of operations such as [add subtract multiply transpose?]\r\n",
    "#Some ideas on valid operations: Multiplication Addition Subtraction Inverstion Transposed. "
   ],
   "outputs": [
    {
     "output_type": "stream",
     "name": "stdout",
     "text": [
      "[[ 6.000000e+00 -1.014160e+03  1.157849e+02 -9.300000e+01]\n",
      " [ 7.000000e-01 -3.000000e+00 -2.700000e+00  1.767000e+01]\n",
      " [ 5.700000e+00  0.000000e+00 -8.000000e+00  6.000000e-03]]\n",
      "-2.7\n",
      "5.7\n"
     ]
    }
   ],
   "metadata": {}
  },
  {
   "cell_type": "markdown",
   "source": [
    "![title](./img/3_3.png)\n",
    "Create a program that can output\n",
    "- How many rows will C have?\n",
    "- How many columns will C have?\n",
    "- What will be the value of c13​?"
   ],
   "metadata": {}
  },
  {
   "cell_type": "code",
   "execution_count": 31,
   "source": [
    "a = np.array([0.6,-15,2,5,98])\r\n",
    "b = np.array([[2,2,-4], [9,-14,0], [13,-0.5,44], [1,9,4], [0,0,5]])\r\n",
    "c = np.matmul(a,b)\r\n",
    "print(c)\r\n",
    "print(c.shape)\r\n",
    "print(c[2])\r\n"
   ],
   "outputs": [
    {
     "output_type": "stream",
     "name": "stdout",
     "text": [
      "[-102.8  255.2  595.6]\n",
      "(3,)\n",
      "595.6\n"
     ]
    }
   ],
   "metadata": {}
  }
 ],
 "metadata": {
  "kernelspec": {
   "name": "python3",
   "display_name": "Python 3.9.7 64-bit ('Strive': conda)"
  },
  "language_info": {
   "codemirror_mode": {
    "name": "ipython",
    "version": 3
   },
   "file_extension": ".py",
   "mimetype": "text/x-python",
   "name": "python",
   "nbconvert_exporter": "python",
   "pygments_lexer": "ipython3",
   "version": "3.9.7"
  },
  "varInspector": {
   "cols": {
    "lenName": 16,
    "lenType": 16,
    "lenVar": 40
   },
   "kernels_config": {
    "python": {
     "delete_cmd_postfix": "",
     "delete_cmd_prefix": "del ",
     "library": "var_list.py",
     "varRefreshCmd": "print(var_dic_list())"
    },
    "r": {
     "delete_cmd_postfix": ") ",
     "delete_cmd_prefix": "rm(",
     "library": "var_list.r",
     "varRefreshCmd": "cat(var_dic_list()) "
    }
   },
   "types_to_exclude": [
    "module",
    "function",
    "builtin_function_or_method",
    "instance",
    "_Feature"
   ],
   "window_display": false
  },
  "interpreter": {
   "hash": "d6e128dd2cf9bb12ecf94668e33e1546608d302a4f44df6f6afa2b8f73a532e1"
  }
 },
 "nbformat": 4,
 "nbformat_minor": 2
}