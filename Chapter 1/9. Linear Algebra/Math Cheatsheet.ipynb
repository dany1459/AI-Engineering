{
 "cells": [
  {
   "cell_type": "markdown",
   "source": [
    "## Develop your own cheatsheet taking notes during the course\r\n",
    "\r\n",
    "You can either do it here or in Notion, if you want guidance for it you can rewatch the class taken by Umut about note taking https://strive-school.zoom.us/rec/share/bKqjQrgxpTljao75kpoesMafGtzQcwFtXuWqSVTOvuoO36i0b1pDTtVOK1RbwHRa.00z2B3Y_wtvKKbMA."
   ],
   "metadata": {}
  },
  {
   "cell_type": "markdown",
   "source": [
    "It is convenient to have short notes with definitions, and an example with a snippet of code.\n",
    "\n",
    "Example:"
   ],
   "metadata": {}
  },
  {
   "cell_type": "markdown",
   "source": [
    "## 1. Norm of a vector - Magnitude\r\n",
    "\r\n",
    "$$ v = (v_{1}, v_{2}, ...,v_{n})$$\r\n",
    "\r\n",
    "$$ ||v|| = \\sqrt{v_{1}^{2}+v_{2}^{2} + ... + v_{n}^{2}}$$"
   ],
   "metadata": {}
  },
  {
   "cell_type": "code",
   "execution_count": 2,
   "source": [
    "import numpy as np\r\n",
    "import math\r\n",
    "v = np.array([1,2,3,4])\r\n",
    "v_norm = np.linalg.norm(v)\r\n",
    "v_norm"
   ],
   "outputs": [
    {
     "output_type": "execute_result",
     "data": {
      "text/plain": [
       "5.477225575051661"
      ]
     },
     "metadata": {},
     "execution_count": 2
    }
   ],
   "metadata": {
    "ExecuteTime": {
     "end_time": "2021-07-12T06:40:03.948538Z",
     "start_time": "2021-07-12T06:40:03.924970Z"
    }
   }
  },
  {
   "cell_type": "markdown",
   "source": [
    "## 2. Vector - Addition - Subtraction - Multiplication - Division"
   ],
   "metadata": {}
  },
  {
   "cell_type": "code",
   "execution_count": 51,
   "source": [
    "u = np.array([1, 2, 1])\r\n",
    "v = np.array([1, 4, 3])\r\n",
    "\r\n",
    "print(u + v)\r\n",
    "print(10 * u)"
   ],
   "outputs": [
    {
     "output_type": "stream",
     "name": "stdout",
     "text": [
      "[2 6 4]\n",
      "[10 20 10]\n"
     ]
    }
   ],
   "metadata": {}
  },
  {
   "cell_type": "markdown",
   "source": [
    "## 3. Dot Product = scalar product = inner product = projection product\r\n",
    "## [a,b,c] * [x,y,z] = a*x +b*y + c*z"
   ],
   "metadata": {}
  },
  {
   "cell_type": "code",
   "execution_count": 49,
   "source": [
    "t = np.dot(u, v)\r\n",
    "print(t)"
   ],
   "outputs": [
    {
     "output_type": "stream",
     "name": "stdout",
     "text": [
      "12\n"
     ]
    }
   ],
   "metadata": {}
  },
  {
   "cell_type": "markdown",
   "source": [
    "## 4. Angle between 2 vectors given the dot product"
   ],
   "metadata": {}
  },
  {
   "cell_type": "code",
   "execution_count": 57,
   "source": [
    "u = np.array([1, 2])\r\n",
    "v = np.array([-2, 1])\r\n",
    "origin = np.array([0 ,0])\r\n",
    "\r\n",
    "dot_product_uv = np.dot(u, v)\r\n",
    "norm_u = np.linalg.norm(u)\r\n",
    "norm_v = np.linalg.norm(v)\r\n",
    "\r\n",
    "cos_theta = dot_product_uv / (norm_u * norm_v)\r\n",
    "\r\n",
    "theta_radians = np.arccos(cos_theta)\r\n",
    "theta_degrees = theta_radians * 180 / np.pi\r\n",
    "print(theta_degrees)\r\n",
    "\r\n",
    "import matplotlib.pyplot as plt\r\n",
    "# plt.quiver(origin, origin, u, v, scale=21)\r\n"
   ],
   "outputs": [
    {
     "output_type": "stream",
     "name": "stdout",
     "text": [
      "90.0\n"
     ]
    }
   ],
   "metadata": {}
  },
  {
   "cell_type": "markdown",
   "source": [
    "## 5. Matrix\r\n",
    "## np.add(), np.subtract(), np.multiply() / np.matmul(), np.divide()"
   ],
   "metadata": {}
  },
  {
   "cell_type": "code",
   "execution_count": 91,
   "source": [
    "m = np.mat([[1, 2, 3], [4, 5, 6]])\r\n",
    "n = np.mat([[1, 2, 3], [4, 5, 6]])\r\n",
    "\r\n",
    "print(m, '\\n', n)\r\n",
    "np.multiply(m, n)\r\n",
    "print()\r\n",
    "print(m, '\\n', np.transpose(n))\r\n",
    "np.matmul(m, np.transpose(n))"
   ],
   "outputs": [
    {
     "output_type": "stream",
     "name": "stdout",
     "text": [
      "[[1 2 3]\n",
      " [4 5 6]] \n",
      " [[1 2 3]\n",
      " [4 5 6]]\n",
      "\n",
      "[[1 2 3]\n",
      " [4 5 6]] \n",
      " [[1 4]\n",
      " [2 5]\n",
      " [3 6]]\n"
     ]
    },
    {
     "output_type": "execute_result",
     "data": {
      "text/plain": [
       "matrix([[14, 32],\n",
       "        [32, 77]])"
      ]
     },
     "metadata": {},
     "execution_count": 91
    }
   ],
   "metadata": {}
  },
  {
   "cell_type": "markdown",
   "source": [
    "## 6. Add a column to a matrix"
   ],
   "metadata": {}
  },
  {
   "cell_type": "code",
   "execution_count": 78,
   "source": [
    "n = [[3, 2, 5], [1, 4, 7]]\r\n",
    "\r\n",
    "def add_column(matrix):\r\n",
    "  i = np.mat(matrix)\r\n",
    "  a,b = i.shape\r\n",
    "  j = np.zeros((a, 1))\r\n",
    "  x = np.hstack((i, j))\r\n",
    "  return x\r\n",
    "\r\n",
    "add_column(n)"
   ],
   "outputs": [
    {
     "output_type": "execute_result",
     "data": {
      "text/plain": [
       "matrix([[3., 2., 5., 0.],\n",
       "        [1., 4., 7., 0.]])"
      ]
     },
     "metadata": {},
     "execution_count": 78
    }
   ],
   "metadata": {}
  },
  {
   "cell_type": "markdown",
   "source": [
    "## 7. Add a row to a matrix"
   ],
   "metadata": {}
  },
  {
   "cell_type": "code",
   "execution_count": 85,
   "source": [
    "m = [[0, 0], [0, 0]]\r\n",
    "n = [[3, 2, 5], [1, 4, 7]]\r\n",
    "\r\n",
    "def add_row(matrix):\r\n",
    "  new_row = np.zeros(len(matrix[0]))\r\n",
    "  x = np.vstack([matrix, new_row])\r\n",
    "  return x\r\n",
    "\r\n",
    "print(add_row(m))\r\n",
    "print(m)\r\n",
    "print(add_row(n))"
   ],
   "outputs": [
    {
     "output_type": "stream",
     "name": "stdout",
     "text": [
      "[[0. 0.]\n",
      " [0. 0.]\n",
      " [0. 0.]]\n",
      "[[0, 0], [0, 0]]\n",
      "[[3. 2. 5.]\n",
      " [1. 4. 7.]\n",
      " [0. 0. 0.]]\n"
     ]
    }
   ],
   "metadata": {}
  },
  {
   "cell_type": "markdown",
   "source": [
    "## 8. Transpose a matrix"
   ],
   "metadata": {}
  },
  {
   "cell_type": "code",
   "execution_count": 82,
   "source": [
    "def transpose(m):\r\n",
    "    return np.transpose(m)\r\n",
    "\r\n",
    "m = [[3, 4, 6], [1, 5, 9]]\r\n",
    "transpose(m)"
   ],
   "outputs": [
    {
     "output_type": "execute_result",
     "data": {
      "text/plain": [
       "array([[3, 1],\n",
       "       [4, 5],\n",
       "       [6, 9]])"
      ]
     },
     "metadata": {},
     "execution_count": 82
    }
   ],
   "metadata": {}
  },
  {
   "cell_type": "markdown",
   "source": [
    "## 9. Calculate the magnitude of an n-dimensional vector"
   ],
   "metadata": {}
  },
  {
   "cell_type": "code",
   "execution_count": 4,
   "source": [
    "def magnitude_complete(v):\r\n",
    "    vector = np.array(v)\r\n",
    "    return np.linalg.norm(vector)\r\n",
    "magnitude_complete([1,2,3,4])"
   ],
   "outputs": [
    {
     "output_type": "execute_result",
     "data": {
      "text/plain": [
       "5.477225575051661"
      ]
     },
     "metadata": {},
     "execution_count": 4
    }
   ],
   "metadata": {}
  },
  {
   "cell_type": "markdown",
   "source": [
    "## 10. Calculate the magnitude of 2 vectors (a + b)"
   ],
   "metadata": {}
  },
  {
   "cell_type": "code",
   "execution_count": 9,
   "source": [
    "def magnitude_vectors(a, b):\r\n",
    "    if a == b:\r\n",
    "        pass\r\n",
    "    else:\r\n",
    "        return (np.linalg.norm(a+b))\r\n",
    "magnitude_vectors([5,2,4],[1,2,4])"
   ],
   "outputs": [
    {
     "output_type": "execute_result",
     "data": {
      "text/plain": [
       "8.12403840463596"
      ]
     },
     "metadata": {},
     "execution_count": 9
    }
   ],
   "metadata": {}
  },
  {
   "cell_type": "markdown",
   "source": [
    "## 11. Inverse a matrix"
   ],
   "metadata": {}
  },
  {
   "cell_type": "code",
   "execution_count": 12,
   "source": [
    "a = np.array([[1, 2, 3], [1, 3, 3], [1, 2, 4]])\r\n",
    "ainv = np.linalg.inv(a)\r\n",
    "print(ainv)"
   ],
   "outputs": [
    {
     "output_type": "stream",
     "name": "stdout",
     "text": [
      "[[ 6. -2. -3.]\n",
      " [-1.  1.  0.]\n",
      " [-1.  0.  1.]]\n"
     ]
    }
   ],
   "metadata": {}
  },
  {
   "cell_type": "markdown",
   "source": [
    "### 12. "
   ],
   "metadata": {}
  },
  {
   "cell_type": "code",
   "execution_count": null,
   "source": [],
   "outputs": [],
   "metadata": {}
  },
  {
   "cell_type": "markdown",
   "source": [
    "### 13. "
   ],
   "metadata": {}
  },
  {
   "cell_type": "code",
   "execution_count": null,
   "source": [],
   "outputs": [],
   "metadata": {}
  },
  {
   "cell_type": "markdown",
   "source": [
    "### 14. "
   ],
   "metadata": {}
  },
  {
   "cell_type": "code",
   "execution_count": null,
   "source": [],
   "outputs": [],
   "metadata": {}
  },
  {
   "cell_type": "markdown",
   "source": [
    "### 15. "
   ],
   "metadata": {}
  },
  {
   "cell_type": "code",
   "execution_count": null,
   "source": [],
   "outputs": [],
   "metadata": {}
  },
  {
   "cell_type": "markdown",
   "source": [
    "### 16. "
   ],
   "metadata": {}
  },
  {
   "cell_type": "code",
   "execution_count": null,
   "source": [],
   "outputs": [],
   "metadata": {}
  },
  {
   "cell_type": "markdown",
   "source": [
    "### 17. "
   ],
   "metadata": {}
  },
  {
   "cell_type": "code",
   "execution_count": null,
   "source": [],
   "outputs": [],
   "metadata": {}
  }
 ],
 "metadata": {
  "kernelspec": {
   "name": "python3",
   "display_name": "Python 3.9.7 64-bit ('Strive': conda)"
  },
  "language_info": {
   "codemirror_mode": {
    "name": "ipython",
    "version": 3
   },
   "file_extension": ".py",
   "mimetype": "text/x-python",
   "name": "python",
   "nbconvert_exporter": "python",
   "pygments_lexer": "ipython3",
   "version": "3.9.7"
  },
  "varInspector": {
   "cols": {
    "lenName": 16,
    "lenType": 16,
    "lenVar": 40
   },
   "kernels_config": {
    "python": {
     "delete_cmd_postfix": "",
     "delete_cmd_prefix": "del ",
     "library": "var_list.py",
     "varRefreshCmd": "print(var_dic_list())"
    },
    "r": {
     "delete_cmd_postfix": ") ",
     "delete_cmd_prefix": "rm(",
     "library": "var_list.r",
     "varRefreshCmd": "cat(var_dic_list()) "
    }
   },
   "types_to_exclude": [
    "module",
    "function",
    "builtin_function_or_method",
    "instance",
    "_Feature"
   ],
   "window_display": false
  },
  "interpreter": {
   "hash": "d6e128dd2cf9bb12ecf94668e33e1546608d302a4f44df6f6afa2b8f73a532e1"
  }
 },
 "nbformat": 4,
 "nbformat_minor": 5
}