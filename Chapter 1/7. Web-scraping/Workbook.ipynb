{
 "cells": [
  {
   "cell_type": "markdown",
   "source": [
    "# API REQUEST"
   ],
   "metadata": {}
  },
  {
   "cell_type": "code",
   "execution_count": 7,
   "source": [
    "import requests\r\n",
    "import json\r\n",
    "from bs4 import BeautifulSoup   \r\n",
    "\r\n",
    "# Set up the parameters we want to pass to the API.\r\n",
    "# This is the latitude and longitude of New York City.\r\n",
    "parameters = {\"lat\": 40.71, \"lon\": -74}\r\n",
    "# Make a get request with the pahttp://api.open-notify.orgrameters.\r\n",
    "response = requests.get(\"http://api.open-notify.org/iss-pass.json\", params=parameters)\r\n",
    "\r\n",
    "#is the response positive?\r\n",
    "print(response)\r\n",
    "\r\n",
    "# Print the content of the response (the data the server returned)\r\n",
    "# print(response.content)\r\n",
    "\r\n",
    "# save response into a much nicer format\r\n",
    "a = response.json()\r\n",
    "print(response.json())\r\n",
    "\r\n",
    "pretty_json = json.dumps(a, indent=4, sort_keys=True)\r\n",
    "# print(pretty_json)\r\n"
   ],
   "outputs": [
    {
     "output_type": "stream",
     "name": "stdout",
     "text": [
      "<Response [200]>\n",
      "{'message': 'success', 'request': {'altitude': 100, 'datetime': 1632919657, 'latitude': 40.71, 'longitude': -74.0, 'passes': 5}, 'response': [{'duration': 545, 'risetime': 1632938554}, {'duration': 653, 'risetime': 1632944285}, {'duration': 594, 'risetime': 1632950151}, {'duration': 562, 'risetime': 1632956038}, {'duration': 626, 'risetime': 1632961867}]}\n"
     ]
    }
   ],
   "metadata": {}
  },
  {
   "cell_type": "code",
   "execution_count": 11,
   "source": [
    "# Make the same request we did earlier, but with the coordinates of San Francisco instead.\r\n",
    "parameters = {\"lat\": 37.78, \"lon\": -122.41}\r\n",
    "response = requests.get(\"http://api.open-notify.org/iss-pass.json\", params=parameters)\r\n",
    "# Get the response data as a python object. Verify that it's a dictionary.\r\n",
    "data = response.json()\r\n",
    "# print(type(data))\r\n",
    "print(data)\r\n",
    "\r\n",
    "\r\n",
    "\r\n",
    "pretty_json = json.dumps(data, indent=4, sort_keys=True)\r\n",
    "print(pretty_json)\r\n"
   ],
   "outputs": [
    {
     "output_type": "stream",
     "name": "stdout",
     "text": [
      "{'message': 'success', 'request': {'altitude': 100, 'datetime': 1632920257, 'latitude': 37.78, 'longitude': -122.41, 'passes': 5}, 'response': [{'duration': 567, 'risetime': 1632949646}, {'duration': 647, 'risetime': 1632955397}, {'duration': 549, 'risetime': 1632961294}, {'duration': 489, 'risetime': 1632967211}, {'duration': 586, 'risetime': 1632973042}]}\n",
      "{\n",
      "    \"message\": \"success\",\n",
      "    \"request\": {\n",
      "        \"altitude\": 100,\n",
      "        \"datetime\": 1632920257,\n",
      "        \"latitude\": 37.78,\n",
      "        \"longitude\": -122.41,\n",
      "        \"passes\": 5\n",
      "    },\n",
      "    \"response\": [\n",
      "        {\n",
      "            \"duration\": 567,\n",
      "            \"risetime\": 1632949646\n",
      "        },\n",
      "        {\n",
      "            \"duration\": 647,\n",
      "            \"risetime\": 1632955397\n",
      "        },\n",
      "        {\n",
      "            \"duration\": 549,\n",
      "            \"risetime\": 1632961294\n",
      "        },\n",
      "        {\n",
      "            \"duration\": 489,\n",
      "            \"risetime\": 1632967211\n",
      "        },\n",
      "        {\n",
      "            \"duration\": 586,\n",
      "            \"risetime\": 1632973042\n",
      "        }\n",
      "    ]\n",
      "}\n"
     ]
    }
   ],
   "metadata": {}
  },
  {
   "cell_type": "code",
   "execution_count": 7,
   "source": [
    "with open(\"latlong_ny.json\", \"w\") as fp:\r\n",
    "    json.dump(a,fp) \r\n",
    "\r\n",
    "with open('latlong.json') as json_file:\r\n",
    "    data = json.load(json_file)\r\n",
    "    for p in data['response']:\r\n",
    "        print(f\"Duration: {p['duration']}\")\r\n",
    "        print(f\"RiseTime: {p['risetime']}\")\r\n",
    "        print('')"
   ],
   "outputs": [
    {
     "output_type": "stream",
     "name": "stdout",
     "text": [
      "Duration: 594\n",
      "RiseTime: 1607524821\n",
      "\n",
      "Duration: 648\n",
      "RiseTime: 1607530588\n",
      "\n",
      "Duration: 581\n",
      "RiseTime: 1607536467\n",
      "\n",
      "Duration: 569\n",
      "RiseTime: 1607542344\n",
      "\n",
      "Duration: 638\n",
      "RiseTime: 1607548163\n",
      "\n"
     ]
    }
   ],
   "metadata": {}
  },
  {
   "cell_type": "markdown",
   "source": [
    "# CSV"
   ],
   "metadata": {}
  },
  {
   "cell_type": "code",
   "execution_count": 9,
   "source": [
    "import csv\r\n",
    "\r\n",
    "with open('./data/beers.csv') as csv_file:\r\n",
    "    csv_reader = csv.reader(csv_file, delimiter=',')\r\n",
    "    line_count = 0\r\n",
    "    for row in csv_reader:\r\n",
    "        if line_count == 0:\r\n",
    "            print(f'Column names are {\", \".join(row)}')\r\n",
    "            line_count += 1\r\n",
    "        else:\r\n",
    "            print(f'\\t The beer {row[0]} is {row[1]}, and it is from {row[2]}.')\r\n",
    "            line_count += 1\r\n",
    "    print(f'Processed {line_count} lines.')\r\n"
   ],
   "outputs": [
    {
     "output_type": "stream",
     "name": "stdout",
     "text": [
      "Column names are Name, Appearance, Origin\n",
      "\t The beer Edelweiss is White, and it is from Austria.\n",
      "\t The beer CuvÃ©e des Trolls is Blond, and it is from Belgium.\n",
      "\t The beer Choulette AmbrÃ©e is Amber, and it is from France.\n",
      "\t The beer Gulden Draak is Dark, and it is from Belgium.\n",
      "\t The beer Water is Crystal Clear, and it is from Anywhere.\n",
      "Processed 6 lines.\n"
     ]
    }
   ],
   "metadata": {}
  },
  {
   "cell_type": "markdown",
   "source": [
    "# CSV into Dictionary"
   ],
   "metadata": {}
  },
  {
   "cell_type": "code",
   "execution_count": 10,
   "source": [
    "import csv\r\n",
    "\r\n",
    "with open('./data/beers.csv', mode='r') as csv_file:\r\n",
    "    csv_reader = csv.DictReader(csv_file)\r\n",
    "    line_count = 0\r\n",
    "    for row in csv_reader:\r\n",
    "        if line_count == 0:\r\n",
    "            print(f'Column names are {\", \".join(row)}')\r\n",
    "            line_count += 1\r\n",
    "        print(f'\\tThe beer {row[\"Name\"]} is {row[\"Appearance\"]}, and it is from {row[\"Origin\"]}.')\r\n",
    "        line_count += 1\r\n",
    "    print(f'Processed {line_count} lines.')\r\n"
   ],
   "outputs": [
    {
     "output_type": "stream",
     "name": "stdout",
     "text": [
      "Column names are Name, Appearance, Origin\n",
      "\tThe beer Edelweiss is White, and it is from Austria.\n",
      "\tThe beer CuvÃ©e des Trolls is Blond, and it is from Belgium.\n",
      "\tThe beer Choulette AmbrÃ©e is Amber, and it is from France.\n",
      "\tThe beer Gulden Draak is Dark, and it is from Belgium.\n",
      "\tThe beer Water is Crystal Clear, and it is from Anywhere.\n",
      "Processed 6 lines.\n"
     ]
    }
   ],
   "metadata": {}
  },
  {
   "cell_type": "markdown",
   "source": [
    "# The Power of Pandas"
   ],
   "metadata": {}
  },
  {
   "cell_type": "code",
   "execution_count": 11,
   "source": [
    "import pandas\r\n",
    "\r\n",
    "df = pandas.read_csv('./data/beers.csv')\r\n",
    "\r\n",
    "print(df)\r\n"
   ],
   "outputs": [
    {
     "output_type": "stream",
     "name": "stdout",
     "text": [
      "               Name     Appearance    Origin\n",
      "0         Edelweiss          White   Austria\n",
      "1  Cuvée des Trolls          Blond   Belgium\n",
      "2  Choulette Ambrée          Amber    France\n",
      "3      Gulden Draak           Dark   Belgium\n",
      "4             Water  Crystal Clear  Anywhere\n"
     ]
    }
   ],
   "metadata": {}
  },
  {
   "cell_type": "markdown",
   "source": [
    "# downloading html with requests library"
   ],
   "metadata": {}
  },
  {
   "cell_type": "code",
   "execution_count": 1,
   "source": [
    "import requests\r\n",
    "page = requests.get(\"http://dataquestio.github.io/web-scraping-pages/simple.html\")\r\n",
    "page"
   ],
   "outputs": [
    {
     "output_type": "execute_result",
     "data": {
      "text/plain": [
       "<Response [200]>"
      ]
     },
     "metadata": {},
     "execution_count": 1
    }
   ],
   "metadata": {}
  },
  {
   "cell_type": "markdown",
   "source": [
    "# We can print out the HTML content of the page using the content property: "
   ],
   "metadata": {}
  },
  {
   "cell_type": "code",
   "execution_count": 13,
   "source": [
    "import requests\r\n",
    "page = requests.get(\"http://dataquestio.github.io/web-scraping-pages/simple.html\")\r\n",
    "page\r\n",
    "\r\n",
    "page.status_code\r\n",
    "page.content"
   ],
   "outputs": [
    {
     "output_type": "execute_result",
     "data": {
      "text/plain": [
       "b'<!DOCTYPE html>\\n<html>\\n    <head>\\n        <title>A simple example page</title>\\n    </head>\\n    <body>\\n        <p>Here is some simple content for this page.</p>\\n    </body>\\n</html>'"
      ]
     },
     "metadata": {},
     "execution_count": 13
    }
   ],
   "metadata": {}
  },
  {
   "cell_type": "markdown",
   "source": [
    "# Beautiful Soup"
   ],
   "metadata": {}
  },
  {
   "cell_type": "code",
   "execution_count": 35,
   "source": [
    "# Weather.gov\r\n",
    "import requests\r\n",
    "from bs4 import BeautifulSoup\r\n",
    "\r\n",
    "page = requests.get(\"https://forecast.weather.gov/MapClick.php?lat=37.777120000000025&lon=-122.41963999999996#.X9DVpBakolQ\")\r\n",
    "soup = BeautifulSoup(page.content, 'html.parser')\r\n",
    "html = list(soup.children)[2]\r\n",
    "body = list(html.children)[3]\r\n",
    "p = body.find_all('p')\r\n",
    "for i in range(len(p)):\r\n",
    "    print(p[i])\r\n",
    "\r\n",
    "#target parents\r\n",
    "#go deeper into childen\r\n",
    "# find p element or relevant class\r\n",
    "    # target day\r\n",
    "    # target temperature\r\n",
    "    # target summary \r\n",
    "#save into a list\r\n",
    "#save into a dictionary?\r\n",
    "# {\"day1\":[\"sunday\", \"54\", 'today was a great sunny day '], \"day2\":[\"monday\", \"54\", 'today was a great sunny day ']}\r\n",
    "#load dict into pandas\r\n",
    "# create column names if needed"
   ],
   "outputs": [
    {
     "output_type": "stream",
     "name": "stdout",
     "text": [
      "<p>\n",
      "<input checked=\"checked\" id=\"nws\" name=\"affiliate\" type=\"radio\" value=\"nws.noaa.gov\"/>\n",
      "<label class=\"search-scope\" for=\"nws\">NWS</label>\n",
      "<input id=\"noaa\" name=\"affiliate\" type=\"radio\" value=\"noaa.gov\"/>\n",
      "<label class=\"search-scope\" for=\"noaa\">All NOAA</label>\n",
      "</p>\n",
      "<p>Your local forecast office is</p>\n",
      "<p>\n",
      "            A strong cold front will bring heavy rain and the threat of isolated flash flooding across parts of the Central Plains, Lower Mississippi Valley, and Texas Gulf Coast.  Warm, summer-like temperatures will continue across the Midwest. A powerful storm is located in the Bering Sea near Alaska.\n",
      "            <a href=\"http://www.wpc.ncep.noaa.gov/discussions/hpcdiscussions.php?disc=pmdspd\" target=\"_blank\">Read More &gt;</a>\n",
      "</p>\n",
      "<p class=\"myforecast-current\">NA</p>\n",
      "<p class=\"myforecast-current-lrg\">54°F</p>\n",
      "<p class=\"myforecast-current-sm\">12°C</p>\n",
      "<p class=\"moreInfo\"><b>More Information:</b></p>\n",
      "<p><a href=\"https://www.weather.gov/mtr\" id=\"localWFO\" title=\"San Francisco Bay Area/Monterey, CA\"><span class=\"hideText\">Local</span> Forecast Office</a><a href=\"https://www.weather.gov/wrh/LocalWeather?zone=CAZ006\" id=\"moreWx\">More Local Wx</a><a href=\"https://www.wrh.noaa.gov/mesowest/getobext.php?wfo=mtr&amp;sid=SFOC1&amp;num=72&amp;raw=0\">3 Day History</a><a href=\"//mobile.weather.gov/index.php?lat=37.7771&amp;lon=-122.4196&amp;unit=0&amp;lg=english\" id=\"mobileWxLink\">Mobile Weather</a><a href=\"MapClick.php?lat=37.7771&amp;lon=-122.4196&amp;unit=0&amp;lg=english&amp;FcstType=graphical\" id=\"wxGraph\">Hourly <span class=\"hideText\">Weather </span>Forecast</a></p>\n",
      "<p class=\"period-name\">Today<br/><br/></p>\n",
      "<p><img alt=\"Today: Sunny, with a high near 70. Light west wind increasing to 15 to 20 mph in the afternoon. Winds could gust as high as 25 mph. \" class=\"forecast-icon\" src=\"newimages/medium/few.png\" title=\"Today: Sunny, with a high near 70. Light west wind increasing to 15 to 20 mph in the afternoon. Winds could gust as high as 25 mph. \"/></p>\n",
      "<p class=\"short-desc\">Sunny</p>\n",
      "<p class=\"temp temp-high\">High: 70 °F</p>\n",
      "<p class=\"period-name\">Tonight<br/><br/></p>\n",
      "<p><img alt=\"Tonight: Mostly clear, with a low around 55. West wind 10 to 15 mph becoming light and variable  after midnight. Winds could gust as high as 18 mph. \" class=\"forecast-icon\" src=\"newimages/medium/nfew.png\" title=\"Tonight: Mostly clear, with a low around 55. West wind 10 to 15 mph becoming light and variable  after midnight. Winds could gust as high as 18 mph. \"/></p>\n",
      "<p class=\"short-desc\">Mostly Clear</p>\n",
      "<p class=\"temp temp-low\">Low: 55 °F</p>\n",
      "<p class=\"period-name\">Thursday<br/><br/></p>\n",
      "<p><img alt=\"Thursday: Sunny, with a high near 75. Light and variable wind becoming west 10 to 15 mph in the afternoon. Winds could gust as high as 20 mph. \" class=\"forecast-icon\" src=\"newimages/medium/skc.png\" title=\"Thursday: Sunny, with a high near 75. Light and variable wind becoming west 10 to 15 mph in the afternoon. Winds could gust as high as 20 mph. \"/></p>\n",
      "<p class=\"short-desc\">Sunny</p>\n",
      "<p class=\"temp temp-high\">High: 75 °F</p>\n",
      "<p class=\"period-name\">Thursday<br/>Night</p>\n",
      "<p><img alt=\"Thursday Night: Increasing clouds, with a low around 56. Southwest wind 12 to 17 mph decreasing to 5 to 10 mph after midnight. Winds could gust as high as 22 mph. \" class=\"forecast-icon\" src=\"newimages/medium/nsct.png\" title=\"Thursday Night: Increasing clouds, with a low around 56. Southwest wind 12 to 17 mph decreasing to 5 to 10 mph after midnight. Winds could gust as high as 22 mph. \"/></p>\n",
      "<p class=\"short-desc\">Increasing<br/>Clouds</p>\n",
      "<p class=\"temp temp-low\">Low: 56 °F</p>\n",
      "<p class=\"period-name\">Friday<br/><br/></p>\n",
      "<p><img alt=\"Friday: Mostly sunny, with a high near 73. Light west wind increasing to 8 to 13 mph in the morning. \" class=\"forecast-icon\" src=\"newimages/medium/sct.png\" title=\"Friday: Mostly sunny, with a high near 73. Light west wind increasing to 8 to 13 mph in the morning. \"/></p>\n",
      "<p class=\"short-desc\">Mostly Sunny</p>\n",
      "<p class=\"temp temp-high\">High: 73 °F</p>\n",
      "<p class=\"period-name\">Friday<br/>Night</p>\n",
      "<p><img alt=\"Friday Night: Partly cloudy, with a low around 55.\" class=\"forecast-icon\" src=\"newimages/medium/nsct.png\" title=\"Friday Night: Partly cloudy, with a low around 55.\"/></p>\n",
      "<p class=\"short-desc\">Partly Cloudy</p>\n",
      "<p class=\"temp temp-low\">Low: 55 °F</p>\n",
      "<p class=\"period-name\">Saturday<br/><br/></p>\n",
      "<p><img alt=\"Saturday: Mostly sunny, with a high near 73.\" class=\"forecast-icon\" src=\"newimages/medium/sct.png\" title=\"Saturday: Mostly sunny, with a high near 73.\"/></p>\n",
      "<p class=\"short-desc\">Mostly Sunny</p>\n",
      "<p class=\"temp temp-high\">High: 73 °F</p>\n",
      "<p class=\"period-name\">Saturday<br/>Night</p>\n",
      "<p><img alt=\"Saturday Night: Partly cloudy, with a low around 55.\" class=\"forecast-icon\" src=\"newimages/medium/nsct.png\" title=\"Saturday Night: Partly cloudy, with a low around 55.\"/></p>\n",
      "<p class=\"short-desc\">Partly Cloudy</p>\n",
      "<p class=\"temp temp-low\">Low: 55 °F</p>\n",
      "<p class=\"period-name\">Sunday<br/><br/></p>\n",
      "<p><img alt=\"Sunday: Sunny, with a high near 73.\" class=\"forecast-icon\" src=\"newimages/medium/few.png\" title=\"Sunday: Sunny, with a high near 73.\"/></p>\n",
      "<p class=\"short-desc\">Sunny</p>\n",
      "<p class=\"temp temp-high\">High: 73 °F</p>\n",
      "<p class=\"myforecast-location\"><a href=\"MapClick.php?zoneid=CAZ006\">Zone Area Forecast for San Francisco County, CA</a></p>\n",
      "<p><a href=\"//graphical.weather.gov/sectors/pacsouthwest.php?element=MaxT\">High Temperature</a></p>\n",
      "<p><a href=\"//graphical.weather.gov/sectors/pacsouthwest.php?element=Wx\">Chance of Precipitation</a></p>\n"
     ]
    }
   ],
   "metadata": {
    "tags": [
     "outputPrepend"
    ]
   }
  },
  {
   "cell_type": "code",
   "execution_count": 15,
   "source": [
    "# For further information\r\n",
    "# https://www.dataquest.io/blog/python-api-tutorial/\r\n",
    "\r\n",
    "import requests\r\n",
    "from bs4 import BeautifulSoup\r\n",
    "\r\n",
    "page = requests.get(\"http://dataquestio.github.io/web-scraping-pages/simple.html\")\r\n",
    "# Print the status code of the response.\r\n",
    "\r\n",
    "soup = BeautifulSoup(page.content, 'html.parser')\r\n",
    "#print(soup.prettify())\r\n",
    "\r\n",
    "print()\r\n",
    "print(\"This are the children\")\r\n",
    "print()\r\n",
    "\r\n",
    "html = list(soup.children)[2]\r\n",
    "#print(html)\r\n",
    "\r\n",
    "body = list(html.children)[3]\r\n",
    "#print(body)\r\n",
    "\r\n",
    "p = list(body.children)[1]\r\n",
    "#print(p)\r\n",
    "\r\n",
    "#print(p.get_text())\r\n",
    "\r\n",
    "#Faster Way\r\n",
    "\r\n",
    "p = soup.find('p')\r\n",
    "\r\n",
    "print(p.get_text())\r\n"
   ],
   "outputs": [
    {
     "output_type": "stream",
     "name": "stdout",
     "text": [
      "\n",
      "This are the children\n",
      "\n",
      "Here is some simple content for this page.\n"
     ]
    }
   ],
   "metadata": {}
  },
  {
   "cell_type": "code",
   "execution_count": 41,
   "source": [
    "l = ['html', '\\n', \"<html> <head> <title>A simple example page</title></head><body><p>Here is some simple content for this page.</p></body></html>\"]"
   ],
   "outputs": [],
   "metadata": {}
  },
  {
   "cell_type": "code",
   "execution_count": 42,
   "source": [
    "l[2]"
   ],
   "outputs": [
    {
     "output_type": "execute_result",
     "data": {
      "text/plain": [
       "'<html> <head> <title>A simple example page</title></head><body><p>Here is some simple content for this page.</p></body></html>'"
      ]
     },
     "metadata": {},
     "execution_count": 42
    }
   ],
   "metadata": {}
  },
  {
   "cell_type": "markdown",
   "source": [
    "# FindAll with BS"
   ],
   "metadata": {}
  },
  {
   "cell_type": "code",
   "execution_count": 1,
   "source": [
    "# https://www.dataquest.io/blog/python-api-tutorial/\r\n",
    "\r\n",
    "import requests\r\n",
    "from bs4 import BeautifulSoup\r\n",
    "\r\n",
    "page =requests.get(\"http://dataquestio.github.io/web-scraping-pages/ids_and_classes.html\")\r\n",
    "# Print the status code of the response.\r\n",
    "\r\n",
    "soup =BeautifulSoup(page.content, 'html.parser')\r\n",
    "#print(soup.prettify())\r\n",
    "\r\n",
    "outer = soup.find_all('p', class_='outer-text')[0]\r\n",
    "#outer = soup.find(id='first').string\r\n",
    "print(outer)\r\n"
   ],
   "outputs": [
    {
     "output_type": "stream",
     "name": "stdout",
     "text": [
      "<p class=\"outer-text first-item\" id=\"second\">\n",
      "<b>\n",
      "                First outer paragraph.\n",
      "            </b>\n",
      "</p>\n"
     ]
    }
   ],
   "metadata": {}
  },
  {
   "cell_type": "code",
   "execution_count": 17,
   "source": [
    "outer.find_all('b')[0]"
   ],
   "outputs": [
    {
     "output_type": "execute_result",
     "data": {
      "text/plain": [
       "<b>\n",
       "                First outer paragraph.\n",
       "            </b>"
      ]
     },
     "metadata": {},
     "execution_count": 17
    }
   ],
   "metadata": {}
  },
  {
   "cell_type": "code",
   "execution_count": null,
   "source": [],
   "outputs": [],
   "metadata": {}
  }
 ],
 "metadata": {
  "kernelspec": {
   "name": "python3",
   "display_name": "Python 3.8.12 64-bit ('strive': conda)"
  },
  "language_info": {
   "codemirror_mode": {
    "name": "ipython",
    "version": 3
   },
   "file_extension": ".py",
   "mimetype": "text/x-python",
   "name": "python",
   "nbconvert_exporter": "python",
   "pygments_lexer": "ipython3",
   "version": "3.8.12"
  },
  "interpreter": {
   "hash": "763b6704233f6f99bd0682f049aa4760664e7c21df0db9c860628aa9bd9383e2"
  }
 },
 "nbformat": 4,
 "nbformat_minor": 4
}