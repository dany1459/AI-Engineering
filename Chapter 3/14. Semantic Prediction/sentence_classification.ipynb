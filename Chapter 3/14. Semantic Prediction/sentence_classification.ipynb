{
 "cells": [
  {
   "cell_type": "code",
   "execution_count": 2,
   "metadata": {},
   "outputs": [],
   "source": [
    "import spacy\n",
    "import pandas as pd\n",
    "import torch\n",
    "import torch.nn.functional as F\n",
    "from torch import optim\n",
    "from torch.utils.data import DataLoader, Dataset\n",
    "from torch import nn\n",
    "from torchtext.vocab import FastText"
   ]
  },
  {
   "cell_type": "code",
   "execution_count": 5,
   "metadata": {},
   "outputs": [
    {
     "name": "stderr",
     "output_type": "stream",
     "text": [
      "100%|██████████| 644M/644M [00:15<00:00, 41.7MB/s]\n"
     ]
    },
    {
     "data": {
      "text/plain": [
       "(<torchtext.data.datasets_utils._RawTextIterableDataset at 0x216d682b0d0>,\n",
       " <torchtext.data.datasets_utils._RawTextIterableDataset at 0x216d7a182e0>)"
      ]
     },
     "execution_count": 5,
     "metadata": {},
     "output_type": "execute_result"
    }
   ],
   "source": [
    "# import torchtext.datasets as ds\n",
    "# ds.AmazonReviewFull(root='.data', split=('train', 'test'))"
   ]
  },
  {
   "cell_type": "markdown",
   "metadata": {},
   "source": [
    "### 1. Preprocessing"
   ]
  },
  {
   "cell_type": "code",
   "execution_count": 14,
   "metadata": {},
   "outputs": [
    {
     "data": {
      "text/plain": [
       "(3000000, 3)"
      ]
     },
     "execution_count": 14,
     "metadata": {},
     "output_type": "execute_result"
    }
   ],
   "source": [
    "# df = pd.read_csv(\"train.csv\", header=None)\n",
    "# df.shape"
   ]
  },
  {
   "cell_type": "code",
   "execution_count": 3,
   "metadata": {},
   "outputs": [
    {
     "data": {
      "text/plain": [
       "(650000, 3)"
      ]
     },
     "execution_count": 3,
     "metadata": {},
     "output_type": "execute_result"
    }
   ],
   "source": [
    "df = pd.read_csv('test.csv', header=None)\n",
    "df.shape"
   ]
  },
  {
   "cell_type": "code",
   "execution_count": 4,
   "metadata": {},
   "outputs": [],
   "source": [
    "df.rename({0:\"star\", 1:\"rating1\", 2:\"rating2\"}, axis=1, inplace=True)\n",
    "df[\"review\"] = df[\"rating1\"] + \" \" +  df[\"rating2\"]\n",
    "df.drop(columns=[\"rating1\", \"rating2\"], inplace=True)\n",
    "df.star = df.star.apply(lambda x: int(x) -1)"
   ]
  },
  {
   "cell_type": "code",
   "execution_count": 5,
   "metadata": {},
   "outputs": [],
   "source": [
    "df = df.dropna()"
   ]
  },
  {
   "cell_type": "code",
   "execution_count": 6,
   "metadata": {},
   "outputs": [],
   "source": [
    "nlp = spacy.load(\"en_core_web_sm\")\n",
    "fasttext = FastText(\"simple\")"
   ]
  },
  {
   "cell_type": "code",
   "execution_count": 7,
   "metadata": {},
   "outputs": [],
   "source": [
    "def preprocessing(sentence):\n",
    "    doc = nlp(sentence)\n",
    "    tokens = [token.lemma_ for token in doc if not token.is_punct and not token.is_stop]\n",
    "    return tokens\n",
    "\n",
    "def token_encoder(token, vec):\n",
    "    if token == \"<pad>\":\n",
    "        return 1\n",
    "    else:\n",
    "        try:\n",
    "            return vec.stoi[token]\n",
    "        except:\n",
    "            return 0\n",
    "\n",
    "def encoder(tokens, vec):\n",
    "    return [token_encoder(token, vec) for token in tokens]\n",
    "\n",
    "def padding(list_of_indexes, max_seq_len, padding_index=1):\n",
    "    output = list_of_indexes + (max_seq_len - len(list_of_indexes))*[padding_index]\n",
    "    return output[:max_seq_len]"
   ]
  },
  {
   "cell_type": "code",
   "execution_count": 8,
   "metadata": {},
   "outputs": [
    {
     "data": {
      "text/plain": [
       "((415992, 2), (103998, 2), (129998, 2))"
      ]
     },
     "execution_count": 8,
     "metadata": {},
     "output_type": "execute_result"
    }
   ],
   "source": [
    "# test_df = pd.read_csv('test.csv', header=None)\n",
    "\n",
    "train_val_df = df.sample(frac=0.8, random_state=0)\n",
    "\n",
    "train_df = train_val_df.sample(frac=.8, random_state=0)\n",
    "val_df = train_val_df.drop(train_df.index)\n",
    "test_df = df.drop(train_val_df.index)\n",
    "\n",
    "train_df.shape, val_df.shape, test_df.shape"
   ]
  },
  {
   "cell_type": "markdown",
   "metadata": {},
   "source": [
    "### 2. Dataloader"
   ]
  },
  {
   "cell_type": "code",
   "execution_count": 9,
   "metadata": {},
   "outputs": [],
   "source": [
    "class LoadData(Dataset):\n",
    "    def __init__(self, df, max_seq_len=32):\n",
    "        self.max_seq_len = max_seq_len\n",
    "        self.vec = FastText(\"simple\")\n",
    "        self.vec.vectors[1] = -torch.ones(self.vec.vectors[1].shape[0])\n",
    "        self.vec.vectors[0] = torch.zeros(self.vec.vectors[0].shape[0])\n",
    "        self.vectorizer = lambda x: self.vec.vectors[x]\n",
    "        self.labels = df.star\n",
    "        sequences = [padding(encoder(preprocessing(sequence), self.vec), max_seq_len) for sequence in df.review.tolist()]\n",
    "        self.sequences = sequences\n",
    "    \n",
    "    def __len__(self):\n",
    "        return len(self.sequences)\n",
    "    \n",
    "    def __getitem__(self, i):\n",
    "        assert len(self.sequences[i]) == self.max_seq_len\n",
    "        return self.sequences[i], self.labels[i]"
   ]
  },
  {
   "cell_type": "code",
   "execution_count": 10,
   "metadata": {},
   "outputs": [],
   "source": [
    "train_set = LoadData(train_df, max_seq_len=32)\n",
    "val_set = LoadData(val_df, max_seq_len=32)\n",
    "test_set = LoadData(test_df, max_seq_len=32)"
   ]
  },
  {
   "cell_type": "code",
   "execution_count": null,
   "metadata": {},
   "outputs": [],
   "source": [
    "def collate(batch, vectorizer):\n",
    "    inputs = torch.stack([torch.stack([vectorizer(token) for token in sentence[0]]) for sentence in batch])\n",
    "    target = torch.LongTensor([item[1] for item in batch])\n",
    "    return inputs, target\n",
    "\n",
    "# def collate2(batch, vectorizer=test_set.vectorizer):\n",
    "#     inputs = torch.stack([torch.stack([vectorizer(token) for token in sentence[0]]) for sentence in batch])\n",
    "#     target = torch.LongTensor([item[1] for item in batch])\n",
    "#     return inputs, target"
   ]
  },
  {
   "cell_type": "code",
   "execution_count": 2,
   "metadata": {},
   "outputs": [],
   "source": [
    "batch_size = 16\n",
    "batch = batch_size * 32\n",
    "\n",
    "trainloader = DataLoader(train_set, batch_size=batch_size, collate_fn=collate(batch, train_set.vectorizer))\n",
    "validloader = DataLoader(val_set, batch_size=batch_size, collate_fn=collate(batch, val_set.vectorizer))\n",
    "testloader = DataLoader(test_df, batch_size=batch_size, collate_fn=collate(batch, test_set.vectorizer))"
   ]
  },
  {
   "cell_type": "markdown",
   "metadata": {},
   "source": [
    "### 3. Model"
   ]
  },
  {
   "cell_type": "code",
   "execution_count": null,
   "metadata": {},
   "outputs": [],
   "source": [
    "emb_dim = 300\n",
    "class Classifier(nn.Module):\n",
    "    def __init__(self, max_seq_len, emb_dim, hidden1=16, hidden2=16):\n",
    "        super(Classifier, self).__init__()\n",
    "        self.fc1 = nn.Linear(max_seq_len*emb_dim, hidden1)\n",
    "        self.fc2 = nn.Linear(hidden1, hidden2)\n",
    "        self.fc3 = nn.Linear(hidden2, 5)\n",
    "        self.out = nn.LogSoftmax(dim=1)\n",
    "    \n",
    "    def forward(self, inputs):\n",
    "        x = F.relu(self.fc1(inputs.squeeze(1).float()))\n",
    "        x = F.relu(self.fc2(x))\n",
    "        x = self.fc3(x)\n",
    "        return self.out(x)"
   ]
  },
  {
   "cell_type": "code",
   "execution_count": null,
   "metadata": {},
   "outputs": [],
   "source": [
    "MAX_SEQ_LEN = 32\n",
    "model = Classifier(MAX_SEQ_LEN, 300, 16, 16)\n",
    "criterion = nn.CrossEntropyLoss()\n",
    "optimizer = optim.Adam(model.parameters(), lr=0.003)"
   ]
  },
  {
   "cell_type": "markdown",
   "metadata": {},
   "source": [
    "### 4. Training Loop"
   ]
  },
  {
   "cell_type": "code",
   "execution_count": null,
   "metadata": {},
   "outputs": [],
   "source": [
    "epochs = 5\n",
    "\n",
    "def validation(model, validloader, criterion):\n",
    "    model.eval()\n",
    "    loss_total = 0\n",
    "    with torch.no_grad():\n",
    "        for i, (inputs, labels) in enumerate(iter(validloader)):\n",
    "            output = model(inputs)\n",
    "            loss = criterion(output, labels)\n",
    "            loss_total += loss.item()\n",
    "    return loss_total / len(validloader)\n",
    "\n",
    "the_last_loss = 100\n",
    "patience = 2\n",
    "trigger_times = 0\n",
    "\n",
    "for epoch in range(epochs):\n",
    "\n",
    "    model.train()\n",
    "    for i, (inputs, labels) in enumerate(iter(trainloader)):\n",
    "        \n",
    "        optimizer.zero_grad()\n",
    "        output = model(inputs)\n",
    "        loss = criterion(output, labels)\n",
    "        loss.backward()\n",
    "        optimizer.step()\n",
    "\n",
    "        if i % 100 == 0:\n",
    "            loss, current = loss.item(), i * len(inputs)\n",
    "            print(f\"loss: {loss:>7f}  [{current:>5d}/{len(trainloader.dataset):>5d}]\")\n",
    "\n",
    "    # early stopping\n",
    "    the_current_loss = validation(model, validloader, criterion)\n",
    "    print('The current loss:', the_current_loss)\n",
    "\n",
    "    if the_current_loss > the_last_loss:\n",
    "        trigger_times += 1\n",
    "        print('Trigger times: ', trigger_times)\n",
    "\n",
    "        if trigger_times >= patience:\n",
    "            print('Early stopping!\\nStart the test process.')\n",
    "    else:\n",
    "        print('Trigger times: 0')\n",
    "        trigger_times = 0\n",
    "    \n",
    "    the_last_loss = the_current_loss\n",
    "    total, correct = 0, 0\n",
    "\n",
    "    model.eval()\n",
    "    with torch.no_grad():\n",
    "        for i, (inputs, labels) in enumerate(iter(testloader)):\n",
    "            output = model(inputs)\n",
    "            _, predicted = torch.max(output.data, 1)\n",
    "            total += labels.size(0)\n",
    "            correct += (predicted == labels).sum().item()\n",
    "\n",
    "        print(f\"Accuracy: {correct/total}\")\n",
    "        "
   ]
  }
 ],
 "metadata": {
  "interpreter": {
   "hash": "60ba87d5da8658c752afedffe45c6d794f40918c72da90f484a2a9b05bc68501"
  },
  "kernelspec": {
   "display_name": "Python 3.9.9 64-bit ('NLPSpacey': venv)",
   "language": "python",
   "name": "python3"
  },
  "language_info": {
   "codemirror_mode": {
    "name": "ipython",
    "version": 3
   },
   "file_extension": ".py",
   "mimetype": "text/x-python",
   "name": "python",
   "nbconvert_exporter": "python",
   "pygments_lexer": "ipython3",
   "version": "3.9.9"
  },
  "orig_nbformat": 4
 },
 "nbformat": 4,
 "nbformat_minor": 2
}
