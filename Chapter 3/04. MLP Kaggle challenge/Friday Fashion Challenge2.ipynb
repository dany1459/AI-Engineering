{
 "cells": [
  {
   "cell_type": "code",
   "execution_count": 201,
   "metadata": {},
   "outputs": [],
   "source": [
    "import numpy as np\n",
    "import pandas as pd\n",
    "import matplotlib.pyplot as plt\n",
    "\n",
    "import torch\n",
    "import torch.nn.functional as F\n",
    "from torch import nn, optim\n",
    "from torchvision import datasets, transforms\n",
    "from torch.utils.data import DataLoader"
   ]
  },
  {
   "cell_type": "code",
   "execution_count": 202,
   "metadata": {},
   "outputs": [],
   "source": [
    "transform = transforms.Compose([transforms.ToTensor(),\n",
    "                                transforms.Normalize((0.5,), (0.5,))])\n",
    "\n",
    "trainset = datasets.FashionMNIST('./F_MNIST_data/', download=True, train=True, transform=transform)\n",
    "testset = datasets.FashionMNIST('./F_MNIST_data/', download=True, train=False, transform=transform)\n",
    "\n",
    "trainloader = DataLoader(trainset, batch_size=128, shuffle=True)\n",
    "testloader = DataLoader(testset, batch_size=128, shuffle=True)"
   ]
  },
  {
   "cell_type": "code",
   "execution_count": 203,
   "metadata": {},
   "outputs": [],
   "source": [
    "def imshow(image, ax=None, title=None, normalize=True):\n",
    "    \"\"\"Imshow for Tensor.\"\"\"\n",
    "    if ax is None:\n",
    "        fig, ax = plt.subplots()\n",
    "    image = image.numpy().transpose((1, 2, 0))\n",
    "\n",
    "    if normalize:\n",
    "        mean = np.array([0.485, 0.456, 0.406])\n",
    "        std = np.array([0.229, 0.224, 0.225])\n",
    "        image = std * image + mean\n",
    "        image = np.clip(image, 0, 1)\n",
    "\n",
    "    ax.imshow(image)\n",
    "    ax.spines['top'].set_visible(False)\n",
    "    ax.spines['right'].set_visible(False)\n",
    "    ax.spines['left'].set_visible(False)\n",
    "    ax.spines['bottom'].set_visible(False)\n",
    "    ax.tick_params(axis='both', length=0)\n",
    "    ax.set_xticklabels('')\n",
    "    ax.set_yticklabels('')\n",
    "\n",
    "    return ax\n",
    "\n",
    "def view_classify(img, ps, version=\"MNIST\"):\n",
    "    ''' Function for viewing an image and it's predicted classes.\n",
    "    '''\n",
    "    ps = ps.data.numpy().squeeze()\n",
    "\n",
    "    fig, (ax1, ax2) = plt.subplots(figsize=(6,9), ncols=2)\n",
    "    ax1.imshow(img.resize_(1, 28, 28).numpy().squeeze())\n",
    "    ax1.axis('off')\n",
    "    ax2.barh(np.arange(10), ps)\n",
    "    ax2.set_aspect(0.1)\n",
    "    ax2.set_yticks(np.arange(10))\n",
    "    if version == \"MNIST\":\n",
    "        ax2.set_yticklabels(np.arange(10))\n",
    "    elif version == \"Fashion\":\n",
    "        ax2.set_yticklabels(['T-shirt/top',\n",
    "                            'Trouser',\n",
    "                            'Pullover',\n",
    "                            'Dress',\n",
    "                            'Coat',\n",
    "                            'Sandal',\n",
    "                            'Shirt',\n",
    "                            'Sneaker',\n",
    "                            'Bag',\n",
    "                            'Ankle Boot'], size='small')\n",
    "    ax2.set_title('Class Probability')\n",
    "    ax2.set_xlim(0, 1.1)\n",
    "\n",
    "    plt.tight_layout()"
   ]
  },
  {
   "cell_type": "code",
   "execution_count": 204,
   "metadata": {},
   "outputs": [],
   "source": [
    "class Network(nn.Module):\n",
    "\n",
    "    def __init__(self):\n",
    "        super().__init__()\n",
    "        self.fc1 = nn.Linear(784, 392)\n",
    "        self.fc2 = nn.Linear(392, 196)\n",
    "        self.fc3 = nn.Linear(196, 98)\n",
    "        self.fc4 = nn.Linear(98, 10)\n",
    "        \n",
    "    def forward(self, x):\n",
    "\n",
    "        x = x.view(x.shape[0], 784)\n",
    "\n",
    "        x = self.fc1(x)\n",
    "        x = F.relu(x)\n",
    "        x = self.fc2(x)\n",
    "        x = F.relu(x)\n",
    "        x = self.fc3(x)\n",
    "        x = F.relu(x)\n",
    "        x = self.fc4(x)\n",
    "        x = F.log_softmax(x)\n",
    "        \n",
    "        return x\n"
   ]
  },
  {
   "cell_type": "code",
   "execution_count": 205,
   "metadata": {},
   "outputs": [],
   "source": [
    "model = Network()\n",
    "\n",
    "criterion = nn.NLLLoss()\n",
    "optimizer = optim.SGD(model.parameters(), lr=0.03)\n",
    "\n",
    "epochs = 25"
   ]
  },
  {
   "cell_type": "code",
   "execution_count": 206,
   "metadata": {},
   "outputs": [],
   "source": [
    "def train(trainloader, model, criterion, optimizer):\n",
    "    size = len(trainloader.dataset)\n",
    "\n",
    "    model.train()\n",
    "    for i, (images, labels) in enumerate(iter(trainloader)):\n",
    "        \n",
    "        output = model(images)\n",
    "        loss = criterion(output, labels)\n",
    "\n",
    "        # backpropagation\n",
    "        optimizer.zero_grad()\n",
    "        loss.backward()\n",
    "        optimizer.step()\n",
    "\n",
    "        if i % 100 == 0:\n",
    "            loss, current = loss.item(), i * len(images)\n",
    "            # print(f\"Loss: {loss:>7f}  [{current:>5d}/{size:>5d}]\")\n",
    "            # print(f\"Loss: {loss:>7f}\")"
   ]
  },
  {
   "cell_type": "code",
   "execution_count": 207,
   "metadata": {},
   "outputs": [],
   "source": [
    "def test(testloader, model, criterion):\n",
    "    num_batches = len(testloader)\n",
    "    size = len(testloader.dataset)\n",
    "    test_loss, correct = 0, 0\n",
    "\n",
    "    model.eval()\n",
    "    with torch.no_grad():\n",
    "        for i, (images, labels) in enumerate(iter(testloader)):\n",
    "            output = model(images)\n",
    "\n",
    "            test_loss += criterion(output, labels).item()\n",
    "            correct += (output.argmax(1) == labels).type(torch.float).sum().item()\n",
    "\n",
    "        test_loss /= num_batches\n",
    "        correct /= size\n",
    "\n",
    "        if (correct*100) >= 90:\n",
    "            torch.save(model.state_dict(), 'model.pth')\n",
    "            \n",
    "        print(f\"Test Error: \\n Accuracy: {(correct*100):>0.1f}%, Avg loss: {test_loss:>8f} \\n\")\n",
    "        \n"
   ]
  },
  {
   "cell_type": "code",
   "execution_count": 208,
   "metadata": {},
   "outputs": [
    {
     "name": "stdout",
     "output_type": "stream",
     "text": [
      "Epoch 1\n"
     ]
    },
    {
     "name": "stderr",
     "output_type": "stream",
     "text": [
      "C:\\Users\\Igor\\AppData\\Local\\Temp/ipykernel_6648/2288729601.py:21: UserWarning: Implicit dimension choice for log_softmax has been deprecated. Change the call to include dim=X as an argument.\n",
      "  x = F.log_softmax(x)\n"
     ]
    },
    {
     "name": "stdout",
     "output_type": "stream",
     "text": [
      "Test Error: \n",
      " Accuracy: 76.0%, Avg loss: 0.636757 \n",
      "\n",
      "Epoch 2\n",
      "Test Error: \n",
      " Accuracy: 81.2%, Avg loss: 0.519006 \n",
      "\n",
      "Epoch 3\n",
      "Test Error: \n",
      " Accuracy: 81.6%, Avg loss: 0.494161 \n",
      "\n",
      "Epoch 4\n",
      "Test Error: \n",
      " Accuracy: 84.0%, Avg loss: 0.454535 \n",
      "\n",
      "Epoch 5\n",
      "Test Error: \n",
      " Accuracy: 84.6%, Avg loss: 0.433837 \n",
      "\n",
      "Epoch 6\n",
      "Test Error: \n",
      " Accuracy: 84.6%, Avg loss: 0.426985 \n",
      "\n",
      "Epoch 7\n",
      "Test Error: \n",
      " Accuracy: 84.7%, Avg loss: 0.415521 \n",
      "\n",
      "Epoch 8\n",
      "Test Error: \n",
      " Accuracy: 85.5%, Avg loss: 0.398201 \n",
      "\n",
      "Epoch 9\n",
      "Test Error: \n",
      " Accuracy: 84.8%, Avg loss: 0.416700 \n",
      "\n",
      "Epoch 10\n",
      "Test Error: \n",
      " Accuracy: 86.4%, Avg loss: 0.371075 \n",
      "\n",
      "Epoch 11\n",
      "Test Error: \n",
      " Accuracy: 86.1%, Avg loss: 0.380369 \n",
      "\n",
      "Epoch 12\n",
      "Test Error: \n",
      " Accuracy: 87.2%, Avg loss: 0.366674 \n",
      "\n",
      "Epoch 13\n",
      "Test Error: \n",
      " Accuracy: 87.2%, Avg loss: 0.357497 \n",
      "\n",
      "Epoch 14\n",
      "Test Error: \n",
      " Accuracy: 86.5%, Avg loss: 0.377663 \n",
      "\n",
      "Epoch 15\n",
      "Test Error: \n",
      " Accuracy: 87.2%, Avg loss: 0.357087 \n",
      "\n",
      "Epoch 16\n",
      "Test Error: \n",
      " Accuracy: 86.1%, Avg loss: 0.379624 \n",
      "\n",
      "Epoch 17\n",
      "Test Error: \n",
      " Accuracy: 86.9%, Avg loss: 0.362046 \n",
      "\n",
      "Epoch 18\n",
      "Test Error: \n",
      " Accuracy: 87.3%, Avg loss: 0.354179 \n",
      "\n",
      "Epoch 19\n",
      "Test Error: \n",
      " Accuracy: 87.6%, Avg loss: 0.348939 \n",
      "\n",
      "Epoch 20\n",
      "Test Error: \n",
      " Accuracy: 87.8%, Avg loss: 0.337970 \n",
      "\n",
      "Epoch 21\n",
      "Test Error: \n",
      " Accuracy: 87.8%, Avg loss: 0.345066 \n",
      "\n",
      "Epoch 22\n",
      "Test Error: \n",
      " Accuracy: 87.9%, Avg loss: 0.342152 \n",
      "\n",
      "Epoch 23\n",
      "Test Error: \n",
      " Accuracy: 87.6%, Avg loss: 0.344506 \n",
      "\n",
      "Epoch 24\n",
      "Test Error: \n",
      " Accuracy: 87.1%, Avg loss: 0.373933 \n",
      "\n",
      "Epoch 25\n",
      "Test Error: \n",
      " Accuracy: 86.8%, Avg loss: 0.375604 \n",
      "\n"
     ]
    }
   ],
   "source": [
    "for t in range(epochs):\n",
    "    print(f'Epoch {t+1}')\n",
    "    train(trainloader, model, criterion, optimizer)\n",
    "    test(testloader, model, criterion)\n"
   ]
  },
  {
   "cell_type": "code",
   "execution_count": 209,
   "metadata": {},
   "outputs": [
    {
     "name": "stderr",
     "output_type": "stream",
     "text": [
      "C:\\Users\\Igor\\AppData\\Local\\Temp/ipykernel_6648/2288729601.py:21: UserWarning: Implicit dimension choice for log_softmax has been deprecated. Change the call to include dim=X as an argument.\n",
      "  x = F.log_softmax(x)\n"
     ]
    },
    {
     "data": {
      "image/png": "[encoded data removed]",
      "text/plain": [
       "<Figure size 432x648 with 2 Axes>"
      ]
     },
     "metadata": {
      "image/png": {
       "height": 216,
       "width": 424
      },
      "needs_background": "light"
     },
     "output_type": "display_data"
    }
   ],
   "source": [
    "%matplotlib inline\n",
    "%config InlineBackend.figure_format = 'retina'\n",
    "\n",
    "dataiter = iter(testloader)\n",
    "images, labels = dataiter.next()\n",
    "img = images[1]\n",
    "\n",
    "ps = model(img)\n",
    "ps = torch.exp(ps)\n",
    "\n",
    "view_classify(img, ps, version='Fashion')"
   ]
  },
  {
   "cell_type": "code",
   "execution_count": null,
   "metadata": {},
   "outputs": [],
   "source": []
  }
 ],
 "metadata": {
  "interpreter": {
   "hash": "d6e128dd2cf9bb12ecf94668e33e1546608d302a4f44df6f6afa2b8f73a532e1"
  },
  "kernelspec": {
   "display_name": "Python 3.9.7 64-bit ('Strive': conda)",
   "name": "python3"
  },
  "language_info": {
   "codemirror_mode": {
    "name": "ipython",
    "version": 3
   },
   "file_extension": ".py",
   "mimetype": "text/x-python",
   "name": "python",
   "nbconvert_exporter": "python",
   "pygments_lexer": "ipython3",
   "version": "3.9.7"
  }
 },
 "nbformat": 4,
 "nbformat_minor": 2
}
