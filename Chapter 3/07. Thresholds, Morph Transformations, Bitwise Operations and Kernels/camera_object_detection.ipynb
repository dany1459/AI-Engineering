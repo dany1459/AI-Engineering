{
 "cells": [
  {
   "cell_type": "code",
   "execution_count": 2,
   "metadata": {},
   "outputs": [],
   "source": [
    "import numpy as np\n",
    "import matplotlib.pyplot as plt\n",
    "import cv2"
   ]
  },
  {
   "cell_type": "markdown",
   "metadata": {},
   "source": [
    "## Object detection using HSV Color space"
   ]
  },
  {
   "cell_type": "code",
   "execution_count": 3,
   "metadata": {},
   "outputs": [],
   "source": [
    "cap = cv2.VideoCapture(0)\n",
    "\n",
    "def nothing(x):\n",
    "    pass\n",
    "\n",
    "cv2.namedWindow('n1')\n",
    "\n",
    "cv2.createTrackbar('Low - H', 'n1', 0, 180, nothing)\n",
    "cv2.createTrackbar('Low - S', 'n1', 0, 255, nothing)\n",
    "cv2.createTrackbar('Low - V', 'n1', 0, 255, nothing)\n",
    "cv2.createTrackbar('High - H', 'n1', 0, 180, nothing)\n",
    "cv2.createTrackbar('High - S', 'n1', 0, 255, nothing)\n",
    "cv2.createTrackbar('High - V', 'n1', 0, 255, nothing)\n",
    "\n",
    "while True:\n",
    "    _, frame = cap.read()\n",
    "    width = int(cap.get(3))\n",
    "    height = int(cap.get(4))\n",
    "\n",
    "    l_h = cv2.getTrackbarPos('Low - H', 'n1')\n",
    "    l_s = cv2.getTrackbarPos('Low - S', 'n1')\n",
    "    l_v = cv2.getTrackbarPos('Low - V', 'n1')\n",
    "    h_h = cv2.getTrackbarPos('High - H', 'n1')\n",
    "    h_s = cv2.getTrackbarPos('High - S', 'n1')\n",
    "    h_v = cv2.getTrackbarPos('High - V', 'n1')\n",
    "\n",
    "    hsv = cv2.cvtColor(frame, cv2.COLOR_BGR2HSV)\n",
    "    lower_b = (l_h, l_s, l_v)\n",
    "    upper_b = (h_h, h_s, h_v)\n",
    "    # lower_b = (90,50,20)\n",
    "    # upper_b = (180,255,255)\n",
    "\n",
    "    mask_new = cv2.inRange(hsv, lower_b, upper_b)\n",
    "    result = cv2.bitwise_and(frame, frame, mask=mask_new)\n",
    "\n",
    "    cv2.imshow('Result', result)\n",
    "    # cv2.imshow('Mask', mask_new)\n",
    "\n",
    "    if cv2.waitKey(1) == ord('q'):\n",
    "        break\n",
    "\n",
    "cap.release()\n",
    "cv2.destroyAllWindows()"
   ]
  }
 ],
 "metadata": {
  "interpreter": {
   "hash": "d6e128dd2cf9bb12ecf94668e33e1546608d302a4f44df6f6afa2b8f73a532e1"
  },
  "kernelspec": {
   "display_name": "Python 3.9.7 64-bit ('Strive': conda)",
   "name": "python3"
  },
  "language_info": {
   "codemirror_mode": {
    "name": "ipython",
    "version": 3
   },
   "file_extension": ".py",
   "mimetype": "text/x-python",
   "name": "python",
   "nbconvert_exporter": "python",
   "pygments_lexer": "ipython3",
   "version": "3.9.9"
  }
 },
 "nbformat": 4,
 "nbformat_minor": 2
}
