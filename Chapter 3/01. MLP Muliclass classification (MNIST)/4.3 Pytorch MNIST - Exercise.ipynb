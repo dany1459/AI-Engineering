{
 "cells": [
  {
   "cell_type": "markdown",
   "metadata": {},
   "source": [
    "<div style=\"background:#222222; color:#ffffff; padding:20px\">\n",
    "    <h2 align=\"center\">Deep Learning Fundamentals</h2>\n",
    "    <h2 align=\"center\" style=\"color:#01ff84\">Multiclass Clasification: MNIST</h2>\n",
    "<div>"
   ]
  },
  {
   "cell_type": "markdown",
   "metadata": {},
   "source": [
    "## Imports"
   ]
  },
  {
   "cell_type": "code",
   "execution_count": 89,
   "metadata": {},
   "outputs": [],
   "source": [
    "%matplotlib inline\n",
    "%config InlineBackend.figure_format = 'retina'\n",
    "\n",
    "from collections import OrderedDict\n",
    "\n",
    "import numpy as np\n",
    "import matplotlib.pyplot as plt\n",
    "import time\n",
    "\n",
    "import torch\n",
    "from torch import nn\n",
    "from torch import optim\n",
    "import torch.nn.functional as F\n",
    "\n",
    "from torchvision import datasets, transforms"
   ]
  },
  {
   "cell_type": "markdown",
   "metadata": {},
   "source": [
    "## Auxliary plotting function"
   ]
  },
  {
   "cell_type": "code",
   "execution_count": 90,
   "metadata": {},
   "outputs": [],
   "source": [
    "# https://discuss.pytorch.org/t/view-classify-in-module-helper/30279/6\n",
    "\n",
    "def view_classify(img, ps):\n",
    "\n",
    "    ps = ps.data.numpy().squeeze()\n",
    "\n",
    "    fig, (ax1, ax2) = plt.subplots(figsize=(6,9), ncols=2)\n",
    "    ax1.imshow(img.resize_(1, 28, 28).numpy().squeeze())\n",
    "    ax1.axis('off')\n",
    "    ax2.barh(np.arange(10), ps)\n",
    "    ax2.set_aspect(0.1)\n",
    "    ax2.set_yticks(np.arange(10))\n",
    "    ax2.set_yticklabels(np.arange(10))\n",
    "    ax2.set_title('Class Probability')\n",
    "    ax2.set_xlim(0, 1.1)"
   ]
  },
  {
   "cell_type": "markdown",
   "metadata": {},
   "source": [
    "# Load MNIST Dataset\n",
    "First up, we need to get our dataset. This is provided through the `torchvision` package. The code below will download the MNIST dataset, then create training and test datasets for us. Don't worry too much about the details here, you'll learn more about this later."
   ]
  },
  {
   "cell_type": "code",
   "execution_count": 91,
   "metadata": {},
   "outputs": [],
   "source": [
    "# Define a transform to normalize the data (Preprocessing)\n",
    "transform = transforms.Compose([transforms.ToTensor(), transforms.Normalize((0.5,), (0.5,)) ])\n",
    "\n",
    "# Download and load the training data\n",
    "trainset    = datasets.MNIST('MNIST_data/', download=True, train=True, transform=transform)\n",
    "trainloader = torch.utils.data.DataLoader(trainset, batch_size=64, shuffle=True)\n",
    "\n",
    "# Download and load the test data\n",
    "testset    = datasets.MNIST('MNIST_data/', download=True, train=False, transform=transform)\n",
    "testloader = torch.utils.data.DataLoader(testset, batch_size=64, shuffle=True)"
   ]
  },
  {
   "cell_type": "code",
   "execution_count": 92,
   "metadata": {},
   "outputs": [],
   "source": [
    "dataiter = iter(trainloader)\n",
    "images, labels = dataiter.next()"
   ]
  },
  {
   "cell_type": "markdown",
   "metadata": {},
   "source": [
    "We have the training data loaded into `trainloader` and we make that an iterator with `iter(trainloader)`. We'd use this to loop through the dataset for training, but here I'm just grabbing the first batch so we can check out the data. We can see below that `images` is just a tensor with size (64, 1, 28, 28). So, 64 images per batch, 1 color channel, and 28x28 images."
   ]
  },
  {
   "cell_type": "code",
   "execution_count": 93,
   "metadata": {},
   "outputs": [
    {
     "data": {
      "text/plain": [
       "<matplotlib.image.AxesImage at 0x1eb651bedf0>"
      ]
     },
     "execution_count": 93,
     "metadata": {},
     "output_type": "execute_result"
    },
    {
     "data": {
      "image/png": "[encoded data removed]",
      "text/plain": [
       "<Figure size 432x288 with 1 Axes>"
      ]
     },
     "metadata": {
      "image/png": {
       "height": 248,
       "width": 251
      },
      "needs_background": "light"
     },
     "output_type": "display_data"
    }
   ],
   "source": [
    "plt.imshow(images[1].numpy().squeeze(), cmap='Greys_r')"
   ]
  },
  {
   "cell_type": "markdown",
   "metadata": {},
   "source": [
    "## Building networks with PyTorch\n",
    "\n",
    "Here I'll use PyTorch to build a simple feedfoward network to classify the MNIST images. That is, the network will receive a digit image as input and predict the digit in the image.\n",
    "\n",
    "<img src=\"assets/mlp_mnist.png\" width=600px>\n",
    "\n",
    "To build a neural network with PyTorch, you use the `torch.nn` module. The network itself is a class inheriting from `torch.nn.Module`. You define each of the operations separately, like `nn.Linear(784, 128)` for a fully connected linear layer with 784 inputs and 128 units.\n",
    "\n",
    "The class needs to include a `forward` method that implements the forward pass through the network. In this method, you pass some input tensor `x` through each of the operations you defined earlier. The `torch.nn` module also has functional equivalents for things like ReLUs in `torch.nn.functional`. This module is usually imported as `F`. Then to use a ReLU activation on some layer (which is just a tensor), you'd do `F.relu(x)`. Below are a few different commonly used activation functions.\n",
    "\n",
    "<img src=\"assets/activation.png\" width=700px>\n",
    "\n",
    "So, for this network, I'll build it with three fully connected layers, then a softmax output for predicting classes. The softmax function is similar to the sigmoid in that it squashes inputs between 0 and 1, but it's also normalized so that all the values sum to one like a proper probability distribution."
   ]
  },
  {
   "cell_type": "code",
   "execution_count": 94,
   "metadata": {},
   "outputs": [
    {
     "data": {
      "text/plain": [
       "Network(\n",
       "  (fc1): Linear(in_features=784, out_features=128, bias=True)\n",
       "  (fc2): Linear(in_features=128, out_features=64, bias=True)\n",
       "  (fc3): Linear(in_features=64, out_features=10, bias=True)\n",
       ")"
      ]
     },
     "execution_count": 94,
     "metadata": {},
     "output_type": "execute_result"
    }
   ],
   "source": [
    "class Network(nn.Module):\n",
    "    \n",
    "    # Defining the layers, 128, 64, 10 units each\n",
    "    def __init__(self):\n",
    "        super().__init__()\n",
    "        self.fc1 = nn.Linear(784, 128)\n",
    "        self.fc2 = nn.Linear(128, 64)\n",
    "        self.fc3 = nn.Linear(64, 10)\n",
    "        \n",
    "    # Forward pass through the network, returns the output logits\n",
    "    def forward(self, x):\n",
    "\n",
    "        x = x.view(x.shape[0], 28*28)\n",
    "\n",
    "        x = self.fc1(x)\n",
    "        x = F.relu(x)\n",
    "        x = self.fc2(x)\n",
    "        x = F.relu(x)\n",
    "        x = self.fc3(x)\n",
    "        x = F.softmax(x, dim=1)\n",
    "        return x\n",
    "\n",
    "model = Network()\n",
    "model"
   ]
  },
  {
   "cell_type": "markdown",
   "metadata": {},
   "source": [
    "### Sequential API\n",
    "PyTorch provides a convenient way to build networks like this where a tensor is passed sequentially through operations, `nn.Sequential` ([documentation](https://pytorch.org/docs/master/nn.html#torch.nn.Sequential)). Using this to build the equivalent network:"
   ]
  },
  {
   "cell_type": "code",
   "execution_count": 95,
   "metadata": {},
   "outputs": [
    {
     "name": "stdout",
     "output_type": "stream",
     "text": [
      "Sequential(\n",
      "  (0): Linear(in_features=784, out_features=128, bias=True)\n",
      "  (1): ReLU()\n",
      "  (2): Linear(in_features=128, out_features=64, bias=True)\n",
      "  (3): ReLU()\n",
      "  (4): Linear(in_features=64, out_features=10, bias=True)\n",
      "  (5): Softmax(dim=1)\n",
      ")\n"
     ]
    }
   ],
   "source": [
    "# Hyperparameters for our network\n",
    "input_size   = 784\n",
    "hidden_sizes = [128, 64]\n",
    "output_size   = 10\n",
    "\n",
    "# Build a feed-forward network\n",
    "model = nn.Sequential(nn.Linear(input_size, hidden_sizes[0]),\n",
    "                      nn.ReLU(),\n",
    "                      nn.Linear(hidden_sizes[0], hidden_sizes[1]),\n",
    "                      nn.ReLU(),\n",
    "                      nn.Linear(hidden_sizes[1], output_size),\n",
    "                      nn.Softmax(dim=1))\n",
    "print(model)"
   ]
  },
  {
   "cell_type": "markdown",
   "metadata": {},
   "source": [
    "You can also pass in an `OrderedDict` to name the individual layers and operations. Note that a dictionary keys must be unique, so _each operation must have a different name_."
   ]
  },
  {
   "cell_type": "code",
   "execution_count": 96,
   "metadata": {},
   "outputs": [
    {
     "data": {
      "text/plain": [
       "Sequential(\n",
       "  (fc1): Linear(in_features=784, out_features=128, bias=True)\n",
       "  (relu1): ReLU()\n",
       "  (fc2): Linear(in_features=128, out_features=64, bias=True)\n",
       "  (relu2): ReLU()\n",
       "  (output): Linear(in_features=64, out_features=10, bias=True)\n",
       "  (softmax): Softmax(dim=1)\n",
       ")"
      ]
     },
     "execution_count": 96,
     "metadata": {},
     "output_type": "execute_result"
    }
   ],
   "source": [
    "model = nn.Sequential(OrderedDict([\n",
    "          ('fc1',   nn.Linear(input_size, hidden_sizes[0])),\n",
    "          ('relu1', nn.ReLU()),\n",
    "          ('fc2',   nn.Linear(hidden_sizes[0], hidden_sizes[1])),\n",
    "          ('relu2', nn.ReLU()),\n",
    "          ('output', nn.Linear(hidden_sizes[1], output_size)),\n",
    "          ('softmax', nn.Softmax(dim=1))]))\n",
    "model"
   ]
  },
  {
   "cell_type": "markdown",
   "metadata": {},
   "source": [
    "### Initializing weights and biases\n",
    "\n",
    "The weights and such are automatically initialized for you, but it's possible to customize how they are initialized. The weights and biases are tensors attached to the layer you defined, you can get them with `model.fc1.weight` for instance."
   ]
  },
  {
   "cell_type": "code",
   "execution_count": 97,
   "metadata": {},
   "outputs": [
    {
     "name": "stdout",
     "output_type": "stream",
     "text": [
      "Parameter containing:\n",
      "tensor([[ 0.0354, -0.0024, -0.0060,  ...,  0.0354, -0.0302,  0.0107],\n",
      "        [-0.0338,  0.0134, -0.0268,  ..., -0.0196, -0.0149, -0.0076],\n",
      "        [-0.0181, -0.0330,  0.0216,  ..., -0.0308, -0.0307, -0.0213],\n",
      "        ...,\n",
      "        [-0.0083,  0.0228,  0.0257,  ...,  0.0308, -0.0204,  0.0187],\n",
      "        [ 0.0183,  0.0098, -0.0258,  ...,  0.0292,  0.0080,  0.0075],\n",
      "        [-0.0205,  0.0349,  0.0305,  ..., -0.0172, -0.0064, -0.0357]],\n",
      "       requires_grad=True)\n",
      "Parameter containing:\n",
      "tensor([ 1.3235e-02,  3.9857e-03, -2.8001e-02,  2.2882e-02,  1.0499e-02,\n",
      "        -1.9988e-02, -5.3875e-05,  2.6626e-02,  2.1857e-02, -1.9976e-02,\n",
      "        -6.8351e-03, -1.5098e-02,  5.2729e-03, -7.3573e-03, -1.2238e-02,\n",
      "        -3.5447e-02,  1.5368e-02,  2.1548e-02, -3.3062e-02, -1.0819e-02,\n",
      "        -2.5819e-02,  1.6771e-02,  2.7648e-03,  1.3396e-02,  1.7239e-02,\n",
      "        -3.5164e-02,  2.7407e-02, -3.3719e-02, -1.3231e-02, -3.0875e-02,\n",
      "        -3.3270e-02,  2.3712e-02,  1.4176e-03,  1.9324e-02, -2.5419e-02,\n",
      "        -3.5220e-02, -3.2540e-02,  2.4995e-02,  1.3543e-02,  2.4671e-02,\n",
      "        -1.0851e-02,  1.1323e-02,  1.8886e-02,  3.3734e-02,  1.7443e-02,\n",
      "         1.8743e-02, -3.5336e-02,  6.1091e-03, -5.0444e-03, -5.1517e-03,\n",
      "        -2.6021e-02,  2.9827e-02, -3.2388e-02,  2.1139e-02, -1.3632e-02,\n",
      "        -2.7967e-02,  1.0534e-02,  2.6124e-02,  1.3128e-02,  4.8779e-03,\n",
      "        -3.3420e-02,  5.6372e-03, -1.6358e-02, -5.4350e-03, -1.1625e-02,\n",
      "        -3.5210e-02,  3.5502e-02,  1.2055e-03,  2.5807e-02, -2.8768e-02,\n",
      "        -3.4348e-02,  3.0367e-02,  2.7537e-02, -2.0647e-02, -1.1037e-02,\n",
      "        -3.5503e-02,  1.8321e-02, -1.5699e-02, -3.5660e-02,  7.3647e-03,\n",
      "         2.7277e-02, -8.6610e-03,  1.2460e-02, -2.1549e-02,  2.2413e-02,\n",
      "         1.3802e-02, -5.0866e-03, -2.7152e-02,  1.5541e-02,  2.8276e-02,\n",
      "        -2.0709e-02,  2.0490e-02, -1.4809e-03, -3.3378e-02, -3.4937e-02,\n",
      "        -2.8732e-02,  2.8657e-02,  3.5702e-02,  2.6133e-02, -3.2531e-03,\n",
      "        -2.3940e-02,  3.1540e-02,  2.9998e-02,  4.8895e-03, -9.5813e-03,\n",
      "        -1.0159e-02, -2.2459e-02,  1.7704e-02, -2.8734e-02, -3.5580e-02,\n",
      "         1.5871e-02,  2.5265e-02, -1.5559e-02,  2.0322e-03, -2.9754e-02,\n",
      "        -1.5131e-02, -1.7314e-02, -7.3125e-03, -9.8302e-03,  2.0823e-02,\n",
      "         3.1788e-03, -1.5721e-02, -1.5236e-02,  1.8120e-02,  1.9500e-03,\n",
      "        -2.5560e-02,  2.8540e-02,  2.3157e-02], requires_grad=True)\n"
     ]
    }
   ],
   "source": [
    "print(model.fc1.weight)\n",
    "print(model.fc1.bias)"
   ]
  },
  {
   "cell_type": "markdown",
   "metadata": {},
   "source": [
    "For custom initialization, we want to modify these tensors in place. These are actually autograd *Variables*, so we need to get back the actual tensors with `model.fc1.weight.data`. Once we have the tensors, we can fill them with zeros (for biases) or random normal values."
   ]
  },
  {
   "cell_type": "code",
   "execution_count": 98,
   "metadata": {},
   "outputs": [
    {
     "data": {
      "text/plain": [
       "tensor([0., 0., 0., 0., 0., 0., 0., 0., 0., 0., 0., 0., 0., 0., 0., 0., 0., 0., 0., 0., 0., 0., 0., 0.,\n",
       "        0., 0., 0., 0., 0., 0., 0., 0., 0., 0., 0., 0., 0., 0., 0., 0., 0., 0., 0., 0., 0., 0., 0., 0.,\n",
       "        0., 0., 0., 0., 0., 0., 0., 0., 0., 0., 0., 0., 0., 0., 0., 0., 0., 0., 0., 0., 0., 0., 0., 0.,\n",
       "        0., 0., 0., 0., 0., 0., 0., 0., 0., 0., 0., 0., 0., 0., 0., 0., 0., 0., 0., 0., 0., 0., 0., 0.,\n",
       "        0., 0., 0., 0., 0., 0., 0., 0., 0., 0., 0., 0., 0., 0., 0., 0., 0., 0., 0., 0., 0., 0., 0., 0.,\n",
       "        0., 0., 0., 0., 0., 0., 0., 0.])"
      ]
     },
     "execution_count": 98,
     "metadata": {},
     "output_type": "execute_result"
    }
   ],
   "source": [
    "# Set biases to all zeros\n",
    "model.fc1.bias.data.fill_(0)"
   ]
  },
  {
   "cell_type": "code",
   "execution_count": 99,
   "metadata": {},
   "outputs": [
    {
     "data": {
      "text/plain": [
       "tensor([[ 0.0005,  0.0103, -0.0024,  ..., -0.0052, -0.0107, -0.0173],\n",
       "        [-0.0196,  0.0073, -0.0054,  ...,  0.0004,  0.0034,  0.0081],\n",
       "        [ 0.0060,  0.0242, -0.0007,  ...,  0.0036, -0.0024, -0.0028],\n",
       "        ...,\n",
       "        [ 0.0026, -0.0048,  0.0057,  ...,  0.0066,  0.0090, -0.0110],\n",
       "        [-0.0098, -0.0076, -0.0181,  ...,  0.0022,  0.0167, -0.0071],\n",
       "        [-0.0011, -0.0011,  0.0077,  ...,  0.0026,  0.0067, -0.0009]])"
      ]
     },
     "execution_count": 99,
     "metadata": {},
     "output_type": "execute_result"
    }
   ],
   "source": [
    "# sample from random normal with standard dev = 0.01\n",
    "model.fc1.weight.data.normal_(std=0.01)"
   ]
  },
  {
   "cell_type": "markdown",
   "metadata": {},
   "source": [
    "### STEP 1: Forward pass\n",
    "\n",
    "Now that we have a network, let's see what happens when we pass in an image. This is called the forward pass. We're going to convert the image data into a tensor, then pass it through the operations defined by the network architecture."
   ]
  },
  {
   "cell_type": "code",
   "execution_count": 100,
   "metadata": {},
   "outputs": [
    {
     "data": {
      "image/png": "[encoded data removed]",
      "text/plain": [
       "<Figure size 432x648 with 2 Axes>"
      ]
     },
     "metadata": {
      "image/png": {
       "height": 195,
       "width": 349
      },
      "needs_background": "light"
     },
     "output_type": "display_data"
    }
   ],
   "source": [
    "# Grab some data \n",
    "dataiter = iter(trainloader)\n",
    "images, labels = dataiter.next()\n",
    "\n",
    "# Resize images into a 1D vector, new shape is (batch size, color channels, image pixels) \n",
    "images.resize_(64, 1, 784)\n",
    "# or images.resize_(images.shape[0], 1, 784) to not automatically get batch size\n",
    "\n",
    "# Forward pass through the network\n",
    "img_idx = 0\n",
    "ps = model.forward(images[img_idx,:])\n",
    "\n",
    "img = images[img_idx]\n",
    "view_classify(img.view(1, 28, 28), ps)"
   ]
  },
  {
   "cell_type": "markdown",
   "metadata": {},
   "source": [
    "As you can see above, our network has basically no idea what this digit is. It's because we haven't trained it yet, all the weights are random!"
   ]
  },
  {
   "cell_type": "markdown",
   "metadata": {},
   "source": [
    "# Training Neural Networks\n",
    "\n",
    "The network we built isn't so smart, it doesn't know anything about our handwritten digits. Neural networks with non-linear activations work like universal function approximators. There is some function that maps your input to the output. For example, images of handwritten digits to class probabilities. The power of neural networks is that we can train them to approximate this function, and basically any function given enough data and compute time.\n",
    "\n",
    "<img src=\"assets/function_approx.png\" width=500px>\n",
    "\n",
    "At first the network is naive, it doesn't know the function mapping the inputs to the outputs. We train the network by showing it examples of real data, then adjusting the network parameters such that it approximates this function.\n",
    "\n",
    "To find these parameters, we need to know how poorly the network is predicting the real outputs. For this we calculate a **loss function** (also called the cost), a measure of our prediction error. For example, the mean squared loss is often used in regression and binary classification problems\n",
    "\n",
    "$$\n",
    "\\ell = \\frac{1}{2n}\\sum_i^n{\\left(y_i - \\hat{y}_i\\right)^2}\n",
    "$$\n",
    "\n",
    "where $n$ is the number of training examples, $y_i$ are the true labels, and $\\hat{y}_i$ are the predicted labels.\n",
    "\n",
    "By minimizing this loss with respect to the network parameters, we can find configurations where the loss is at a minimum and the network is able to predict the correct labels with high accuracy. We find this minimum using a process called **gradient descent**. The gradient is the slope of the loss function and points in the direction of fastest change. To get to the minimum in the least amount of time, we then want to follow the gradient (downwards). You can think of this like descending a mountain by following the steepest slope to the base.\n",
    "\n",
    "<img src='assets/gradient_descent.png' width=350px>"
   ]
  },
  {
   "cell_type": "markdown",
   "metadata": {},
   "source": [
    "## Backpropagation\n",
    "\n",
    "For single layer networks, gradient descent is simple to implement. However, it's more complicated for deeper, multilayer neural networks like the one we've built. Complicated enough that it took about 30 years before researchers figured out how to train multilayer networks, although it's straightforward once you learn about it. \n",
    "\n",
    "This is done through **backpropagation** which is really just an application of the chain rule from calculus. It's easiest to understand if we convert a two layer network into a graph representation.\n",
    "\n",
    "<img src='assets/w1_backprop_graph.png' width=400px>\n",
    "\n",
    "In the forward pass through the network, our data and operations go from right to left here. To train the weights with gradient descent, we propagate the gradient of the cost backwards through the network. Mathematically, this is really just calculating the gradient of the loss with respect to the weights using the chain rule.\n",
    "\n",
    "$$\n",
    "\\frac{\\partial \\ell}{\\partial w_1} = \\frac{\\partial l_1}{\\partial w_1} \\frac{\\partial s}{\\partial l_1} \\frac{\\partial l_2}{\\partial s} \\frac{\\partial \\ell}{\\partial l_2}\n",
    "$$\n",
    "\n",
    "We update our weights using this gradient with some learning rate $\\alpha$. \n",
    "\n",
    "$$\n",
    "w^\\prime = w - \\alpha \\frac{\\partial \\ell}{\\partial w}\n",
    "$$\n",
    "\n",
    "The learning rate is set such that the weight update steps are small enough that the iterative method settles in a minimum.\n",
    "\n",
    "The first thing we need to do for training is define our loss function. In PyTorch, you'll usually see this as `criterion`. Here we're using softmax output, so we want to use `criterion = nn.CrossEntropyLoss()` as our loss. Later when training, you use `loss = criterion(output, targets)` to calculate the actual loss.\n",
    "\n",
    "We also need to define the optimizer we're using, SGD or Adam, or something along those lines. Here I'll just use SGD with `torch.optim.SGD`, passing in the network parameters and the learning rate."
   ]
  },
  {
   "cell_type": "markdown",
   "metadata": {},
   "source": [
    "## Autograd\n",
    "\n",
    "Torch provides a module, `autograd`, for automatically calculating the gradient of tensors. It does this by keeping track of operations performed on tensors. To make sure PyTorch keeps track of operations on a tensor and calculates the gradients, you need to set `requires_grad` on a tensor. You can do this at creation with the `requires_grad` keyword, or at any time with `x.requires_grad_(True)`.\n",
    "\n",
    "You can turn off gradients for a block of code with the `torch.no_grad()` content:\n",
    "```python\n",
    "x = torch.zeros(1, requires_grad=True)\n",
    ">>> with torch.no_grad():\n",
    "...     y = x * 2\n",
    ">>> y.requires_grad\n",
    "False\n",
    "```\n",
    "\n",
    "Also, you can turn on or off gradients altogether with `torch.set_grad_enabled(True|False)`.\n",
    "\n",
    "The gradients are computed with respect to some variable `z` with `z.backward()`. This does a backward pass through the operations that created `z`."
   ]
  },
  {
   "cell_type": "code",
   "execution_count": 101,
   "metadata": {},
   "outputs": [
    {
     "name": "stdout",
     "output_type": "stream",
     "text": [
      "tensor([[0.3229, 0.8186],\n",
      "        [1.1736, 0.1752]], requires_grad=True)\n"
     ]
    }
   ],
   "source": [
    "x = torch.randn(2,2, requires_grad=True)\n",
    "print(x)"
   ]
  },
  {
   "cell_type": "code",
   "execution_count": 102,
   "metadata": {},
   "outputs": [
    {
     "name": "stdout",
     "output_type": "stream",
     "text": [
      "tensor([[0.1043, 0.6701],\n",
      "        [1.3773, 0.0307]], grad_fn=<PowBackward0>)\n"
     ]
    }
   ],
   "source": [
    "y = x**2\n",
    "print(y)"
   ]
  },
  {
   "cell_type": "markdown",
   "metadata": {},
   "source": [
    "Below we can see the operation that created `y`, a power operation `PowBackward0`."
   ]
  },
  {
   "cell_type": "code",
   "execution_count": 103,
   "metadata": {},
   "outputs": [
    {
     "name": "stdout",
     "output_type": "stream",
     "text": [
      "<PowBackward0 object at 0x000001EB64F0AF10>\n"
     ]
    }
   ],
   "source": [
    "## grad_fn shows the function that generated this variable\n",
    "print(y.grad_fn)"
   ]
  },
  {
   "cell_type": "markdown",
   "metadata": {},
   "source": [
    "The autgrad module keeps track of these operations and knows how to calculate the gradient for each one. In this way, it's able to calculate the gradients for a chain of operations, with respect to any one tensor. Let's reduce the tensor `y` to a scalar value, the mean."
   ]
  },
  {
   "cell_type": "code",
   "execution_count": 104,
   "metadata": {},
   "outputs": [
    {
     "name": "stdout",
     "output_type": "stream",
     "text": [
      "tensor(0.5456, grad_fn=<MeanBackward0>)\n"
     ]
    }
   ],
   "source": [
    "z = y.mean()\n",
    "print(z)"
   ]
  },
  {
   "cell_type": "markdown",
   "metadata": {},
   "source": [
    "You can check the gradients for `x` and `y` but they are empty currently."
   ]
  },
  {
   "cell_type": "code",
   "execution_count": 105,
   "metadata": {},
   "outputs": [
    {
     "name": "stdout",
     "output_type": "stream",
     "text": [
      "None\n"
     ]
    }
   ],
   "source": [
    "print(x.grad)"
   ]
  },
  {
   "cell_type": "markdown",
   "metadata": {},
   "source": [
    "To calculate the gradients, you need to run the `.backward` method on a Variable, `z` for example. This will calculate the gradient for `z` with respect to `x`\n",
    "\n",
    "$$\n",
    "\\frac{\\partial z}{\\partial x} = \\frac{\\partial}{\\partial x}\\left[\\frac{1}{n}\\sum_i^n x_i^2\\right] = \\frac{x}{2}\n",
    "$$"
   ]
  },
  {
   "cell_type": "code",
   "execution_count": 106,
   "metadata": {},
   "outputs": [
    {
     "name": "stdout",
     "output_type": "stream",
     "text": [
      "tensor([[0.1615, 0.4093],\n",
      "        [0.5868, 0.0876]])\n",
      "tensor([[0.1615, 0.4093],\n",
      "        [0.5868, 0.0876]], grad_fn=<DivBackward0>)\n"
     ]
    }
   ],
   "source": [
    "z.backward()\n",
    "print(x.grad)\n",
    "print(x/2)"
   ]
  },
  {
   "cell_type": "markdown",
   "metadata": {},
   "source": [
    "These gradients calculations are particularly useful for neural networks. For training we need the gradients of the weights with respect to the cost. With PyTorch, we run data forward through the network to calculate the cost, then, go backwards to calculate the gradients with respect to the cost. Once we have the gradients we can make a gradient descent step. "
   ]
  },
  {
   "cell_type": "markdown",
   "metadata": {},
   "source": [
    "I'll build a network with `nn.Sequential` here. Only difference from the last part is I'm not actually using softmax on the output, but instead just using the raw output from the last layer. This is because the output from softmax is a probability distribution. Often, the output will have values really close to zero or really close to one. Due to [inaccuracies with representing numbers as floating points](https://docs.python.org/3/tutorial/floatingpoint.html), computations with a softmax output can lose accuracy and become unstable. To get around this, we'll use the raw output, called the **logits**, to calculate the loss."
   ]
  },
  {
   "cell_type": "code",
   "execution_count": 107,
   "metadata": {},
   "outputs": [],
   "source": [
    "# Hyperparameters for our network\n",
    "input_size   = 784\n",
    "hidden_sizes = [128, 64]\n",
    "output_size  = 10\n",
    "\n",
    "# Build a feed-forward network\n",
    "model = nn.Sequential(OrderedDict([\n",
    "          ('fc1', nn.Linear(input_size, hidden_sizes[0])),\n",
    "          ('relu1', nn.ReLU()),\n",
    "          ('fc2', nn.Linear(hidden_sizes[0], hidden_sizes[1])),\n",
    "          ('relu2', nn.ReLU()),\n",
    "          ('logits', nn.Linear(hidden_sizes[1], output_size))]))"
   ]
  },
  {
   "cell_type": "markdown",
   "metadata": {},
   "source": [
    "## Training the network!\n",
    "\n",
    "The first thing we need to do for training is define our loss function. In PyTorch, you'll usually see this as `criterion`. Here we're using softmax output, so we want to use `criterion = nn.CrossEntropyLoss()` as our loss. Later when training, you use `loss = criterion(output, targets)` to calculate the actual loss.\n",
    "\n",
    "We also need to define the optimizer we're using, SGD or Adam, or something along those lines. Here I'll just use SGD with `torch.optim.SGD`, passing in the network parameters and the learning rate."
   ]
  },
  {
   "cell_type": "code",
   "execution_count": 108,
   "metadata": {},
   "outputs": [],
   "source": [
    "criterion = nn.CrossEntropyLoss()\n",
    "optimizer = optim.SGD(model.parameters(), lr=0.01)"
   ]
  },
  {
   "cell_type": "markdown",
   "metadata": {},
   "source": [
    "First, let's consider just one learning step before looping through all the data. The general process with PyTorch:\n",
    "\n",
    "* Make a forward pass through the network to get the logits \n",
    "* Use the logits to calculate the loss\n",
    "* Perform a backward pass through the network with `loss.backward()` to calculate the gradients\n",
    "* Take a step with the optimizer to update the weights\n",
    "\n",
    "Below I'll go through one training step and print out the weights and gradients so you can see how it changes."
   ]
  },
  {
   "cell_type": "code",
   "execution_count": 109,
   "metadata": {},
   "outputs": [
    {
     "name": "stdout",
     "output_type": "stream",
     "text": [
      "Initial weights -  Parameter containing:\n",
      "tensor([[ 0.0082,  0.0149,  0.0266,  ..., -0.0088, -0.0272,  0.0153],\n",
      "        [-0.0077, -0.0275, -0.0171,  ..., -0.0063,  0.0353, -0.0037],\n",
      "        [-0.0297,  0.0353, -0.0226,  ...,  0.0222,  0.0181, -0.0168],\n",
      "        ...,\n",
      "        [ 0.0138,  0.0088, -0.0226,  ...,  0.0354, -0.0114,  0.0190],\n",
      "        [ 0.0339, -0.0265, -0.0088,  ...,  0.0130,  0.0254,  0.0127],\n",
      "        [ 0.0057,  0.0320,  0.0326,  ...,  0.0237,  0.0181,  0.0268]],\n",
      "       requires_grad=True)\n",
      "Gradient - tensor([[ 0.0004,  0.0004,  0.0004,  ...,  0.0004,  0.0004,  0.0004],\n",
      "        [ 0.0000,  0.0000,  0.0000,  ...,  0.0000,  0.0000,  0.0000],\n",
      "        [-0.0002, -0.0002, -0.0002,  ..., -0.0002, -0.0002, -0.0002],\n",
      "        ...,\n",
      "        [-0.0002, -0.0002, -0.0002,  ..., -0.0002, -0.0002, -0.0002],\n",
      "        [ 0.0003,  0.0003,  0.0003,  ...,  0.0003,  0.0003,  0.0003],\n",
      "        [-0.0008, -0.0008, -0.0008,  ..., -0.0008, -0.0008, -0.0008]])\n"
     ]
    }
   ],
   "source": [
    "print('Initial weights - ', model.fc1.weight)\n",
    "\n",
    "images, labels = next(iter(trainloader))\n",
    "images.resize_(64, 784)\n",
    "\n",
    "# Clear the gradients, do this because gradients are accumulated\n",
    "optimizer.zero_grad()\n",
    "\n",
    "# Forward pass, then backward pass, then update weights\n",
    "output = model.forward(images)\n",
    "loss = criterion(output, labels)\n",
    "loss.backward()\n",
    "print('Gradient -', model.fc1.weight.grad)\n",
    "optimizer.step()"
   ]
  },
  {
   "cell_type": "code",
   "execution_count": 110,
   "metadata": {},
   "outputs": [
    {
     "name": "stdout",
     "output_type": "stream",
     "text": [
      "Updated weights -  Parameter containing:\n",
      "tensor([[ 0.0082,  0.0149,  0.0266,  ..., -0.0088, -0.0272,  0.0153],\n",
      "        [-0.0077, -0.0275, -0.0171,  ..., -0.0063,  0.0353, -0.0037],\n",
      "        [-0.0297,  0.0353, -0.0226,  ...,  0.0222,  0.0181, -0.0168],\n",
      "        ...,\n",
      "        [ 0.0138,  0.0088, -0.0226,  ...,  0.0354, -0.0114,  0.0190],\n",
      "        [ 0.0339, -0.0265, -0.0088,  ...,  0.0130,  0.0254,  0.0127],\n",
      "        [ 0.0057,  0.0320,  0.0326,  ...,  0.0237,  0.0181,  0.0268]],\n",
      "       requires_grad=True)\n"
     ]
    }
   ],
   "source": [
    "print('Updated weights - ', model.fc1.weight)"
   ]
  },
  {
   "cell_type": "markdown",
   "metadata": {},
   "source": [
    "### Training for real\n",
    "\n",
    "Now we'll put this algorithm into a loop so we can go through all the images. This is fairly straightforward. We'll loop through the mini-batches in our dataset, pass the data through the network to calculate the losses, get the gradients, then run the optimizer."
   ]
  },
  {
   "cell_type": "code",
   "execution_count": 111,
   "metadata": {},
   "outputs": [],
   "source": [
    "optimizer = optim.SGD(model.parameters(), lr=0.003)"
   ]
  },
  {
   "cell_type": "code",
   "execution_count": 112,
   "metadata": {},
   "outputs": [
    {
     "name": "stdout",
     "output_type": "stream",
     "text": [
      "Epoch: 1/3\n",
      "\tIteration: 0\t Loss: 0.0576\n",
      "\tIteration: 40\t Loss: 2.2911\n",
      "\tIteration: 80\t Loss: 2.2655\n",
      "\tIteration: 120\t Loss: 2.2473\n",
      "\tIteration: 160\t Loss: 2.2253\n",
      "\tIteration: 200\t Loss: 2.1918\n",
      "\tIteration: 240\t Loss: 2.1604\n",
      "\tIteration: 280\t Loss: 2.1200\n",
      "\tIteration: 320\t Loss: 2.0869\n",
      "\tIteration: 360\t Loss: 2.0373\n",
      "\tIteration: 400\t Loss: 2.0009\n",
      "\tIteration: 440\t Loss: 1.9458\n",
      "\tIteration: 480\t Loss: 1.8974\n",
      "\tIteration: 520\t Loss: 1.8366\n",
      "\tIteration: 560\t Loss: 1.7708\n",
      "\tIteration: 600\t Loss: 1.7235\n",
      "\tIteration: 640\t Loss: 1.6740\n",
      "\tIteration: 680\t Loss: 1.5875\n",
      "\tIteration: 720\t Loss: 1.5301\n",
      "\tIteration: 760\t Loss: 1.4590\n",
      "\tIteration: 800\t Loss: 1.4184\n",
      "\tIteration: 840\t Loss: 1.3354\n",
      "\tIteration: 880\t Loss: 1.2758\n",
      "\tIteration: 920\t Loss: 1.2373\n",
      "Epoch: 2/3\n",
      "\tIteration: 0\t Loss: 0.0283\n",
      "\tIteration: 40\t Loss: 1.1645\n",
      "\tIteration: 80\t Loss: 1.0998\n",
      "\tIteration: 120\t Loss: 1.0751\n",
      "\tIteration: 160\t Loss: 1.0343\n",
      "\tIteration: 200\t Loss: 0.9977\n",
      "\tIteration: 240\t Loss: 0.9668\n",
      "\tIteration: 280\t Loss: 0.9288\n",
      "\tIteration: 320\t Loss: 0.8816\n",
      "\tIteration: 360\t Loss: 0.8500\n",
      "\tIteration: 400\t Loss: 0.8372\n",
      "\tIteration: 440\t Loss: 0.8347\n",
      "\tIteration: 480\t Loss: 0.8158\n",
      "\tIteration: 520\t Loss: 0.7672\n",
      "\tIteration: 560\t Loss: 0.7430\n",
      "\tIteration: 600\t Loss: 0.7309\n",
      "\tIteration: 640\t Loss: 0.6865\n",
      "\tIteration: 680\t Loss: 0.7292\n",
      "\tIteration: 720\t Loss: 0.7094\n",
      "\tIteration: 760\t Loss: 0.6949\n",
      "\tIteration: 800\t Loss: 0.6495\n",
      "\tIteration: 840\t Loss: 0.6436\n",
      "\tIteration: 880\t Loss: 0.6314\n",
      "\tIteration: 920\t Loss: 0.6249\n",
      "Epoch: 3/3\n",
      "\tIteration: 0\t Loss: 0.0140\n",
      "\tIteration: 40\t Loss: 0.6123\n",
      "\tIteration: 80\t Loss: 0.6130\n",
      "\tIteration: 120\t Loss: 0.6255\n",
      "\tIteration: 160\t Loss: 0.5629\n",
      "\tIteration: 200\t Loss: 0.5549\n",
      "\tIteration: 240\t Loss: 0.5729\n",
      "\tIteration: 280\t Loss: 0.5277\n",
      "\tIteration: 320\t Loss: 0.5437\n",
      "\tIteration: 360\t Loss: 0.5201\n",
      "\tIteration: 400\t Loss: 0.5358\n",
      "\tIteration: 440\t Loss: 0.5253\n",
      "\tIteration: 480\t Loss: 0.5290\n",
      "\tIteration: 520\t Loss: 0.5340\n",
      "\tIteration: 560\t Loss: 0.4851\n",
      "\tIteration: 600\t Loss: 0.5261\n",
      "\tIteration: 640\t Loss: 0.5057\n",
      "\tIteration: 680\t Loss: 0.4859\n",
      "\tIteration: 720\t Loss: 0.4738\n",
      "\tIteration: 760\t Loss: 0.4776\n",
      "\tIteration: 800\t Loss: 0.4610\n",
      "\tIteration: 840\t Loss: 0.4859\n",
      "\tIteration: 880\t Loss: 0.4770\n",
      "\tIteration: 920\t Loss: 0.4468\n"
     ]
    }
   ],
   "source": [
    "epochs = 3\n",
    "print_every = 40\n",
    "\n",
    "for e in range(epochs):\n",
    "    running_loss = 0\n",
    "    print(f\"Epoch: {e+1}/{epochs}\")\n",
    "\n",
    "    for i, (images, labels) in enumerate(iter(trainloader)):\n",
    "\n",
    "        # Flatten MNIST images into a 784 long vector\n",
    "        images.resize_(images.size()[0], 784)\n",
    "        \n",
    "        optimizer.zero_grad()\n",
    "        \n",
    "        output = model.forward(images)   # 1) Forward pass\n",
    "        loss = criterion(output, labels) # 2) Compute loss\n",
    "        loss.backward()                  # 3) Backward pass\n",
    "        optimizer.step()                 # 4) Update model\n",
    "        \n",
    "        running_loss += loss.item()\n",
    "        \n",
    "        if i % print_every == 0:\n",
    "            print(f\"\\tIteration: {i}\\t Loss: {running_loss/print_every:.4f}\")\n",
    "            running_loss = 0"
   ]
  },
  {
   "cell_type": "markdown",
   "metadata": {},
   "source": [
    "With the network trained, we can check out it's predictions."
   ]
  },
  {
   "cell_type": "code",
   "execution_count": 113,
   "metadata": {},
   "outputs": [
    {
     "data": {
      "image/png": "[encoded data removed]",
      "text/plain": [
       "<Figure size 432x648 with 2 Axes>"
      ]
     },
     "metadata": {
      "image/png": {
       "height": 195,
       "width": 349
      },
      "needs_background": "light"
     },
     "output_type": "display_data"
    }
   ],
   "source": [
    "images, labels = next(iter(trainloader))\n",
    "\n",
    "img = images[0].view(1, 784)\n",
    "# Turn off gradients to speed up this part\n",
    "with torch.no_grad():\n",
    "    logits = model.forward(img)\n",
    "\n",
    "# Output of the network are logits, need to take softmax for probabilities\n",
    "ps = F.softmax(logits, dim=1)\n",
    "view_classify(img.view(1, 28, 28), ps)"
   ]
  },
  {
   "cell_type": "markdown",
   "metadata": {},
   "source": [
    "Now our network is brilliant. It can accurately predict the digits in our images."
   ]
  },
  {
   "cell_type": "markdown",
   "metadata": {},
   "source": [
    "<div style=\"background:#222222; color:#ffffff; padding:20px\">\n",
    "    <h2 align=\"center\" style=\"color:#01ff84\">MNIST Clasification: Exercise</h2>\n",
    "<div>"
   ]
  },
  {
   "cell_type": "markdown",
   "metadata": {},
   "source": [
    "<div style=\"background:#222222; color:#ffffff; padding:20px\">\n",
    "  <h3 style=\"color:#01ff84; margin-top:4px\">Exercise 1:</h3>\n",
    "  <p>Now it's your turn to build a simple network, use any method I've covered so far. In the next notebook, you'll learn how to train a network so it can make good predictions.</p>\n",
    "  <p>Build a network to classify the MNIST images with 3 hidden layers. Use 400 units in the first hidden layer, 200 units in the second layer, and 100 units in the third layer. Each hidden layer should have a ReLU activation function, and use softmax on the output layer.</p>\n",
    "<div>"
   ]
  },
  {
   "cell_type": "code",
   "execution_count": 114,
   "metadata": {},
   "outputs": [
    {
     "name": "stdout",
     "output_type": "stream",
     "text": [
      "Epoch: 1/3\n",
      "\tIteration: 0\t Loss: 0.0575\n",
      "\tIteration: 40\t Loss: 2.1102\n",
      "\tIteration: 80\t Loss: 1.9167\n",
      "\tIteration: 120\t Loss: 1.7628\n",
      "\tIteration: 160\t Loss: 1.6949\n",
      "\tIteration: 200\t Loss: 1.6544\n",
      "\tIteration: 240\t Loss: 1.6259\n",
      "\tIteration: 280\t Loss: 1.6240\n",
      "\tIteration: 320\t Loss: 1.5955\n",
      "\tIteration: 360\t Loss: 1.5949\n",
      "\tIteration: 400\t Loss: 1.5760\n",
      "\tIteration: 440\t Loss: 1.5946\n",
      "\tIteration: 480\t Loss: 1.5747\n",
      "\tIteration: 520\t Loss: 1.5829\n",
      "\tIteration: 560\t Loss: 1.5706\n",
      "\tIteration: 600\t Loss: 1.5803\n",
      "\tIteration: 640\t Loss: 1.5654\n",
      "\tIteration: 680\t Loss: 1.5723\n",
      "\tIteration: 720\t Loss: 1.5675\n",
      "\tIteration: 760\t Loss: 1.5693\n",
      "\tIteration: 800\t Loss: 1.5595\n",
      "\tIteration: 840\t Loss: 1.5580\n",
      "\tIteration: 880\t Loss: 1.5548\n",
      "\tIteration: 920\t Loss: 1.5658\n",
      "Epoch: 2/3\n",
      "\tIteration: 0\t Loss: 0.0382\n",
      "\tIteration: 40\t Loss: 1.5541\n",
      "\tIteration: 80\t Loss: 1.5562\n",
      "\tIteration: 120\t Loss: 1.5584\n",
      "\tIteration: 160\t Loss: 1.5387\n",
      "\tIteration: 200\t Loss: 1.5386\n",
      "\tIteration: 240\t Loss: 1.5516\n",
      "\tIteration: 280\t Loss: 1.5550\n",
      "\tIteration: 320\t Loss: 1.5419\n",
      "\tIteration: 360\t Loss: 1.5499\n",
      "\tIteration: 400\t Loss: 1.5396\n",
      "\tIteration: 440\t Loss: 1.5423\n",
      "\tIteration: 480\t Loss: 1.5544\n",
      "\tIteration: 520\t Loss: 1.5325\n",
      "\tIteration: 560\t Loss: 1.5359\n",
      "\tIteration: 600\t Loss: 1.5455\n",
      "\tIteration: 640\t Loss: 1.5507\n",
      "\tIteration: 680\t Loss: 1.5398\n",
      "\tIteration: 720\t Loss: 1.5409\n",
      "\tIteration: 760\t Loss: 1.5518\n",
      "\tIteration: 800\t Loss: 1.5416\n",
      "\tIteration: 840\t Loss: 1.5380\n",
      "\tIteration: 880\t Loss: 1.5385\n",
      "\tIteration: 920\t Loss: 1.5317\n",
      "Epoch: 3/3\n",
      "\tIteration: 0\t Loss: 0.0385\n",
      "\tIteration: 40\t Loss: 1.5341\n",
      "\tIteration: 80\t Loss: 1.5382\n",
      "\tIteration: 120\t Loss: 1.5461\n",
      "\tIteration: 160\t Loss: 1.5267\n",
      "\tIteration: 200\t Loss: 1.5188\n",
      "\tIteration: 240\t Loss: 1.5213\n",
      "\tIteration: 280\t Loss: 1.5180\n",
      "\tIteration: 320\t Loss: 1.5251\n",
      "\tIteration: 360\t Loss: 1.5288\n",
      "\tIteration: 400\t Loss: 1.5359\n",
      "\tIteration: 440\t Loss: 1.5279\n",
      "\tIteration: 480\t Loss: 1.5310\n",
      "\tIteration: 520\t Loss: 1.5302\n",
      "\tIteration: 560\t Loss: 1.5289\n",
      "\tIteration: 600\t Loss: 1.5312\n",
      "\tIteration: 640\t Loss: 1.5320\n",
      "\tIteration: 680\t Loss: 1.5208\n",
      "\tIteration: 720\t Loss: 1.5364\n",
      "\tIteration: 760\t Loss: 1.5272\n",
      "\tIteration: 800\t Loss: 1.5267\n",
      "\tIteration: 840\t Loss: 1.5234\n",
      "\tIteration: 880\t Loss: 1.5138\n",
      "\tIteration: 920\t Loss: 1.5242\n"
     ]
    }
   ],
   "source": [
    "class Network(nn.Module):\n",
    "\n",
    "    def __init__(self):\n",
    "        super().__init__()\n",
    "        self.fc1 = nn.Linear(28*28, 400) \n",
    "        self.fc2 = nn.Linear(400, 200)\n",
    "        self.fc3 = nn.Linear(200, 100)\n",
    "        self.fc4 = nn.Linear(100, 10)\n",
    "        \n",
    "    def forward (self,x):\n",
    "        x = x.view(x.shape[0], 784)\n",
    "\n",
    "        x = self.fc1(x)\n",
    "        x = F.relu(x)\n",
    "\n",
    "        x = self.fc2(x)\n",
    "        x = F.relu(x)\n",
    "\n",
    "        x = self.fc3(x)\n",
    "        x = F.relu(x)\n",
    "\n",
    "        x = self.fc4(x)\n",
    "        x = F.softmax(x, dim=1)\n",
    "\n",
    "        return x\n",
    "    \n",
    "model = Network()\n",
    "\n",
    "criterion = nn.CrossEntropyLoss()\n",
    "optimizer = optim.Adam(model.parameters(), lr=0.001)\n",
    "\n",
    "epochs = 3\n",
    "print_every = 40\n",
    "\n",
    "for e in range(epochs):\n",
    "    running_loss = 0\n",
    "    print(f\"Epoch: {e+1}/{epochs}\")\n",
    "\n",
    "    for i, (images, labels) in enumerate(iter(trainloader)):\n",
    "        \n",
    "        optimizer.zero_grad()\n",
    "        output = model.forward(images)\n",
    "        loss = criterion(output, labels)\n",
    "        loss.backward()\n",
    "        optimizer.step()\n",
    "        \n",
    "        running_loss += loss.item()\n",
    "        \n",
    "        if i % print_every == 0:\n",
    "            print(f\"\\tIteration: {i}\\t Loss: {running_loss/print_every:.4f}\")\n",
    "            running_loss = 0\n"
   ]
  },
  {
   "cell_type": "code",
   "execution_count": 115,
   "metadata": {},
   "outputs": [
    {
     "data": {
      "image/png": "[encoded data removed]",
      "text/plain": [
       "<Figure size 432x648 with 2 Axes>"
      ]
     },
     "metadata": {
      "image/png": {
       "height": 195,
       "width": 349
      },
      "needs_background": "light"
     },
     "output_type": "display_data"
    }
   ],
   "source": [
    "# Run this cell with your model to make sure it works\n",
    "# Forward pass through the network and display output\n",
    "images, labels = next(iter(trainloader))\n",
    "images.resize_(images.shape[0], 1, 784)\n",
    "ps = model.forward(images[0,:])\n",
    "view_classify(images[0].view(1, 28, 28), ps)"
   ]
  },
  {
   "cell_type": "markdown",
   "metadata": {},
   "source": [
    "<div style=\"background:#222222; color:#ffffff; padding:20px\">\n",
    "  <h3 style=\"color:#01ff84; margin-top:4px\">Exercise 2:</h3>\n",
    "  <p>Train your network implementing the Pytorch training loop and <strong style=\"color:#01ff84\">after each epoch, use the model for predicting the test (validation) MNIST data.</strong></p>\n",
    "  <p>Note: If your model does not fit with the final softmax layer, you can remove this layer.</p>\n",
    "  <p>Hint: <a href=\"https://discuss.pytorch.org/t/training-loop-checking-validation-accuracy/78399\">Training loop checking validation accuracy\n",
    "</a></p>\n",
    "  <p>Research about <code>model.train()</code>, <code>model.eval()</code> and <code>with torch.no_grad()</code> in Pytorch.\n",
    "<div>"
   ]
  },
  {
   "cell_type": "code",
   "execution_count": 116,
   "metadata": {},
   "outputs": [
    {
     "name": "stdout",
     "output_type": "stream",
     "text": [
      "Epoch 1\n",
      "loss: 2.301954  [    0/60000]\n",
      "loss: 1.823429  [ 6400/60000]\n",
      "loss: 1.716344  [12800/60000]\n",
      "loss: 1.638378  [19200/60000]\n",
      "loss: 1.665479  [25600/60000]\n",
      "loss: 1.737283  [32000/60000]\n",
      "loss: 1.650657  [38400/60000]\n",
      "loss: 1.651974  [44800/60000]\n",
      "loss: 1.603540  [51200/60000]\n",
      "loss: 1.560379  [57600/60000]\n",
      "Test Error: \n",
      " Accuracy: 82.8%, Avg loss: 1.634369 \n",
      "\n",
      "Epoch 2\n",
      "loss: 1.689904  [    0/60000]\n",
      "loss: 1.611875  [ 6400/60000]\n",
      "loss: 1.623734  [12800/60000]\n",
      "loss: 1.611429  [19200/60000]\n",
      "loss: 1.586794  [25600/60000]\n",
      "loss: 1.539675  [32000/60000]\n",
      "loss: 1.565910  [38400/60000]\n",
      "loss: 1.568591  [44800/60000]\n",
      "loss: 1.519251  [51200/60000]\n",
      "loss: 1.503370  [57600/60000]\n",
      "Test Error: \n",
      " Accuracy: 93.0%, Avg loss: 1.530718 \n",
      "\n",
      "Epoch 3\n",
      "loss: 1.526469  [    0/60000]\n",
      "loss: 1.551172  [ 6400/60000]\n",
      "loss: 1.530978  [12800/60000]\n",
      "loss: 1.504800  [19200/60000]\n",
      "loss: 1.558430  [25600/60000]\n",
      "loss: 1.531371  [32000/60000]\n",
      "loss: 1.557212  [38400/60000]\n",
      "loss: 1.520543  [44800/60000]\n",
      "loss: 1.525940  [51200/60000]\n",
      "loss: 1.583020  [57600/60000]\n",
      "Test Error: \n",
      " Accuracy: 92.2%, Avg loss: 1.538609 \n",
      "\n"
     ]
    }
   ],
   "source": [
    "class Network(nn.Module):\n",
    "\n",
    "    def __init__(self):\n",
    "        super().__init__()\n",
    "        self.fc1 = nn.Linear(28*28, 400) \n",
    "        self.fc2 = nn.Linear(400, 200)\n",
    "        self.fc3 = nn.Linear(200, 100)\n",
    "        self.fc4 = nn.Linear(100, 10)\n",
    "        \n",
    "    def forward (self,x):\n",
    "        x = x.view(x.shape[0], 784)\n",
    "\n",
    "        x = self.fc1(x)\n",
    "        x = F.relu(x)\n",
    "\n",
    "        x = self.fc2(x)\n",
    "        x = F.relu(x)\n",
    "\n",
    "        x = self.fc3(x)\n",
    "        x = F.relu(x)\n",
    "        \n",
    "        x = self.fc4(x)\n",
    "        x = F.softmax(x, dim=1)\n",
    "\n",
    "        return x\n",
    "    \n",
    "model = Network()\n",
    "\n",
    "criterion = nn.CrossEntropyLoss()\n",
    "optimizer = optim.Adam(model.parameters(), lr=0.001)\n",
    "\n",
    "epochs = 3\n",
    "\n",
    "\n",
    "\n",
    "def train(trainloader, model, criterion, optimizer):\n",
    "    size = len(trainloader.dataset)\n",
    "\n",
    "    model.train()\n",
    "    for i, (images, labels) in enumerate(iter(trainloader)):\n",
    "        \n",
    "        output = model(images)\n",
    "        loss = criterion(output, labels)\n",
    "\n",
    "        # backpropagation\n",
    "        optimizer.zero_grad()\n",
    "        loss.backward()\n",
    "        optimizer.step()\n",
    "\n",
    "        if i % 100 == 0:\n",
    "            loss, current = loss.item(), i * len(images)\n",
    "            print(f\"loss: {loss:>7f}  [{current:>5d}/{size:>5d}]\")\n",
    "\n",
    "\n",
    "\n",
    "def test(testloader, model, criterion):\n",
    "    num_batches = len(testloader)\n",
    "    size = len(testloader.dataset)\n",
    "    test_loss, correct = 0, 0\n",
    "\n",
    "    model.eval()\n",
    "    with torch.no_grad():\n",
    "        for i, (images, labels) in enumerate(iter(testloader)):\n",
    "            output = model(images)\n",
    "\n",
    "            test_loss += criterion(output, labels).item()\n",
    "            correct += (output.argmax(1) == labels).type(torch.float).sum().item()\n",
    "\n",
    "        test_loss /= num_batches\n",
    "        correct /= size\n",
    "        print(f\"Test Error: \\n Accuracy: {(correct*100):>0.1f}%, Avg loss: {test_loss:>8f} \\n\")\n",
    "\n",
    "\n",
    "\n",
    "for t in range(epochs):\n",
    "    print(f'Epoch {t+1}')\n",
    "    train(trainloader, model, criterion, optimizer)\n",
    "    test(testloader, model, criterion)"
   ]
  },
  {
   "cell_type": "code",
   "execution_count": 117,
   "metadata": {},
   "outputs": [
    {
     "data": {
      "image/png": "[encoded data removed]",
      "text/plain": [
       "<Figure size 432x648 with 2 Axes>"
      ]
     },
     "metadata": {
      "image/png": {
       "height": 195,
       "width": 349
      },
      "needs_background": "light"
     },
     "output_type": "display_data"
    }
   ],
   "source": [
    "# Run this cell with your model to make sure it works and predicts well for the validation data\n",
    "images, labels = next(iter(testloader))\n",
    "images.resize_(images.shape[0], 1, 784)\n",
    "ps = model.forward(images[0,:])\n",
    "view_classify(images[0].view(1, 28, 28), ps)"
   ]
  },
  {
   "cell_type": "markdown",
   "metadata": {},
   "source": [
    "<div style=\"background:#222222; color:#ffffff; padding:20px\">\n",
    "  <h3 style=\"color:#01ff84; margin-top:4px\">Exercise 3:</h3>\n",
    "  <p>Write the code for adding <strong style=\"color:#01ff84\">Early Stopping with patience = 2</strong> to the training loop from scratch.</p>\n",
    "  <p><strong style=\"color:#01ff84\">Hint:</strong> Monitor the Validation loss every epoch, and if in 2 epochs, the validation loss does not improve, stop the training loop with <code>break</code>.</p>\n",
    "<div>"
   ]
  },
  {
   "cell_type": "code",
   "execution_count": 118,
   "metadata": {},
   "outputs": [
    {
     "name": "stdout",
     "output_type": "stream",
     "text": [
      "loss: 2.304267  [    0/48000]\n",
      "loss: 1.736745  [ 6400/48000]\n",
      "loss: 1.633137  [12800/48000]\n",
      "loss: 1.672076  [19200/48000]\n",
      "loss: 1.533773  [25600/48000]\n",
      "loss: 1.555982  [32000/48000]\n",
      "loss: 1.636459  [38400/48000]\n",
      "loss: 1.606770  [44800/48000]\n",
      "The current loss: 1.5730616577128147\n",
      "Trigger times: 0\n",
      "loss: 1.565811  [    0/48000]\n",
      "loss: 1.571537  [ 6400/48000]\n",
      "loss: 1.550910  [12800/48000]\n",
      "loss: 1.589216  [19200/48000]\n",
      "loss: 1.524691  [25600/48000]\n",
      "loss: 1.532150  [32000/48000]\n",
      "loss: 1.535176  [38400/48000]\n",
      "loss: 1.627344  [44800/48000]\n",
      "The current loss: 1.542879045643705\n",
      "Trigger times: 0\n",
      "loss: 1.559349  [    0/48000]\n",
      "loss: 1.534785  [ 6400/48000]\n",
      "loss: 1.507212  [12800/48000]\n",
      "loss: 1.474787  [19200/48000]\n",
      "loss: 1.508922  [25600/48000]\n",
      "loss: 1.538458  [32000/48000]\n",
      "loss: 1.493476  [38400/48000]\n",
      "loss: 1.492904  [44800/48000]\n",
      "The current loss: 1.525761917550513\n",
      "Trigger times: 0\n",
      "Accuracy: 0.9404\n"
     ]
    }
   ],
   "source": [
    "def validation(model, validloader, criterion):\n",
    "    model.eval()\n",
    "    loss_total = 0\n",
    "\n",
    "    with torch.no_grad():\n",
    "        for i, (images, labels) in enumerate(iter(validloader)):\n",
    "            output = model(images)\n",
    "            loss = criterion(output, labels)\n",
    "\n",
    "            loss_total += loss.item()\n",
    "\n",
    "    return loss_total / len(validloader)\n",
    "\n",
    "\n",
    "\n",
    "def train2(trainloader, model, criterion, optimizer, validloader):\n",
    "\n",
    "    # early stopping\n",
    "    the_last_loss = 100\n",
    "    patience = 2\n",
    "    trigger_times = 0\n",
    "\n",
    "    for epoch in range(epochs):\n",
    "        model.train()\n",
    "\n",
    "        for i, (images, labels) in enumerate(iter(trainloader)):\n",
    "            \n",
    "            optimizer.zero_grad()\n",
    "\n",
    "            # forward and backward propagation\n",
    "            output = model(images)\n",
    "            loss = criterion(output, labels)\n",
    "            loss.backward()\n",
    "            optimizer.step()\n",
    "\n",
    "            if i % 100 == 0:\n",
    "                loss, current = loss.item(), i * len(images)\n",
    "                print(f\"loss: {loss:>7f}  [{current:>5d}/{len(trainloader.dataset):>5d}]\")\n",
    "\n",
    "        # early stopping\n",
    "        the_current_loss = validation(model, validloader, criterion)\n",
    "        print('The current loss:', the_current_loss)\n",
    "\n",
    "        if the_current_loss > the_last_loss:\n",
    "            trigger_times += 1\n",
    "            print('Trigger times: ', trigger_times)\n",
    "\n",
    "            if trigger_times >= patience:\n",
    "                print('Early stopping!\\nStart the test process.')\n",
    "                return model\n",
    "        \n",
    "        else:\n",
    "            print('Trigger times: 0')\n",
    "            trigger_times = 0\n",
    "        \n",
    "        the_last_loss = the_current_loss\n",
    "    \n",
    "    return model\n",
    "\n",
    "\n",
    "\n",
    "def test2(testloader, model):\n",
    "    total, correct = 0, 0\n",
    "    model.eval()\n",
    "\n",
    "    with torch.no_grad():\n",
    "        for i, (images, labels) in enumerate(iter(testloader)):\n",
    "            output = model(images)\n",
    "            _, predicted = torch.max(output.data, 1)\n",
    "\n",
    "            total += labels.size(0)\n",
    "            correct += (predicted == labels).sum().item()\n",
    "\n",
    "        print(f\"Accuracy: {correct/total}\")\n",
    "\n",
    "\n",
    "\n",
    "def main2():\n",
    "\n",
    "    model = Network()\n",
    "    criterion = nn.CrossEntropyLoss()\n",
    "    optimizer = optim.Adam(model.parameters(), lr=0.001)\n",
    "\n",
    "    transform = transforms.Compose([ transforms.ToTensor(), transforms.Normalize((0.5,), (0.5,)) ])\n",
    "\n",
    "    trainset = datasets.MNIST('MNIST_data/', download=True, train=True, transform=transform)\n",
    "    testset = datasets.MNIST('MNIST_data/', download=True, train=False, transform=transform)\n",
    "\n",
    "    trainset_size = int(len(trainset) * 0.8)\n",
    "    validset_size = len(trainset) - trainset_size\n",
    "    trainset, validset = torch.utils.data.random_split(trainset, [trainset_size, validset_size])\n",
    "\n",
    "    trainloader = torch.utils.data.DataLoader(trainset, batch_size=64, shuffle=True)\n",
    "    testloader = torch.utils.data.DataLoader(testset, batch_size=64, shuffle=True)\n",
    "    validloader = torch.utils.data.DataLoader(validset, batch_size=64, shuffle=True)\n",
    "\n",
    "    model2 = train2(trainloader, model, criterion, optimizer, validloader)\n",
    "    test2(testloader, model2)\n",
    "\n",
    "if __name__ == '__main__':\n",
    "    main2()\n",
    "\n",
    "# thank you https://clay-atlas.com/us/blog/2021/08/25/pytorch-en-early-stopping/\n"
   ]
  }
 ],
 "metadata": {
  "kernelspec": {
   "display_name": "Python 3",
   "language": "python",
   "name": "python3"
  },
  "language_info": {
   "codemirror_mode": {
    "name": "ipython",
    "version": 3
   },
   "file_extension": ".py",
   "mimetype": "text/x-python",
   "name": "python",
   "nbconvert_exporter": "python",
   "pygments_lexer": "ipython3",
   "version": "3.9.7"
  }
 },
 "nbformat": 4,
 "nbformat_minor": 2
}
