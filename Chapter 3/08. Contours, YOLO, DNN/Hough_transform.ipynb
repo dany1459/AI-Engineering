{
 "cells": [
  {
   "cell_type": "code",
   "execution_count": 1,
   "metadata": {},
   "outputs": [],
   "source": [
    "import numpy as np\n",
    "import matplotlib.pyplot as plt\n",
    "%matplotlib inline\n",
    "import cv2"
   ]
  },
  {
   "cell_type": "code",
   "execution_count": 4,
   "metadata": {},
   "outputs": [],
   "source": [
    "# Detecting straight lines -> 2 transforms in OpenCV\n",
    "# standard Hough Transform -> HoughLines method\n",
    "# probabilistic Hough Line Transform -> HoughLinesP method\n",
    "\n",
    "# -4- steps for the algorithm:\n",
    "# 1. edge detection -> using Canny edge detector.\n",
    "# 2. mapping edge points to the Hough space and storage in an accumulator.\n",
    "# 3. interpretation of the accumulator to yield lines of infinite length.\n",
    "#    it is done by thresholding and possibly other constraints.\n",
    "# 4. conversion of infinite lines to finite lines."
   ]
  },
  {
   "cell_type": "code",
   "execution_count": 5,
   "metadata": {},
   "outputs": [
    {
     "name": "stdout",
     "output_type": "stream",
     "text": [
      "[[132.   0.]] 36\n"
     ]
    }
   ],
   "source": [
    "img = cv2.imread('images/sudoku.png')\n",
    "# convert to grayscale for Canny\n",
    "gray = cv2.cvtColor(img, cv2.COLOR_BGR2GRAY)\n",
    "# detect edges with Canny\n",
    "edges = cv2.Canny(gray, 50, 150)\n",
    "# (source image, raw value=dist resolution of the accumulator in pixels =1,\n",
    "# theta value=angle resolution of the accumulator in radians = pi/180,\n",
    "# accumulator threshold parameter = returns values > 200)\n",
    "lines = cv2.HoughLines(edges, 1, np.pi/180, 200)\n",
    "print(lines[0], len(lines))\n",
    "\n",
    "for line in lines:\n",
    "    # rho = distance from (0,0)=top-left corner of img\n",
    "    # theta = line rotation angle in radians\n",
    "    rho, theta = line[0]\n",
    "    \n",
    "    # convert to normal cartesian coordinates for the LINE method\n",
    "    a = np.cos(theta)\n",
    "    b = np.sin(theta)\n",
    "\n",
    "    # x0, y0 = origin = (0,0) = top-left corner\n",
    "    x0 = a * rho\n",
    "    y0 = b * rho\n",
    "\n",
    "    # get the 2 coordinates required for the line\n",
    "    x1 = int(x0 + 1000 * -b)\n",
    "    y1 = int(y0 + 1000 * a)\n",
    "    x2 = int(x0 - 1000 * -b)\n",
    "    y2 = int(y0 - 1000 * a)\n",
    "\n",
    "    cv2.line(img, (x1,y1), (x2,y2), (0,0,255), 2)"
   ]
  },
  {
   "cell_type": "code",
   "execution_count": 4,
   "metadata": {},
   "outputs": [
    {
     "data": {
      "text/plain": [
       "-1"
      ]
     },
     "execution_count": 4,
     "metadata": {},
     "output_type": "execute_result"
    }
   ],
   "source": [
    "cv2.imshow('image', img)\n",
    "cv2.waitKey(0)\n",
    "cv2.destroyAllWindows()\n",
    "cv2.waitKey(1)"
   ]
  },
  {
   "cell_type": "code",
   "execution_count": 7,
   "metadata": {},
   "outputs": [
    {
     "name": "stdout",
     "output_type": "stream",
     "text": [
      "66\n"
     ]
    },
    {
     "data": {
      "text/plain": [
       "-1"
      ]
     },
     "execution_count": 7,
     "metadata": {},
     "output_type": "execute_result"
    }
   ],
   "source": [
    "gray = cv2.cvtColor(img, cv2.COLOR_BGR2GRAY)\n",
    "edges = cv2.Canny(gray, 50, 150)\n",
    "lines2 = cv2.HoughLinesP(edges, 1, np.pi/180, 100, minLineLength=100, maxLineGap=10)\n",
    "print(len(lines2))\n",
    "\n",
    "for line in lines2:\n",
    "    x1,y1, x2,y2 = line[0]\n",
    "    cv2.line(img, (x1,y1), (x2,y2), (0,0,255), 2)\n",
    "\n",
    "cv2.imshow('image', img)\n",
    "cv2.waitKey(0)\n",
    "cv2.destroyAllWindows()\n",
    "cv2.waitKey(1)"
   ]
  }
 ],
 "metadata": {
  "interpreter": {
   "hash": "d6e128dd2cf9bb12ecf94668e33e1546608d302a4f44df6f6afa2b8f73a532e1"
  },
  "kernelspec": {
   "display_name": "Python 3.9.7 64-bit ('Strive': conda)",
   "name": "python3"
  },
  "language_info": {
   "codemirror_mode": {
    "name": "ipython",
    "version": 3
   },
   "file_extension": ".py",
   "mimetype": "text/x-python",
   "name": "python",
   "nbconvert_exporter": "python",
   "pygments_lexer": "ipython3",
   "version": "3.9.9"
  }
 },
 "nbformat": 4,
 "nbformat_minor": 2
}
