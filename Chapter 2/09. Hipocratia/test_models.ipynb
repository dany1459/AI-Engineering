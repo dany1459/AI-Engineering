{
 "cells": [
  {
   "cell_type": "code",
   "execution_count": 2,
   "metadata": {},
   "outputs": [],
   "source": [
    "import numpy    as np\n",
    "import pandas   as pd\n",
    "import seaborn  as sb\n",
    "import matplotlib.pyplot as plt\n",
    "from time import time\n",
    "\n",
    "from sklearn.preprocessing   import StandardScaler\n",
    "from sklearn.model_selection import train_test_split, GridSearchCV\n",
    "from sklearn.metrics         import accuracy_score, balanced_accuracy_score, plot_confusion_matrix\n",
    "\n",
    "from sklearn.linear_model  import LogisticRegression\n",
    "from sklearn.naive_bayes   import GaussianNB\n",
    "from sklearn.svm           import SVC\n",
    "from sklearn.neighbors     import KNeighborsClassifier\n",
    "from sklearn.tree          import DecisionTreeClassifier\n",
    "from sklearn.ensemble      import RandomForestClassifier\n",
    "from sklearn.ensemble      import ExtraTreesClassifier\n",
    "from sklearn.ensemble      import AdaBoostClassifier\n",
    "from sklearn.ensemble      import GradientBoostingClassifier\n",
    "from sklearn.ensemble      import HistGradientBoostingClassifier\n",
    "from xgboost               import XGBClassifier\n",
    "from lightgbm              import LGBMClassifier\n",
    "from catboost              import CatBoostClassifier\n",
    "\n",
    "np.random.seed(0)"
   ]
  },
  {
   "cell_type": "markdown",
   "metadata": {},
   "source": [
    "## Load Data"
   ]
  },
  {
   "cell_type": "markdown",
   "metadata": {},
   "source": [
    "![title](./heart_dataset_description.jpg)"
   ]
  },
  {
   "cell_type": "code",
   "execution_count": 3,
   "metadata": {},
   "outputs": [
    {
     "data": {
      "text/html": [
       "<div>\n",
       "<style scoped>\n",
       "    .dataframe tbody tr th:only-of-type {\n",
       "        vertical-align: middle;\n",
       "    }\n",
       "\n",
       "    .dataframe tbody tr th {\n",
       "        vertical-align: top;\n",
       "    }\n",
       "\n",
       "    .dataframe thead th {\n",
       "        text-align: right;\n",
       "    }\n",
       "</style>\n",
       "<table border=\"1\" class=\"dataframe\">\n",
       "  <thead>\n",
       "    <tr style=\"text-align: right;\">\n",
       "      <th></th>\n",
       "      <th>age</th>\n",
       "      <th>sex</th>\n",
       "      <th>cp</th>\n",
       "      <th>trtbps</th>\n",
       "      <th>chol</th>\n",
       "      <th>fbs</th>\n",
       "      <th>restecg</th>\n",
       "      <th>thalachh</th>\n",
       "      <th>exng</th>\n",
       "      <th>oldpeak</th>\n",
       "      <th>slp</th>\n",
       "      <th>caa</th>\n",
       "      <th>thall</th>\n",
       "      <th>output</th>\n",
       "    </tr>\n",
       "  </thead>\n",
       "  <tbody>\n",
       "    <tr>\n",
       "      <th>0</th>\n",
       "      <td>63</td>\n",
       "      <td>1</td>\n",
       "      <td>3</td>\n",
       "      <td>145</td>\n",
       "      <td>233</td>\n",
       "      <td>1</td>\n",
       "      <td>0</td>\n",
       "      <td>150</td>\n",
       "      <td>0</td>\n",
       "      <td>2.3</td>\n",
       "      <td>0</td>\n",
       "      <td>0</td>\n",
       "      <td>1</td>\n",
       "      <td>1</td>\n",
       "    </tr>\n",
       "    <tr>\n",
       "      <th>1</th>\n",
       "      <td>37</td>\n",
       "      <td>1</td>\n",
       "      <td>2</td>\n",
       "      <td>130</td>\n",
       "      <td>250</td>\n",
       "      <td>0</td>\n",
       "      <td>1</td>\n",
       "      <td>187</td>\n",
       "      <td>0</td>\n",
       "      <td>3.5</td>\n",
       "      <td>0</td>\n",
       "      <td>0</td>\n",
       "      <td>2</td>\n",
       "      <td>1</td>\n",
       "    </tr>\n",
       "    <tr>\n",
       "      <th>2</th>\n",
       "      <td>41</td>\n",
       "      <td>0</td>\n",
       "      <td>1</td>\n",
       "      <td>130</td>\n",
       "      <td>204</td>\n",
       "      <td>0</td>\n",
       "      <td>0</td>\n",
       "      <td>172</td>\n",
       "      <td>0</td>\n",
       "      <td>1.4</td>\n",
       "      <td>2</td>\n",
       "      <td>0</td>\n",
       "      <td>2</td>\n",
       "      <td>1</td>\n",
       "    </tr>\n",
       "    <tr>\n",
       "      <th>3</th>\n",
       "      <td>56</td>\n",
       "      <td>1</td>\n",
       "      <td>1</td>\n",
       "      <td>120</td>\n",
       "      <td>236</td>\n",
       "      <td>0</td>\n",
       "      <td>1</td>\n",
       "      <td>178</td>\n",
       "      <td>0</td>\n",
       "      <td>0.8</td>\n",
       "      <td>2</td>\n",
       "      <td>0</td>\n",
       "      <td>2</td>\n",
       "      <td>1</td>\n",
       "    </tr>\n",
       "    <tr>\n",
       "      <th>4</th>\n",
       "      <td>57</td>\n",
       "      <td>0</td>\n",
       "      <td>0</td>\n",
       "      <td>120</td>\n",
       "      <td>354</td>\n",
       "      <td>0</td>\n",
       "      <td>1</td>\n",
       "      <td>163</td>\n",
       "      <td>1</td>\n",
       "      <td>0.6</td>\n",
       "      <td>2</td>\n",
       "      <td>0</td>\n",
       "      <td>2</td>\n",
       "      <td>1</td>\n",
       "    </tr>\n",
       "  </tbody>\n",
       "</table>\n",
       "</div>"
      ],
      "text/plain": [
       "   age  sex  cp  trtbps  chol  fbs  restecg  thalachh  exng  oldpeak  slp  \\\n",
       "0   63    1   3     145   233    1        0       150     0      2.3    0   \n",
       "1   37    1   2     130   250    0        1       187     0      3.5    0   \n",
       "2   41    0   1     130   204    0        0       172     0      1.4    2   \n",
       "3   56    1   1     120   236    0        1       178     0      0.8    2   \n",
       "4   57    0   0     120   354    0        1       163     1      0.6    2   \n",
       "\n",
       "   caa  thall  output  \n",
       "0    0      1       1  \n",
       "1    0      2       1  \n",
       "2    0      2       1  \n",
       "3    0      2       1  \n",
       "4    0      2       1  "
      ]
     },
     "execution_count": 3,
     "metadata": {},
     "output_type": "execute_result"
    }
   ],
   "source": [
    "df = pd.read_csv('./heart.csv')\n",
    "# df.dtypes\n",
    "# df.isnull().sum()\n",
    "# df.shape\n",
    "df.head()"
   ]
  },
  {
   "cell_type": "markdown",
   "metadata": {},
   "source": [
    "## Data Visualisation"
   ]
  },
  {
   "cell_type": "code",
   "execution_count": 3,
   "metadata": {},
   "outputs": [
    {
     "data": {
      "text/plain": [
       "<AxesSubplot:>"
      ]
     },
     "execution_count": 3,
     "metadata": {},
     "output_type": "execute_result"
    },
    {
     "data": {
      "image/png": "[encoded data removed]",
      "text/plain": [
       "<Figure size 432x288 with 1 Axes>"
      ]
     },
     "metadata": {
      "needs_background": "light"
     },
     "output_type": "display_data"
    }
   ],
   "source": [
    "df.corr()['output'].sort_values().plot.barh()"
   ]
  },
  {
   "cell_type": "code",
   "execution_count": 4,
   "metadata": {},
   "outputs": [
    {
     "data": {
      "image/png": "[encoded data removed]",
      "text/plain": [
       "<Figure size 1080x720 with 2 Axes>"
      ]
     },
     "metadata": {
      "needs_background": "light"
     },
     "output_type": "display_data"
    }
   ],
   "source": [
    "plt.figure(figsize=(15,10))\n",
    "sb.heatmap(df.corr(), annot=True)\n",
    "plt.show()"
   ]
  },
  {
   "cell_type": "markdown",
   "metadata": {},
   "source": [
    "## Data Enhancement & Preprocessing"
   ]
  },
  {
   "cell_type": "code",
   "execution_count": 5,
   "metadata": {},
   "outputs": [],
   "source": [
    "cat_cols = ['sex','cp','fbs','restecg','exng','slp','caa','thall']\n",
    "num_cols = ['age','trtbps','chol','thalachh','oldpeak']"
   ]
  },
  {
   "cell_type": "code",
   "execution_count": 4,
   "metadata": {},
   "outputs": [],
   "source": [
    "def data_enhancement(data):\n",
    "    \n",
    "    gen_data = data.copy()\n",
    "    \n",
    "    for i in data['cp'].unique():\n",
    "        chest_pain_type =  gen_data[gen_data['cp'] == i]\n",
    "        age = chest_pain_type['age'].std()\n",
    "        trtbps = chest_pain_type['trtbps'].std()\n",
    "        chol = chest_pain_type['chol'].std()\n",
    "        thalachh = chest_pain_type['thalachh'].std()\n",
    "        oldpeak = chest_pain_type['oldpeak'].std()\n",
    "        \n",
    "        for j in gen_data[gen_data['cp'] == i].index:\n",
    "            if np.random.randint(2) == 1:\n",
    "                gen_data['age'].values[i] += age/10\n",
    "            else:\n",
    "                gen_data['age'].values[i] -= age/10\n",
    "                \n",
    "            if np.random.randint(2) == 1:\n",
    "                gen_data['trtbps'].values[i] += trtbps/10\n",
    "            else:\n",
    "                gen_data['trtbps'].values[i] -= trtbps/10\n",
    "                \n",
    "            if np.random.randint(2) == 1:\n",
    "                gen_data['chol'].values[i] += chol/10\n",
    "            else:\n",
    "                gen_data['chol'].values[i] -= chol/10\n",
    "\n",
    "            if np.random.randint(2) == 1:\n",
    "                gen_data['thalachh'].values[i] += thalachh/10\n",
    "            else:\n",
    "                gen_data['thalachh'].values[i] -= thalachh/10\n",
    "                \n",
    "            if np.random.randint(2) == 1:\n",
    "                gen_data['oldpeak'].values[i] += oldpeak/10\n",
    "            else:\n",
    "                gen_data['oldpeak'].values[i] -= oldpeak/10\n",
    "\n",
    "    return gen_data\n",
    "\n",
    "gen = data_enhancement(df)\n"
   ]
  },
  {
   "cell_type": "code",
   "execution_count": 6,
   "metadata": {},
   "outputs": [
    {
     "data": {
      "text/html": [
       "<div>\n",
       "<style scoped>\n",
       "    .dataframe tbody tr th:only-of-type {\n",
       "        vertical-align: middle;\n",
       "    }\n",
       "\n",
       "    .dataframe tbody tr th {\n",
       "        vertical-align: top;\n",
       "    }\n",
       "\n",
       "    .dataframe thead th {\n",
       "        text-align: right;\n",
       "    }\n",
       "</style>\n",
       "<table border=\"1\" class=\"dataframe\">\n",
       "  <thead>\n",
       "    <tr style=\"text-align: right;\">\n",
       "      <th></th>\n",
       "      <th>age</th>\n",
       "      <th>sex</th>\n",
       "      <th>cp</th>\n",
       "      <th>trtbps</th>\n",
       "      <th>chol</th>\n",
       "      <th>fbs</th>\n",
       "      <th>restecg</th>\n",
       "      <th>thalachh</th>\n",
       "      <th>exng</th>\n",
       "      <th>caa</th>\n",
       "    </tr>\n",
       "  </thead>\n",
       "  <tbody>\n",
       "    <tr>\n",
       "      <th>0</th>\n",
       "      <td>63</td>\n",
       "      <td>1</td>\n",
       "      <td>3</td>\n",
       "      <td>145</td>\n",
       "      <td>233</td>\n",
       "      <td>1</td>\n",
       "      <td>0</td>\n",
       "      <td>150</td>\n",
       "      <td>0</td>\n",
       "      <td>0</td>\n",
       "    </tr>\n",
       "    <tr>\n",
       "      <th>1</th>\n",
       "      <td>37</td>\n",
       "      <td>1</td>\n",
       "      <td>2</td>\n",
       "      <td>130</td>\n",
       "      <td>250</td>\n",
       "      <td>0</td>\n",
       "      <td>1</td>\n",
       "      <td>187</td>\n",
       "      <td>0</td>\n",
       "      <td>0</td>\n",
       "    </tr>\n",
       "    <tr>\n",
       "      <th>2</th>\n",
       "      <td>41</td>\n",
       "      <td>0</td>\n",
       "      <td>1</td>\n",
       "      <td>130</td>\n",
       "      <td>204</td>\n",
       "      <td>0</td>\n",
       "      <td>0</td>\n",
       "      <td>172</td>\n",
       "      <td>0</td>\n",
       "      <td>0</td>\n",
       "    </tr>\n",
       "    <tr>\n",
       "      <th>3</th>\n",
       "      <td>56</td>\n",
       "      <td>1</td>\n",
       "      <td>1</td>\n",
       "      <td>120</td>\n",
       "      <td>236</td>\n",
       "      <td>0</td>\n",
       "      <td>1</td>\n",
       "      <td>178</td>\n",
       "      <td>0</td>\n",
       "      <td>0</td>\n",
       "    </tr>\n",
       "    <tr>\n",
       "      <th>4</th>\n",
       "      <td>57</td>\n",
       "      <td>0</td>\n",
       "      <td>0</td>\n",
       "      <td>120</td>\n",
       "      <td>354</td>\n",
       "      <td>0</td>\n",
       "      <td>1</td>\n",
       "      <td>163</td>\n",
       "      <td>1</td>\n",
       "      <td>0</td>\n",
       "    </tr>\n",
       "  </tbody>\n",
       "</table>\n",
       "</div>"
      ],
      "text/plain": [
       "   age  sex  cp  trtbps  chol  fbs  restecg  thalachh  exng  caa\n",
       "0   63    1   3     145   233    1        0       150     0    0\n",
       "1   37    1   2     130   250    0        1       187     0    0\n",
       "2   41    0   1     130   204    0        0       172     0    0\n",
       "3   56    1   1     120   236    0        1       178     0    0\n",
       "4   57    0   0     120   354    0        1       163     1    0"
      ]
     },
     "execution_count": 6,
     "metadata": {},
     "output_type": "execute_result"
    }
   ],
   "source": [
    "# Set x and y, and split them\n",
    "y = df['output']\n",
    "x = df.drop(['output', 'oldpeak', 'slp', 'thall'], axis=1)\n",
    "\n",
    "x_train, x_val, y_train, y_val = train_test_split(x, y, test_size=0.2, random_state=0)"
   ]
  },
  {
   "cell_type": "code",
   "execution_count": 8,
   "metadata": {},
   "outputs": [],
   "source": [
    "# ADD the generated data\n",
    "extra_sample = gen.sample(gen.shape[0] // 4)\n",
    "x_train = pd.concat([x_train, extra_sample.drop(['output', 'oldpeak', 'slp', 'thall'], axis=1)])\n",
    "y_train = pd.concat([y_train, extra_sample['output']])"
   ]
  },
  {
   "cell_type": "markdown",
   "metadata": {},
   "source": [
    "## Data Scaling"
   ]
  },
  {
   "cell_type": "code",
   "execution_count": 9,
   "metadata": {},
   "outputs": [],
   "source": [
    "scaler = StandardScaler()\n",
    "x_train = scaler.fit_transform(x_train)\n",
    "x_val = scaler.transform(x_val)"
   ]
  },
  {
   "cell_type": "markdown",
   "metadata": {},
   "source": [
    "## Models tested"
   ]
  },
  {
   "cell_type": "code",
   "execution_count": 10,
   "metadata": {},
   "outputs": [],
   "source": [
    "tree_classifiers = {\n",
    "  \"Support Vector Classifier\": SVC(),\n",
    "  \"LogisticRegression\": LogisticRegression(),\n",
    "  \"Gaussian Naive Bayes\": GaussianNB(),\n",
    "  \"k-NN\": KNeighborsClassifier(),\n",
    "  \"Decision Tree\": DecisionTreeClassifier(),\n",
    "  \"Extra Trees\": ExtraTreesClassifier(verbose=False),\n",
    "  \"Random Forest\": RandomForestClassifier(verbose=False),\n",
    "  \"AdaBoost\": AdaBoostClassifier(),\n",
    "  \"Skl GBM\": GradientBoostingClassifier(verbose=False),\n",
    "  \"Skl HistGBM\": HistGradientBoostingClassifier(verbose=False),\n",
    "  \"XGBoost\": XGBClassifier(use_label_encoder=False, verbosity=0),\n",
    "  \"LightGBM\": LGBMClassifier(),\n",
    "  \"CatBoost\": CatBoostClassifier(verbose=False)\n",
    "}"
   ]
  },
  {
   "cell_type": "code",
   "execution_count": 11,
   "metadata": {},
   "outputs": [
    {
     "name": "stdout",
     "output_type": "stream",
     "text": [
      "Finished Support Vector Classifier\n",
      "Finished LogisticRegression\n",
      "Finished Gaussian Naive Bayes\n",
      "Finished k-NN\n",
      "Finished Decision Tree\n",
      "Finished Extra Trees\n",
      "Finished Random Forest\n",
      "Finished AdaBoost\n",
      "Finished Skl GBM\n",
      "Finished Skl HistGBM\n",
      "Finished XGBoost\n",
      "Finished LightGBM\n",
      "Finished CatBoost\n"
     ]
    },
    {
     "data": {
      "text/html": [
       "<div>\n",
       "<style scoped>\n",
       "    .dataframe tbody tr th:only-of-type {\n",
       "        vertical-align: middle;\n",
       "    }\n",
       "\n",
       "    .dataframe tbody tr th {\n",
       "        vertical-align: top;\n",
       "    }\n",
       "\n",
       "    .dataframe thead th {\n",
       "        text-align: right;\n",
       "    }\n",
       "</style>\n",
       "<table border=\"1\" class=\"dataframe\">\n",
       "  <thead>\n",
       "    <tr style=\"text-align: right;\">\n",
       "      <th></th>\n",
       "      <th>Model</th>\n",
       "      <th>Accuracy</th>\n",
       "      <th>Bal Acc.</th>\n",
       "      <th>Time</th>\n",
       "    </tr>\n",
       "  </thead>\n",
       "  <tbody>\n",
       "    <tr>\n",
       "      <th>0</th>\n",
       "      <td>Extra Trees</td>\n",
       "      <td>91.803279</td>\n",
       "      <td>91.122004</td>\n",
       "      <td>0.096743</td>\n",
       "    </tr>\n",
       "    <tr>\n",
       "      <th>1</th>\n",
       "      <td>AdaBoost</td>\n",
       "      <td>91.803279</td>\n",
       "      <td>91.884532</td>\n",
       "      <td>0.072766</td>\n",
       "    </tr>\n",
       "    <tr>\n",
       "      <th>2</th>\n",
       "      <td>Support Vector Classifier</td>\n",
       "      <td>90.163934</td>\n",
       "      <td>90.032680</td>\n",
       "      <td>0.005952</td>\n",
       "    </tr>\n",
       "    <tr>\n",
       "      <th>3</th>\n",
       "      <td>Random Forest</td>\n",
       "      <td>90.163934</td>\n",
       "      <td>90.032680</td>\n",
       "      <td>0.141626</td>\n",
       "    </tr>\n",
       "    <tr>\n",
       "      <th>4</th>\n",
       "      <td>Skl HistGBM</td>\n",
       "      <td>90.163934</td>\n",
       "      <td>90.032680</td>\n",
       "      <td>0.361003</td>\n",
       "    </tr>\n",
       "    <tr>\n",
       "      <th>5</th>\n",
       "      <td>CatBoost</td>\n",
       "      <td>90.163934</td>\n",
       "      <td>90.032680</td>\n",
       "      <td>1.343611</td>\n",
       "    </tr>\n",
       "    <tr>\n",
       "      <th>6</th>\n",
       "      <td>Skl GBM</td>\n",
       "      <td>88.524590</td>\n",
       "      <td>88.943355</td>\n",
       "      <td>0.079782</td>\n",
       "    </tr>\n",
       "    <tr>\n",
       "      <th>7</th>\n",
       "      <td>XGBoost</td>\n",
       "      <td>88.524590</td>\n",
       "      <td>88.562092</td>\n",
       "      <td>0.082779</td>\n",
       "    </tr>\n",
       "    <tr>\n",
       "      <th>8</th>\n",
       "      <td>LightGBM</td>\n",
       "      <td>88.524590</td>\n",
       "      <td>88.562092</td>\n",
       "      <td>0.037898</td>\n",
       "    </tr>\n",
       "    <tr>\n",
       "      <th>9</th>\n",
       "      <td>LogisticRegression</td>\n",
       "      <td>86.885246</td>\n",
       "      <td>86.328976</td>\n",
       "      <td>0.002990</td>\n",
       "    </tr>\n",
       "    <tr>\n",
       "      <th>10</th>\n",
       "      <td>Decision Tree</td>\n",
       "      <td>85.245902</td>\n",
       "      <td>85.239651</td>\n",
       "      <td>0.000997</td>\n",
       "    </tr>\n",
       "    <tr>\n",
       "      <th>11</th>\n",
       "      <td>k-NN</td>\n",
       "      <td>83.606557</td>\n",
       "      <td>83.387800</td>\n",
       "      <td>0.004048</td>\n",
       "    </tr>\n",
       "    <tr>\n",
       "      <th>12</th>\n",
       "      <td>Gaussian Naive Bayes</td>\n",
       "      <td>81.967213</td>\n",
       "      <td>81.535948</td>\n",
       "      <td>0.001004</td>\n",
       "    </tr>\n",
       "  </tbody>\n",
       "</table>\n",
       "</div>"
      ],
      "text/plain": [
       "                        Model   Accuracy   Bal Acc.      Time\n",
       "0                 Extra Trees  91.803279  91.122004  0.096743\n",
       "1                    AdaBoost  91.803279  91.884532  0.072766\n",
       "2   Support Vector Classifier  90.163934  90.032680  0.005952\n",
       "3               Random Forest  90.163934  90.032680  0.141626\n",
       "4                 Skl HistGBM  90.163934  90.032680  0.361003\n",
       "5                    CatBoost  90.163934  90.032680  1.343611\n",
       "6                     Skl GBM  88.524590  88.943355  0.079782\n",
       "7                     XGBoost  88.524590  88.562092  0.082779\n",
       "8                    LightGBM  88.524590  88.562092  0.037898\n",
       "9          LogisticRegression  86.885246  86.328976  0.002990\n",
       "10              Decision Tree  85.245902  85.239651  0.000997\n",
       "11                       k-NN  83.606557  83.387800  0.004048\n",
       "12       Gaussian Naive Bayes  81.967213  81.535948  0.001004"
      ]
     },
     "execution_count": 11,
     "metadata": {},
     "output_type": "execute_result"
    }
   ],
   "source": [
    "results = pd.DataFrame({'Model': [], \n",
    "                        'Accuracy': [], \n",
    "                        'Bal Acc.': [], \n",
    "                        'Time': []})\n",
    "\n",
    "for model_name, model in tree_classifiers.items():\n",
    "        start_time = time()\n",
    "\n",
    "        model.fit(x_train, y_train)\n",
    "\n",
    "        pred = model.predict(x_val)\n",
    "\n",
    "        total_time = time() - start_time\n",
    "        print(f'Finished {model_name}')\n",
    "\n",
    "        results = results.append({\"Model\":  model_name,\n",
    "                                \"Accuracy\": accuracy_score(y_val, pred)*100,\n",
    "                                \"Bal Acc.\": balanced_accuracy_score(y_val, pred)*100,\n",
    "                                \"Time\":     total_time}, \n",
    "                                ignore_index=True)\n",
    "\n",
    "results_ord = results.sort_values(by=['Accuracy'], ascending=False, ignore_index=True)\n",
    "results_ord"
   ]
  },
  {
   "cell_type": "markdown",
   "metadata": {},
   "source": [
    "## Grid Search"
   ]
  },
  {
   "cell_type": "markdown",
   "metadata": {},
   "source": [
    "#### RandomForestClassifier"
   ]
  },
  {
   "cell_type": "code",
   "execution_count": 12,
   "metadata": {},
   "outputs": [
    {
     "name": "stdout",
     "output_type": "stream",
     "text": [
      "Fitting 10 folds for each of 375 candidates, totalling 3750 fits\n",
      "Best params: {'max_depth': 10, 'max_features': 2, 'min_samples_split': 2, 'n_estimators': 500}\n"
     ]
    }
   ],
   "source": [
    "rfc_params = {\"max_depth\": [2,4,6,8,10],\"max_features\": [2,4,6,8,10],\"n_estimators\": [10,500,1000],\"min_samples_split\": [2,4,6,8,10]}\n",
    "rfc = RandomForestClassifier()\n",
    "rfc_grid = GridSearchCV(rfc, rfc_params, cv=10, n_jobs=-1, verbose=2)\n",
    "rfc_grid.fit(x_train, y_train)\n",
    "print(\"Best params: \" + str(rfc_grid.best_params_))"
   ]
  },
  {
   "cell_type": "code",
   "execution_count": 24,
   "metadata": {},
   "outputs": [
    {
     "data": {
      "text/plain": [
       "0.9180327868852459"
      ]
     },
     "execution_count": 24,
     "metadata": {},
     "output_type": "execute_result"
    }
   ],
   "source": [
    "rfc_tuned = RandomForestClassifier(max_depth=10, max_features=2, min_samples_split=2, n_estimators=500)\n",
    "rfc_tuned.fit(x_train, y_train)\n",
    "preds_rfc_tuned = rfc_tuned.predict(x_val)\n",
    "accuracy_score(y_val, preds_rfc_tuned)"
   ]
  },
  {
   "cell_type": "markdown",
   "metadata": {},
   "source": [
    "#### k-NN"
   ]
  },
  {
   "cell_type": "code",
   "execution_count": 14,
   "metadata": {},
   "outputs": [
    {
     "name": "stdout",
     "output_type": "stream",
     "text": [
      "Best params: {'leaf_size': 10, 'n_neighbors': 20, 'p': 2}\n"
     ]
    }
   ],
   "source": [
    "knn_params = {\"leaf_size\" : [10,20,30,40,50,60],\"n_neighbors\" : [10,20,30,40,50,60],\"p\": [1,2]}\n",
    "knn = KNeighborsClassifier()\n",
    "knn_grid = GridSearchCV(knn, knn_params, cv=10)\n",
    "knn_grid.fit(x_train, y_train)\n",
    "print(\"Best params: \" + str(knn_grid.best_params_))"
   ]
  },
  {
   "cell_type": "code",
   "execution_count": 15,
   "metadata": {},
   "outputs": [
    {
     "data": {
      "text/plain": [
       "0.8688524590163934"
      ]
     },
     "execution_count": 15,
     "metadata": {},
     "output_type": "execute_result"
    }
   ],
   "source": [
    "knn_tuned = KNeighborsClassifier(leaf_size=10, n_neighbors=20, p=2)\n",
    "knn_tuned.fit(x_train, y_train)\n",
    "preds_knn_tuned = knn_tuned.predict(x_val)\n",
    "accuracy_score(y_val, preds_knn_tuned)"
   ]
  },
  {
   "cell_type": "markdown",
   "metadata": {},
   "source": [
    "#### SVC"
   ]
  },
  {
   "cell_type": "code",
   "execution_count": 16,
   "metadata": {},
   "outputs": [
    {
     "name": "stdout",
     "output_type": "stream",
     "text": [
      "Fitting 10 folds for each of 48 candidates, totalling 480 fits\n",
      "Best params: {'C': 100, 'gamma': 0.1, 'kernel': 'rbf'}\n"
     ]
    }
   ],
   "source": [
    "svc_params={\"C\": [0.1,1, 10, 100], \"gamma\": [1,0.1,0.01,0.001],\"kernel\": ['rbf', 'poly', 'sigmoid']}\n",
    "svc = SVC()\n",
    "svc_grid = GridSearchCV(svc, svc_params, cv=10, n_jobs=-1, verbose=2)\n",
    "svc_grid.fit(x_train, y_train)\n",
    "print(\"Best params: \" + str(svc_grid.best_params_))"
   ]
  },
  {
   "cell_type": "code",
   "execution_count": 17,
   "metadata": {},
   "outputs": [
    {
     "data": {
      "text/plain": [
       "0.9016393442622951"
      ]
     },
     "execution_count": 17,
     "metadata": {},
     "output_type": "execute_result"
    }
   ],
   "source": [
    "svc_tuned = SVC(C=100, gamma=0.1, kernel='rbf')\n",
    "svc_tuned.fit(x_train, y_train)\n",
    "preds_svc_tuned = svc_tuned.predict(x_val)\n",
    "accuracy_score(y_val, preds_svc_tuned)"
   ]
  },
  {
   "cell_type": "markdown",
   "metadata": {},
   "source": [
    "#### ExtraTreesClassifier"
   ]
  },
  {
   "cell_type": "code",
   "execution_count": 18,
   "metadata": {},
   "outputs": [
    {
     "name": "stdout",
     "output_type": "stream",
     "text": [
      "Fitting 10 folds for each of 500 candidates, totalling 5000 fits\n",
      "Best params: {'max_depth': 10, 'max_features': 6, 'min_samples_split': 4, 'n_estimators': 500}\n"
     ]
    }
   ],
   "source": [
    "etc_params = {\"max_depth\": [2,4,6,8,10],\"max_features\": [2,4,6,8,10],\"n_estimators\": [10,250,500,1000],\"min_samples_split\": [2,4,6,8,10]}\n",
    "etc = ExtraTreesClassifier()\n",
    "etc_grid = GridSearchCV(etc, etc_params, cv=10, n_jobs=-1, verbose=2)\n",
    "etc_grid.fit(x_train, y_train)\n",
    "print(\"Best params: \" + str(etc_grid.best_params_))"
   ]
  },
  {
   "cell_type": "code",
   "execution_count": 19,
   "metadata": {},
   "outputs": [
    {
     "data": {
      "text/plain": [
       "0.9344262295081968"
      ]
     },
     "execution_count": 19,
     "metadata": {},
     "output_type": "execute_result"
    }
   ],
   "source": [
    "etc_tuned = ExtraTreesClassifier(max_depth=10, max_features=6, min_samples_split=4, n_estimators=500)\n",
    "etc_tuned.fit(x_train, y_train)\n",
    "preds_etc_tuned = etc_tuned.predict(x_val)\n",
    "accuracy_score(y_val, preds_etc_tuned)"
   ]
  },
  {
   "cell_type": "markdown",
   "metadata": {},
   "source": [
    "#### AdaBoostClassifier"
   ]
  },
  {
   "cell_type": "code",
   "execution_count": 20,
   "metadata": {},
   "outputs": [
    {
     "name": "stdout",
     "output_type": "stream",
     "text": [
      "Fitting 10 folds for each of 16 candidates, totalling 160 fits\n",
      "Best params: {'learning_rate': 1, 'n_estimators': 100}\n"
     ]
    }
   ],
   "source": [
    "ada_params = {\"n_estimators\": [10,100,250,500], \"learning_rate\":[0.1,1,10,100]}\n",
    "ada = AdaBoostClassifier()\n",
    "ada_grid = GridSearchCV(ada, ada_params, cv=10, n_jobs=-1, verbose=2)\n",
    "ada_grid.fit(x_train, y_train)\n",
    "print(\"Best params: \" + str(ada_grid.best_params_))"
   ]
  },
  {
   "cell_type": "code",
   "execution_count": 21,
   "metadata": {},
   "outputs": [
    {
     "data": {
      "text/plain": [
       "0.9016393442622951"
      ]
     },
     "execution_count": 21,
     "metadata": {},
     "output_type": "execute_result"
    }
   ],
   "source": [
    "ada_tuned = AdaBoostClassifier(n_estimators=100)\n",
    "ada_tuned.fit(x_train, y_train)\n",
    "preds_ada_tuned = ada_tuned.predict(x_val)\n",
    "accuracy_score(y_val, preds_ada_tuned)"
   ]
  },
  {
   "cell_type": "markdown",
   "metadata": {},
   "source": [
    "#### HistGradientBoostingClassifier"
   ]
  },
  {
   "cell_type": "code",
   "execution_count": 22,
   "metadata": {},
   "outputs": [
    {
     "name": "stdout",
     "output_type": "stream",
     "text": [
      "Fitting 10 folds for each of 100 candidates, totalling 1000 fits\n",
      "Best params: {'learning_rate': 0.1, 'max_depth': 8, 'max_iter': 100}\n"
     ]
    }
   ],
   "source": [
    "hgbc_params = {\"learning_rate\":[0.1,1,10,100], \"max_iter\":[10,50,100,200,500],\"max_depth\": [2,4,6,8,10]}\n",
    "hgbc = HistGradientBoostingClassifier()\n",
    "hgbc_grid = GridSearchCV(hgbc, hgbc_params, cv=10, n_jobs=-1, verbose=2)\n",
    "hgbc_grid.fit(x_train, y_train)\n",
    "print(\"Best params: \" + str(hgbc_grid.best_params_))"
   ]
  },
  {
   "cell_type": "code",
   "execution_count": 23,
   "metadata": {},
   "outputs": [
    {
     "data": {
      "text/plain": [
       "0.9016393442622951"
      ]
     },
     "execution_count": 23,
     "metadata": {},
     "output_type": "execute_result"
    }
   ],
   "source": [
    "hgbc_tuned = HistGradientBoostingClassifier(max_depth=8)\n",
    "hgbc_tuned.fit(x_train, y_train)\n",
    "preds_hgbc_tuned = hgbc_tuned.predict(x_val)\n",
    "accuracy_score(y_val, preds_hgbc_tuned)"
   ]
  },
  {
   "cell_type": "markdown",
   "metadata": {},
   "source": [
    "### ExtraTreesClassifier got the best results with 93.4% accuracy"
   ]
  }
 ],
 "metadata": {
  "interpreter": {
   "hash": "d6e128dd2cf9bb12ecf94668e33e1546608d302a4f44df6f6afa2b8f73a532e1"
  },
  "kernelspec": {
   "display_name": "Python 3.9.7 64-bit ('Strive': conda)",
   "name": "python3"
  },
  "language_info": {
   "codemirror_mode": {
    "name": "ipython",
    "version": 3
   },
   "file_extension": ".py",
   "mimetype": "text/x-python",
   "name": "python",
   "nbconvert_exporter": "python",
   "pygments_lexer": "ipython3",
   "version": "3.9.7"
  }
 },
 "nbformat": 4,
 "nbformat_minor": 2
}
