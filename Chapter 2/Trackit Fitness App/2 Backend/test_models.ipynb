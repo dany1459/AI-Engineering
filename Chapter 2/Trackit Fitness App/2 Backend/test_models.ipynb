{
 "cells": [
  {
   "cell_type": "markdown",
   "metadata": {},
   "source": [
    "#### All import done here"
   ]
  },
  {
   "cell_type": "code",
   "execution_count": 49,
   "metadata": {},
   "outputs": [],
   "source": [
    "import pandas as pd\n",
    "import joblib\n",
    "from sklearn.metrics import accuracy_score"
   ]
  },
  {
   "cell_type": "markdown",
   "metadata": {},
   "source": [
    "#### Set paths for test data and models"
   ]
  },
  {
   "cell_type": "code",
   "execution_count": 50,
   "metadata": {},
   "outputs": [],
   "source": [
    "test_data_path = 'dataset_5secondWindow.csv'\n",
    "user1_path = 'test_user1.csv'\n",
    "user2_path = 'test_user2.csv'\n",
    "user3_path = 'test_user3.csv'\n",
    "\n",
    "model_path = 'model_lgb78.pkl'"
   ]
  },
  {
   "cell_type": "markdown",
   "metadata": {},
   "source": [
    "#### Preprocess data"
   ]
  },
  {
   "cell_type": "code",
   "execution_count": 51,
   "metadata": {},
   "outputs": [],
   "source": [
    "def prepo_data(path):\n",
    "\n",
    "    data = pd.read_csv(path)\n",
    "    indices_to_drop = [0, 2, 44, 45, 46, 47, 48, 49, 50, 51, 59, 67, 68, 69]\n",
    "    data = data.drop(data.columns[indices_to_drop], axis=1)\n",
    "    data.columns = data.columns.str.replace('android.sensor.', '').str.replace('#', '_')\n",
    "\n",
    "    return data\n",
    "\n",
    "user1 = prepo_data(user1_path)\n",
    "user2 = prepo_data(user2_path)\n",
    "user3 = prepo_data(user3_path)\n",
    "\n",
    "test_data = prepo_data(test_data_path)"
   ]
  },
  {
   "cell_type": "markdown",
   "metadata": {},
   "source": [
    "#### Get the labels to test the accuracy"
   ]
  },
  {
   "cell_type": "code",
   "execution_count": 52,
   "metadata": {},
   "outputs": [],
   "source": [
    "u1 = pd.read_csv(user1_path)\n",
    "y1 = u1.target\n",
    "u2 = pd.read_csv(user2_path)\n",
    "y2 = u2.target\n",
    "u3 = pd.read_csv(user3_path)\n",
    "y3 = u3.target\n",
    "\n",
    "test_d = pd.read_csv(test_data_path)\n",
    "y = test_d.target"
   ]
  },
  {
   "cell_type": "markdown",
   "metadata": {},
   "source": [
    "#### Load model"
   ]
  },
  {
   "cell_type": "code",
   "execution_count": 53,
   "metadata": {},
   "outputs": [],
   "source": [
    "def predict(data):\n",
    "\n",
    "    model = joblib.load(model_path)\n",
    "    \n",
    "    predictions = model.predict(data)\n",
    "\n",
    "    return predictions"
   ]
  },
  {
   "cell_type": "markdown",
   "metadata": {},
   "source": [
    "#### Test model"
   ]
  },
  {
   "cell_type": "code",
   "execution_count": 54,
   "metadata": {},
   "outputs": [
    {
     "data": {
      "text/plain": [
       "0.9746835443037974"
      ]
     },
     "execution_count": 54,
     "metadata": {},
     "output_type": "execute_result"
    }
   ],
   "source": [
    "predict(user1)\n",
    "accuracy_score(predict(user1), y1)"
   ]
  },
  {
   "cell_type": "code",
   "execution_count": 55,
   "metadata": {},
   "outputs": [
    {
     "data": {
      "text/plain": [
       "0.7859778597785978"
      ]
     },
     "execution_count": 55,
     "metadata": {},
     "output_type": "execute_result"
    }
   ],
   "source": [
    "predict(user2)\n",
    "accuracy_score(predict(user2), y2)"
   ]
  },
  {
   "cell_type": "code",
   "execution_count": 56,
   "metadata": {},
   "outputs": [
    {
     "data": {
      "text/plain": [
       "0.7390243902439024"
      ]
     },
     "execution_count": 56,
     "metadata": {},
     "output_type": "execute_result"
    }
   ],
   "source": [
    "predict(user3)\n",
    "accuracy_score(predict(user3), y3)"
   ]
  },
  {
   "cell_type": "code",
   "execution_count": 57,
   "metadata": {},
   "outputs": [
    {
     "data": {
      "text/plain": [
       "0.9275411505175633"
      ]
     },
     "execution_count": 57,
     "metadata": {},
     "output_type": "execute_result"
    }
   ],
   "source": [
    "predict(test_data)\n",
    "accuracy_score(predict(test_data), y)"
   ]
  }
 ],
 "metadata": {
  "interpreter": {
   "hash": "d6e128dd2cf9bb12ecf94668e33e1546608d302a4f44df6f6afa2b8f73a532e1"
  },
  "kernelspec": {
   "display_name": "Python 3.9.7 64-bit ('Strive': conda)",
   "name": "python3"
  },
  "language_info": {
   "codemirror_mode": {
    "name": "ipython",
    "version": 3
   },
   "file_extension": ".py",
   "mimetype": "text/x-python",
   "name": "python",
   "nbconvert_exporter": "python",
   "pygments_lexer": "ipython3",
   "version": "3.9.7"
  }
 },
 "nbformat": 4,
 "nbformat_minor": 2
}
