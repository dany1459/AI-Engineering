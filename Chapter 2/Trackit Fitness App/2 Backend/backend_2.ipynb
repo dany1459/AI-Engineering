{
 "cells": [
  {
   "cell_type": "code",
   "execution_count": 1,
   "metadata": {},
   "outputs": [],
   "source": [
    "import pandas as pd\n",
    "import numpy as np\n",
    "import joblib\n",
    "\n",
    "from sklearn.compose         import ColumnTransformer\n",
    "from sklearn.impute          import SimpleImputer\n",
    "from sklearn.preprocessing   import MinMaxScaler\n",
    "from sklearn.model_selection import train_test_split\n",
    "from sklearn.metrics         import accuracy_score, balanced_accuracy_score, classification_report\n",
    "from sklearn.pipeline        import Pipeline, make_pipeline\n",
    "\n",
    "from lightgbm           import LGBMClassifier\n",
    "from sklearn.ensemble   import RandomForestClassifier\n",
    "\n",
    "from time import time"
   ]
  },
  {
   "cell_type": "code",
   "execution_count": 2,
   "metadata": {},
   "outputs": [],
   "source": [
    "data = pd.read_csv(r'C:\\Users\\Igor\\Documents\\GitHub\\AI-Engineering\\Chapter 2\\Trackit Fitness App\\1 Data\\dataset_5secondWindow.csv')\n",
    "# data = data[data['target'] != 'Bus']\n",
    "# data = data[data['target'] != 'Train']"
   ]
  },
  {
   "cell_type": "code",
   "execution_count": 9,
   "metadata": {},
   "outputs": [],
   "source": [
    "# data.groupby('user').size().sort_values()"
   ]
  },
  {
   "cell_type": "code",
   "execution_count": 11,
   "metadata": {},
   "outputs": [
    {
     "name": "stdout",
     "output_type": "stream",
     "text": [
      "['U12', 'U1', 'U8', 'U7', 'U10', 'U13', 'U6', 'U11', 'U3', 'U2', 'U4', 'U9', 'U5']\n",
      "(5622, 70) (271, 70)\n",
      "(5622, 56) (271, 56)\n",
      "(5622, 55) (5622,)\n"
     ]
    }
   ],
   "source": [
    "def split_data(data):\n",
    "    \n",
    "    users = data.user.unique().tolist()\n",
    "    # users.sort()\n",
    "    print(users)\n",
    "\n",
    "    # train_users = users[2:]\n",
    "    # test_users = users[1:3]\n",
    "\n",
    "    train_users = ['U1', 'U3', 'U4', 'U5', 'U6', 'U7', 'U8', 'U9', 'U12', 'U10', 'U11', 'U13']\n",
    "    test_users = ['U2']\n",
    "\n",
    "    train_data = data[data['user'].isin(train_users)]\n",
    "    test_data = data[data['user'].isin(test_users)]\n",
    "\n",
    "    return train_data,test_data\n",
    "\n",
    "\n",
    "df_train, df_test = split_data(data)\n",
    "print(df_train.shape, df_test.shape)\n",
    "\n",
    "# df_train.to_csv('dataset_5secondWindow_TRAIN.csv', index=False)\n",
    "# df_test.to_csv('dataset_5secondWindow_TEST.csv', index=False)\n",
    "\n",
    "\n",
    "def clean_data(df_train, df_test):\n",
    "\n",
    "    df_train = df_train.drop(['activityrecognition#0', 'time', 'id', 'user'], axis=1)\n",
    "    df_train.columns = df_train.columns.str.replace('android.sensor.', '').str.replace('#', '_') # make features more readable\n",
    "    df_train_null = (df_train.isnull().sum() / len(df_train)).sort_values(ascending = False)\n",
    "    df_train_null = df_train_null.index[df_train_null >= 0.75]\n",
    "\n",
    "    df_test = df_test.drop(['activityrecognition#0', 'time', 'id', 'user'], axis=1)\n",
    "    df_test.columns = df_test.columns.str.replace('android.sensor.', '').str.replace('#', '_')\n",
    "    df_test_null = (df_test.isnull().sum() / len(df_test)).sort_values(ascending = False)\n",
    "    df_test_null = df_test_null.index[df_test_null >= 0.75]\n",
    "\n",
    "    all_null = list(set(set(df_train_null) | set(df_test_null)))\n",
    "\n",
    "    df_train = df_train.drop(all_null, axis=1)\n",
    "    df_test  = df_test.drop(all_null, axis=1)\n",
    "\n",
    "    print(df_train.shape, df_test.shape)\n",
    "    return df_train, df_test\n",
    "\n",
    "\n",
    "df_train, df_test = clean_data(df_train, df_test)\n",
    "y = df_train['target']\n",
    "x = df_train.drop('target', axis=1)\n",
    "print(x.shape, y.shape)"
   ]
  },
  {
   "cell_type": "code",
   "execution_count": 5,
   "metadata": {},
   "outputs": [
    {
     "name": "stdout",
     "output_type": "stream",
     "text": [
      "[LightGBM] [Warning] min_data_in_leaf is set=80, min_child_samples=20 will be ignored. Current value: min_data_in_leaf=80\n",
      "Finished LightGBM in 1.24 seconds\n",
      "Finished Random Forest in 1.49 seconds\n",
      "           Model   Accuracy   Bal Acc.      Time\n",
      "0       LightGBM  98.755556  98.759345  1.240697\n",
      "1  Random Forest  97.422222  97.398394  1.490397\n"
     ]
    }
   ],
   "source": [
    "my_classifiers = {\n",
    "  \"LightGBM\": LGBMClassifier(max_depth= 5, n_estimators= 270, num_leaves=20, min_data_in_leaf=80, learning_rate= 0.069),\n",
    "  \"Random Forest\": RandomForestClassifier(verbose=False)\n",
    "}\n",
    "                  \n",
    "num_4_models = Pipeline(steps=[ ('imputer', SimpleImputer(strategy='mean')),\n",
    "                                ('scaler', MinMaxScaler(feature_range=(0, 10)))\n",
    "                        ])\n",
    "\n",
    "preprocessor = ColumnTransformer(transformers=[ ('num', num_4_models, x.columns.to_list()) ], remainder='drop')\n",
    "my_classifiers_copy = {name: make_pipeline(preprocessor, model) for name, model in my_classifiers.items()}\n",
    "\n",
    "\n",
    "x_train, x_val, y_train, y_val = train_test_split(x, y, random_state=0, test_size=0.2, stratify=y)\n",
    "results = pd.DataFrame({'Model': [], 'Accuracy': [], 'Bal Acc.': [], 'Time': []})\n",
    "\n",
    "for model_name, model in my_classifiers_copy.items():\n",
    "        \n",
    "        start_time = time()\n",
    "        model.fit(x_train, y_train)\n",
    "        predictions = model.predict(x_val)\n",
    "        total_time = time() - start_time\n",
    "\n",
    "        print(f'Finished {model_name} in {round(total_time, 2)} seconds')\n",
    "        \n",
    "        results = results.append({\"Model\": model_name,\n",
    "                                  \"Accuracy\": accuracy_score(y_val, predictions)*100,\n",
    "                                  \"Bal Acc.\": balanced_accuracy_score(y_val, predictions)*100,\n",
    "                                  \"Time\": total_time},\n",
    "                                  ignore_index=True)\n",
    "                                \n",
    "results_ord = pd.DataFrame(results)\n",
    "results_ord = results_ord.sort_values(by=['Accuracy'], ascending=False, ignore_index=True)\n",
    "print(results_ord)\n"
   ]
  },
  {
   "cell_type": "code",
   "execution_count": 7,
   "metadata": {},
   "outputs": [
    {
     "name": "stdout",
     "output_type": "stream",
     "text": [
      "Finished LightGBM in 0.01 seconds, with an accuracy of: 87.4538745387454\n",
      "Finished Random Forest in 0.04 seconds, with an accuracy of: 84.13284132841329\n"
     ]
    }
   ],
   "source": [
    "yy = df_test['target']\n",
    "xx = df_test.drop('target', axis=1)\n",
    "\n",
    "for model_name, model in my_classifiers_copy.items():\n",
    "        \n",
    "        start_time = time()\n",
    "        preds = model.predict(xx)\n",
    "        total_time = time() - start_time\n",
    "\n",
    "        print(f'Finished {model_name} in {round(total_time, 2)} seconds, with an accuracy of: {accuracy_score(preds, yy)*100}')\n",
    "\n",
    "# print(classification_report(yy, preds))"
   ]
  },
  {
   "cell_type": "code",
   "execution_count": 8,
   "metadata": {},
   "outputs": [
    {
     "name": "stdout",
     "output_type": "stream",
     "text": [
      "[LightGBM] [Warning] min_data_in_leaf is set=80, min_child_samples=20 will be ignored. Current value: min_data_in_leaf=80\n"
     ]
    },
    {
     "data": {
      "text/plain": [
       "['model_lgb.pkl']"
      ]
     },
     "execution_count": 8,
     "metadata": {},
     "output_type": "execute_result"
    }
   ],
   "source": [
    "best_model = LGBMClassifier(max_depth= 5, n_estimators= 270, num_leaves=20, min_data_in_leaf=80, learning_rate= 0.069)\n",
    "best_model_pipe = make_pipeline(preprocessor, best_model)\n",
    "\n",
    "best_model_pipe.fit(x, y)\n",
    "# joblib.dump(best_model_pipe, 'model_lgb.pkl')"
   ]
  }
 ],
 "metadata": {
  "interpreter": {
   "hash": "d6e128dd2cf9bb12ecf94668e33e1546608d302a4f44df6f6afa2b8f73a532e1"
  },
  "kernelspec": {
   "display_name": "Python 3.9.7 64-bit ('Strive': conda)",
   "name": "python3"
  },
  "language_info": {
   "codemirror_mode": {
    "name": "ipython",
    "version": 3
   },
   "file_extension": ".py",
   "mimetype": "text/x-python",
   "name": "python",
   "nbconvert_exporter": "python",
   "pygments_lexer": "ipython3",
   "version": "3.9.7"
  }
 },
 "nbformat": 4,
 "nbformat_minor": 2
}
