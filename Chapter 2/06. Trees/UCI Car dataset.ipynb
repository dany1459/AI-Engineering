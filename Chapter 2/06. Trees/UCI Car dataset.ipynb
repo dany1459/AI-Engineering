{
 "cells": [
  {
   "cell_type": "markdown",
   "metadata": {},
   "source": [
    "## 1. Imports"
   ]
  },
  {
   "cell_type": "code",
   "execution_count": 335,
   "metadata": {},
   "outputs": [],
   "source": [
    "import pandas as pd\n",
    "from sklearn.tree import DecisionTreeClassifier\n",
    "from sklearn.ensemble import RandomForestClassifier\n",
    "from sklearn.model_selection import train_test_split\n",
    "\n",
    "from sklearn.metrics import plot_confusion_matrix\n",
    "from sklearn.tree import plot_tree\n",
    "\n",
    "from sklearn.datasets import load_iris\n",
    "\n",
    "from sklearn.preprocessing import MinMaxScaler, StandardScaler\n",
    "from sklearn.decomposition import PCA\n",
    "from sklearn.discriminant_analysis import LinearDiscriminantAnalysis"
   ]
  },
  {
   "cell_type": "markdown",
   "metadata": {},
   "source": [
    "## 2. Load Data"
   ]
  },
  {
   "cell_type": "code",
   "execution_count": 336,
   "id": "southwest-scottish",
   "metadata": {
    "ExecuteTime": {
     "end_time": "2021-07-06T13:10:14.144867Z",
     "start_time": "2021-07-06T13:10:14.142030Z"
    }
   },
   "outputs": [
    {
     "data": {
      "text/html": [
       "<div>\n",
       "<style scoped>\n",
       "    .dataframe tbody tr th:only-of-type {\n",
       "        vertical-align: middle;\n",
       "    }\n",
       "\n",
       "    .dataframe tbody tr th {\n",
       "        vertical-align: top;\n",
       "    }\n",
       "\n",
       "    .dataframe thead th {\n",
       "        text-align: right;\n",
       "    }\n",
       "</style>\n",
       "<table border=\"1\" class=\"dataframe\">\n",
       "  <thead>\n",
       "    <tr style=\"text-align: right;\">\n",
       "      <th></th>\n",
       "      <th>price</th>\n",
       "      <th>maintenance</th>\n",
       "      <th>doors</th>\n",
       "      <th>persons</th>\n",
       "      <th>luggage_booth</th>\n",
       "      <th>safety</th>\n",
       "      <th>class</th>\n",
       "    </tr>\n",
       "  </thead>\n",
       "  <tbody>\n",
       "    <tr>\n",
       "      <th>0</th>\n",
       "      <td>vhigh</td>\n",
       "      <td>vhigh</td>\n",
       "      <td>2</td>\n",
       "      <td>2</td>\n",
       "      <td>small</td>\n",
       "      <td>low</td>\n",
       "      <td>unacc</td>\n",
       "    </tr>\n",
       "    <tr>\n",
       "      <th>1</th>\n",
       "      <td>vhigh</td>\n",
       "      <td>vhigh</td>\n",
       "      <td>2</td>\n",
       "      <td>2</td>\n",
       "      <td>small</td>\n",
       "      <td>med</td>\n",
       "      <td>unacc</td>\n",
       "    </tr>\n",
       "    <tr>\n",
       "      <th>2</th>\n",
       "      <td>vhigh</td>\n",
       "      <td>vhigh</td>\n",
       "      <td>2</td>\n",
       "      <td>2</td>\n",
       "      <td>small</td>\n",
       "      <td>high</td>\n",
       "      <td>unacc</td>\n",
       "    </tr>\n",
       "    <tr>\n",
       "      <th>3</th>\n",
       "      <td>vhigh</td>\n",
       "      <td>vhigh</td>\n",
       "      <td>2</td>\n",
       "      <td>2</td>\n",
       "      <td>med</td>\n",
       "      <td>low</td>\n",
       "      <td>unacc</td>\n",
       "    </tr>\n",
       "    <tr>\n",
       "      <th>4</th>\n",
       "      <td>vhigh</td>\n",
       "      <td>vhigh</td>\n",
       "      <td>2</td>\n",
       "      <td>2</td>\n",
       "      <td>med</td>\n",
       "      <td>med</td>\n",
       "      <td>unacc</td>\n",
       "    </tr>\n",
       "    <tr>\n",
       "      <th>...</th>\n",
       "      <td>...</td>\n",
       "      <td>...</td>\n",
       "      <td>...</td>\n",
       "      <td>...</td>\n",
       "      <td>...</td>\n",
       "      <td>...</td>\n",
       "      <td>...</td>\n",
       "    </tr>\n",
       "    <tr>\n",
       "      <th>1723</th>\n",
       "      <td>low</td>\n",
       "      <td>low</td>\n",
       "      <td>5more</td>\n",
       "      <td>more</td>\n",
       "      <td>med</td>\n",
       "      <td>med</td>\n",
       "      <td>good</td>\n",
       "    </tr>\n",
       "    <tr>\n",
       "      <th>1724</th>\n",
       "      <td>low</td>\n",
       "      <td>low</td>\n",
       "      <td>5more</td>\n",
       "      <td>more</td>\n",
       "      <td>med</td>\n",
       "      <td>high</td>\n",
       "      <td>vgood</td>\n",
       "    </tr>\n",
       "    <tr>\n",
       "      <th>1725</th>\n",
       "      <td>low</td>\n",
       "      <td>low</td>\n",
       "      <td>5more</td>\n",
       "      <td>more</td>\n",
       "      <td>big</td>\n",
       "      <td>low</td>\n",
       "      <td>unacc</td>\n",
       "    </tr>\n",
       "    <tr>\n",
       "      <th>1726</th>\n",
       "      <td>low</td>\n",
       "      <td>low</td>\n",
       "      <td>5more</td>\n",
       "      <td>more</td>\n",
       "      <td>big</td>\n",
       "      <td>med</td>\n",
       "      <td>good</td>\n",
       "    </tr>\n",
       "    <tr>\n",
       "      <th>1727</th>\n",
       "      <td>low</td>\n",
       "      <td>low</td>\n",
       "      <td>5more</td>\n",
       "      <td>more</td>\n",
       "      <td>big</td>\n",
       "      <td>high</td>\n",
       "      <td>vgood</td>\n",
       "    </tr>\n",
       "  </tbody>\n",
       "</table>\n",
       "<p>1728 rows × 7 columns</p>\n",
       "</div>"
      ],
      "text/plain": [
       "      price maintenance  doors persons luggage_booth safety  class\n",
       "0     vhigh       vhigh      2       2         small    low  unacc\n",
       "1     vhigh       vhigh      2       2         small    med  unacc\n",
       "2     vhigh       vhigh      2       2         small   high  unacc\n",
       "3     vhigh       vhigh      2       2           med    low  unacc\n",
       "4     vhigh       vhigh      2       2           med    med  unacc\n",
       "...     ...         ...    ...     ...           ...    ...    ...\n",
       "1723    low         low  5more    more           med    med   good\n",
       "1724    low         low  5more    more           med   high  vgood\n",
       "1725    low         low  5more    more           big    low  unacc\n",
       "1726    low         low  5more    more           big    med   good\n",
       "1727    low         low  5more    more           big   high  vgood\n",
       "\n",
       "[1728 rows x 7 columns]"
      ]
     },
     "execution_count": 336,
     "metadata": {},
     "output_type": "execute_result"
    }
   ],
   "source": [
    "car_data = \"https://archive.ics.uci.edu/ml/machine-learning-databases/car/car.data\"\n",
    "\n",
    "columns = [\"price\",\"maintenance\",\"doors\",\"persons\",\"luggage_booth\",\"safety\",\"class\"]\n",
    "df = pd.read_csv(car_data, header=None, names=columns)\n",
    "df"
   ]
  },
  {
   "cell_type": "markdown",
   "metadata": {},
   "source": [
    "## 3. Process / Convert the data into unique numerical values"
   ]
  },
  {
   "cell_type": "code",
   "execution_count": 337,
   "id": "compliant-collaboration",
   "metadata": {
    "ExecuteTime": {
     "end_time": "2021-07-06T19:26:09.263024Z",
     "start_time": "2021-07-06T19:26:08.451100Z"
    }
   },
   "outputs": [
    {
     "data": {
      "text/html": [
       "<div>\n",
       "<style scoped>\n",
       "    .dataframe tbody tr th:only-of-type {\n",
       "        vertical-align: middle;\n",
       "    }\n",
       "\n",
       "    .dataframe tbody tr th {\n",
       "        vertical-align: top;\n",
       "    }\n",
       "\n",
       "    .dataframe thead th {\n",
       "        text-align: right;\n",
       "    }\n",
       "</style>\n",
       "<table border=\"1\" class=\"dataframe\">\n",
       "  <thead>\n",
       "    <tr style=\"text-align: right;\">\n",
       "      <th></th>\n",
       "      <th>price</th>\n",
       "      <th>maintenance</th>\n",
       "      <th>doors</th>\n",
       "      <th>persons</th>\n",
       "      <th>luggage_booth</th>\n",
       "      <th>safety</th>\n",
       "      <th>class</th>\n",
       "    </tr>\n",
       "  </thead>\n",
       "  <tbody>\n",
       "    <tr>\n",
       "      <th>0</th>\n",
       "      <td>4</td>\n",
       "      <td>4</td>\n",
       "      <td>2</td>\n",
       "      <td>2</td>\n",
       "      <td>1</td>\n",
       "      <td>1</td>\n",
       "      <td>1</td>\n",
       "    </tr>\n",
       "    <tr>\n",
       "      <th>1</th>\n",
       "      <td>4</td>\n",
       "      <td>4</td>\n",
       "      <td>2</td>\n",
       "      <td>2</td>\n",
       "      <td>1</td>\n",
       "      <td>2</td>\n",
       "      <td>1</td>\n",
       "    </tr>\n",
       "    <tr>\n",
       "      <th>2</th>\n",
       "      <td>4</td>\n",
       "      <td>4</td>\n",
       "      <td>2</td>\n",
       "      <td>2</td>\n",
       "      <td>1</td>\n",
       "      <td>3</td>\n",
       "      <td>1</td>\n",
       "    </tr>\n",
       "    <tr>\n",
       "      <th>3</th>\n",
       "      <td>4</td>\n",
       "      <td>4</td>\n",
       "      <td>2</td>\n",
       "      <td>2</td>\n",
       "      <td>2</td>\n",
       "      <td>1</td>\n",
       "      <td>1</td>\n",
       "    </tr>\n",
       "    <tr>\n",
       "      <th>4</th>\n",
       "      <td>4</td>\n",
       "      <td>4</td>\n",
       "      <td>2</td>\n",
       "      <td>2</td>\n",
       "      <td>2</td>\n",
       "      <td>2</td>\n",
       "      <td>1</td>\n",
       "    </tr>\n",
       "    <tr>\n",
       "      <th>...</th>\n",
       "      <td>...</td>\n",
       "      <td>...</td>\n",
       "      <td>...</td>\n",
       "      <td>...</td>\n",
       "      <td>...</td>\n",
       "      <td>...</td>\n",
       "      <td>...</td>\n",
       "    </tr>\n",
       "    <tr>\n",
       "      <th>1723</th>\n",
       "      <td>1</td>\n",
       "      <td>1</td>\n",
       "      <td>6</td>\n",
       "      <td>5</td>\n",
       "      <td>2</td>\n",
       "      <td>2</td>\n",
       "      <td>3</td>\n",
       "    </tr>\n",
       "    <tr>\n",
       "      <th>1724</th>\n",
       "      <td>1</td>\n",
       "      <td>1</td>\n",
       "      <td>6</td>\n",
       "      <td>5</td>\n",
       "      <td>2</td>\n",
       "      <td>3</td>\n",
       "      <td>4</td>\n",
       "    </tr>\n",
       "    <tr>\n",
       "      <th>1725</th>\n",
       "      <td>1</td>\n",
       "      <td>1</td>\n",
       "      <td>6</td>\n",
       "      <td>5</td>\n",
       "      <td>3</td>\n",
       "      <td>1</td>\n",
       "      <td>1</td>\n",
       "    </tr>\n",
       "    <tr>\n",
       "      <th>1726</th>\n",
       "      <td>1</td>\n",
       "      <td>1</td>\n",
       "      <td>6</td>\n",
       "      <td>5</td>\n",
       "      <td>3</td>\n",
       "      <td>2</td>\n",
       "      <td>3</td>\n",
       "    </tr>\n",
       "    <tr>\n",
       "      <th>1727</th>\n",
       "      <td>1</td>\n",
       "      <td>1</td>\n",
       "      <td>6</td>\n",
       "      <td>5</td>\n",
       "      <td>3</td>\n",
       "      <td>3</td>\n",
       "      <td>4</td>\n",
       "    </tr>\n",
       "  </tbody>\n",
       "</table>\n",
       "<p>1728 rows × 7 columns</p>\n",
       "</div>"
      ],
      "text/plain": [
       "      price  maintenance doors persons  luggage_booth  safety  class\n",
       "0         4            4     2       2              1       1      1\n",
       "1         4            4     2       2              1       2      1\n",
       "2         4            4     2       2              1       3      1\n",
       "3         4            4     2       2              2       1      1\n",
       "4         4            4     2       2              2       2      1\n",
       "...     ...          ...   ...     ...            ...     ...    ...\n",
       "1723      1            1     6       5              2       2      3\n",
       "1724      1            1     6       5              2       3      4\n",
       "1725      1            1     6       5              3       1      1\n",
       "1726      1            1     6       5              3       2      3\n",
       "1727      1            1     6       5              3       3      4\n",
       "\n",
       "[1728 rows x 7 columns]"
      ]
     },
     "execution_count": 337,
     "metadata": {},
     "output_type": "execute_result"
    }
   ],
   "source": [
    "df['price'] = df['price'].replace(to_replace=['vhigh','high','med','low'], value=[4,3,2,1])\n",
    "df['maintenance'] = df['maintenance'].replace(to_replace=['vhigh','high','med','low'], value=[4,3,2,1])\n",
    "df['doors'] = df['doors'].replace(to_replace=['5more'], value=[6])\n",
    "df['persons'] = df['persons'].replace(to_replace=['more'], value=[5])\n",
    "df['luggage_booth'] = df['luggage_booth'].replace(to_replace=['small','med','big'], value=[1,2,3])\n",
    "df['safety'] = df['safety'].replace(to_replace=['low','med','high'], value=[1,2,3])\n",
    "df['class'] = df['class'].replace(to_replace=['unacc','acc','good','vgood'], value=[1,2,3,4])\n",
    "df"
   ]
  },
  {
   "cell_type": "markdown",
   "metadata": {},
   "source": [
    "## 4. Split the data: attributes X + output class y"
   ]
  },
  {
   "cell_type": "code",
   "execution_count": 338,
   "id": "matched-negative",
   "metadata": {
    "ExecuteTime": {
     "end_time": "2021-07-06T19:26:27.967512Z",
     "start_time": "2021-07-06T19:26:27.960092Z"
    }
   },
   "outputs": [],
   "source": [
    "# convert to numpy\n",
    "cars = df.values\n",
    "X, y = cars[:, :-1], cars[:, -1]\n",
    "X, y = X.astype(int), y.astype(int) # convert to integer\n",
    "\n",
    "X_train, X_test, y_train, y_test = train_test_split(X, y, random_state=0, test_size=0.3)"
   ]
  },
  {
   "cell_type": "markdown",
   "metadata": {},
   "source": [
    "## 5. Decision Tree Classifier"
   ]
  },
  {
   "cell_type": "markdown",
   "metadata": {},
   "source": [
    "### a) Car evaluation dataset"
   ]
  },
  {
   "cell_type": "code",
   "execution_count": 339,
   "id": "consecutive-filing",
   "metadata": {
    "ExecuteTime": {
     "end_time": "2021-07-06T19:28:38.880293Z",
     "start_time": "2021-07-06T19:28:38.856654Z"
    }
   },
   "outputs": [
    {
     "data": {
      "text/plain": [
       "0.9826589595375722"
      ]
     },
     "execution_count": 339,
     "metadata": {},
     "output_type": "execute_result"
    }
   ],
   "source": [
    "dt_clf = DecisionTreeClassifier(random_state=0, criterion='gini', max_depth=11) # max_depth = 11 for max score\n",
    "# dt_clf = DecisionTreeClassifier(random_state=0, criterion='entropy', max_depth=22)\n",
    "\n",
    "dt_clf = dt_clf.fit(X_train, y_train)\n",
    "dt_clf.score(X_test, y_test)"
   ]
  },
  {
   "cell_type": "code",
   "execution_count": null,
   "id": "complete-herald",
   "metadata": {
    "ExecuteTime": {
     "end_time": "2021-07-06T19:31:14.282798Z",
     "start_time": "2021-07-06T19:31:13.778246Z"
    }
   },
   "outputs": [],
   "source": [
    "# plt.figure(figsize=(30, 30))\n",
    "# plot_tree(dt_clf,\n",
    "#           filled=True,\n",
    "#           rounded=True,\n",
    "#           class_names=[\"price\",\"maintenance\",\"doors\",\"persons\",\"luggage_booth\",\"safety\",\"class\"],\n",
    "#          feature_names=df.columns)"
   ]
  },
  {
   "cell_type": "code",
   "execution_count": 340,
   "id": "dynamic-service",
   "metadata": {
    "ExecuteTime": {
     "end_time": "2021-07-06T19:46:00.582453Z",
     "start_time": "2021-07-06T19:45:59.979728Z"
    }
   },
   "outputs": [
    {
     "data": {
      "text/plain": [
       "<sklearn.metrics._plot.confusion_matrix.ConfusionMatrixDisplay at 0x275b273ad90>"
      ]
     },
     "execution_count": 340,
     "metadata": {},
     "output_type": "execute_result"
    },
    {
     "data": {
      "image/png": "[encoded data removed]",
      "text/plain": [
       "<Figure size 432x288 with 2 Axes>"
      ]
     },
     "metadata": {
      "needs_background": "light"
     },
     "output_type": "display_data"
    }
   ],
   "source": [
    "plot_confusion_matrix(dt_clf, X_test, y_test, display_labels=[\"unacc\",\"acc\",\"good\",\"vgood\"])"
   ]
  },
  {
   "cell_type": "markdown",
   "metadata": {},
   "source": [
    "### b) Iris dataset"
   ]
  },
  {
   "cell_type": "code",
   "execution_count": 342,
   "metadata": {},
   "outputs": [
    {
     "data": {
      "text/plain": [
       "0.9777777777777777"
      ]
     },
     "execution_count": 342,
     "metadata": {},
     "output_type": "execute_result"
    }
   ],
   "source": [
    "# load the data + process the data\n",
    "iris = load_iris()\n",
    "df_iris = pd.DataFrame(iris.data, columns=iris.feature_names)\n",
    "df_iris[\"target\"] = iris.target\n",
    "df_iris.columns = [col.replace(\"(cm)\", \"\").strip() for col in df_iris.columns]\n",
    "\n",
    "# split the data\n",
    "flowers = df_iris.values\n",
    "Xf, yf = flowers[:, :-1], flowers[:, -1]\n",
    "Xf_train, Xf_test, yf_train, yf_test = train_test_split(Xf, yf, random_state=0, test_size=0.3)\n",
    "\n",
    "# run through DecisionTreeClassifier\n",
    "dt_clf = DecisionTreeClassifier(random_state=0, criterion='gini', max_depth=11)\n",
    "dt_clf = dt_clf.fit(Xf_train, yf_train)\n",
    "dt_clf.score(Xf_test, yf_test)"
   ]
  },
  {
   "cell_type": "markdown",
   "metadata": {},
   "source": [
    "## 6. Random Forest Classifier"
   ]
  },
  {
   "cell_type": "markdown",
   "metadata": {},
   "source": [
    "### a) Car evaluation dataset"
   ]
  },
  {
   "cell_type": "code",
   "execution_count": 341,
   "metadata": {},
   "outputs": [
    {
     "data": {
      "text/plain": [
       "0.9845857418111753"
      ]
     },
     "execution_count": 341,
     "metadata": {},
     "output_type": "execute_result"
    }
   ],
   "source": [
    "# max_depth=13 + n_estimators=70 for max score 0.984585...\n",
    "clf = RandomForestClassifier(n_estimators=70, criterion='gini', max_depth=13, \n",
    "            random_state=0, max_features='auto', #class_weight='balanced',\n",
    "            max_leaf_nodes=None, min_samples_leaf=1, min_samples_split=2, # default values\n",
    "            oob_score=True)\n",
    "# max_features='auto' => sqrt(n_features)\n",
    "clf = clf.fit(X_train, y_train)\n",
    "clf.score(X_test, y_test)"
   ]
  },
  {
   "cell_type": "code",
   "execution_count": null,
   "metadata": {},
   "outputs": [],
   "source": [
    "plot_confusion_matrix(clf, X_test, y_test, display_labels=[\"unacc\",\"acc\",\"good\",\"vgood\"])"
   ]
  },
  {
   "cell_type": "code",
   "execution_count": 347,
   "metadata": {},
   "outputs": [
    {
     "data": {
      "text/plain": [
       "0.9826589595375722"
      ]
     },
     "execution_count": 347,
     "metadata": {},
     "output_type": "execute_result"
    }
   ],
   "source": [
    "# MinMaxScaler()\n",
    "\n",
    "mm_scaler = MinMaxScaler()\n",
    "X_train_scaled = mm_scaler.fit_transform(X_train)\n",
    "X_test_scaled = mm_scaler.fit_transform(X_test)\n",
    "\n",
    "clf.fit(X_train_scaled, y_train)\n",
    "clf.score( X_test_scaled, y_test)"
   ]
  },
  {
   "cell_type": "code",
   "execution_count": 349,
   "metadata": {},
   "outputs": [
    {
     "data": {
      "text/plain": [
       "0.9826589595375722"
      ]
     },
     "execution_count": 349,
     "metadata": {},
     "output_type": "execute_result"
    }
   ],
   "source": [
    "# Standard Scaler()\n",
    "\n",
    "scaler = StandardScaler()\n",
    "X_train_sscaled = scaler.fit_transform(X_train)\n",
    "X_test_sscaled = scaler.fit_transform(X_test)\n",
    "\n",
    "clf.fit(X_train_sscaled, y_train)\n",
    "clf.score( X_test_sscaled, y_test)"
   ]
  },
  {
   "cell_type": "code",
   "execution_count": 348,
   "metadata": {},
   "outputs": [
    {
     "data": {
      "text/plain": [
       "0.9614643545279383"
      ]
     },
     "execution_count": 348,
     "metadata": {},
     "output_type": "execute_result"
    }
   ],
   "source": [
    "# PCA()\n",
    "\n",
    "pca = PCA(n_components=6)\n",
    "\n",
    "pca_cars_train = pca.fit_transform(X_train)\n",
    "pca_cars_test = pca.transform(X_test)\n",
    "\n",
    "clf.fit(pca_cars_train, y_train)\n",
    "predictions = clf.predict(pca_cars_test)\n",
    "(predictions == y_test).sum()/len(y_test)"
   ]
  },
  {
   "cell_type": "markdown",
   "metadata": {},
   "source": [
    "### b) Iris dataset"
   ]
  },
  {
   "cell_type": "code",
   "execution_count": 343,
   "metadata": {},
   "outputs": [
    {
     "data": {
      "text/plain": [
       "0.9777777777777777"
      ]
     },
     "execution_count": 343,
     "metadata": {},
     "output_type": "execute_result"
    }
   ],
   "source": [
    "# Random Forest Classifier\n",
    "\n",
    "clf = clf.fit(Xf_train, yf_train)\n",
    "clf.score(Xf_test, yf_test)"
   ]
  },
  {
   "cell_type": "code",
   "execution_count": 344,
   "metadata": {},
   "outputs": [
    {
     "data": {
      "text/plain": [
       "0.8666666666666667"
      ]
     },
     "execution_count": 344,
     "metadata": {},
     "output_type": "execute_result"
    }
   ],
   "source": [
    "# MinMaxScaler()\n",
    "\n",
    "mm_scaler = MinMaxScaler()\n",
    "Xf_train_scaled = mm_scaler.fit_transform(Xf_train)\n",
    "Xf_test_scaled = mm_scaler.fit_transform(Xf_test)\n",
    "\n",
    "clf.fit(Xf_train_scaled, yf_train)\n",
    "clf.score( Xf_test_scaled, yf_test)"
   ]
  },
  {
   "cell_type": "code",
   "execution_count": 345,
   "metadata": {},
   "outputs": [
    {
     "data": {
      "text/plain": [
       "0.8888888888888888"
      ]
     },
     "execution_count": 345,
     "metadata": {},
     "output_type": "execute_result"
    }
   ],
   "source": [
    "# Standard Scaler()\n",
    "\n",
    "scaler = StandardScaler()\n",
    "Xf_train_scaledd = scaler.fit_transform(Xf_train)\n",
    "Xf_test_scaledd = scaler.fit_transform(Xf_test)\n",
    "\n",
    "clf.fit(Xf_train_scaledd, yf_train)\n",
    "clf.score( Xf_test_scaledd, yf_test)"
   ]
  },
  {
   "cell_type": "code",
   "execution_count": 346,
   "metadata": {},
   "outputs": [
    {
     "data": {
      "text/plain": [
       "0.9777777777777777"
      ]
     },
     "execution_count": 346,
     "metadata": {},
     "output_type": "execute_result"
    }
   ],
   "source": [
    "# PCA()\n",
    "\n",
    "pca = PCA(n_components=2)\n",
    "\n",
    "pca_flowers_train = pca.fit_transform(Xf_train)\n",
    "pca_flowers_test = pca.transform(Xf_test)\n",
    "\n",
    "clf.fit(pca_flowers_train, yf_train)\n",
    "predictions = clf.predict(pca_flowers_test)\n",
    "(predictions == yf_test).sum()/len(yf_test)"
   ]
  }
 ],
 "metadata": {
  "interpreter": {
   "hash": "d6e128dd2cf9bb12ecf94668e33e1546608d302a4f44df6f6afa2b8f73a532e1"
  },
  "kernelspec": {
   "display_name": "Python 3.9.7 64-bit ('Strive': conda)",
   "name": "python3"
  },
  "language_info": {
   "codemirror_mode": {
    "name": "ipython",
    "version": 3
   },
   "file_extension": ".py",
   "mimetype": "text/x-python",
   "name": "python",
   "nbconvert_exporter": "python",
   "pygments_lexer": "ipython3",
   "version": "3.9.7"
  },
  "varInspector": {
   "cols": {
    "lenName": 16,
    "lenType": 16,
    "lenVar": 40
   },
   "kernels_config": {
    "python": {
     "delete_cmd_postfix": "",
     "delete_cmd_prefix": "del ",
     "library": "var_list.py",
     "varRefreshCmd": "print(var_dic_list())"
    },
    "r": {
     "delete_cmd_postfix": ") ",
     "delete_cmd_prefix": "rm(",
     "library": "var_list.r",
     "varRefreshCmd": "cat(var_dic_list()) "
    }
   },
   "types_to_exclude": [
    "module",
    "function",
    "builtin_function_or_method",
    "instance",
    "_Feature"
   ],
   "window_display": false
  }
 },
 "nbformat": 4,
 "nbformat_minor": 5
}
